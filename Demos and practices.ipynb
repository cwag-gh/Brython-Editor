{
 "cells": [
  {
   "cell_type": "markdown",
   "id": "f3e1ed5a-33a8-4bc5-be88-3d8afde06942",
   "metadata": {},
   "source": [
    "# Outputs, Variables and Inputs"
   ]
  },
  {
   "cell_type": "code",
   "execution_count": 1,
   "id": "3cfd8f55-d45a-4c94-85ab-218ecf898e88",
   "metadata": {},
   "outputs": [
    {
     "name": "stdin",
     "output_type": "stream",
     "text": [
      "What is the radius:  10\n"
     ]
    },
    {
     "name": "stdout",
     "output_type": "stream",
     "text": [
      "The area of circle is 314.15926\n"
     ]
    }
   ],
   "source": [
    "\"\"\"\n",
    "Demo\n",
    "Area calculator: area of the circle\n",
    "\"\"\"\n",
    "# The pi = 3.1415926\n",
    "pi = 3.1415926\n",
    "# Input prompt\n",
    "radius = float(input(\"What is the radius: \"))\n",
    "# Math calculations: power and multiply\n",
    "area_of_circle = radius ** 2 * pi\n",
    "# String operations: generate the output string\n",
    "information = \"The area of circle is \" + str(area_of_circle)\n",
    "# Display the output infomation\n",
    "print(information)"
   ]
  },
  {
   "cell_type": "code",
   "execution_count": 2,
   "id": "500e269f-7c95-4eb0-aa54-7da7451eb5a7",
   "metadata": {},
   "outputs": [
    {
     "name": "stdin",
     "output_type": "stream",
     "text": [
      "What is the weight in pounds:  10\n"
     ]
    },
    {
     "name": "stdout",
     "output_type": "stream",
     "text": [
      "The weight is equal to 4535.9237 grams.\n"
     ]
    }
   ],
   "source": [
    "\"\"\"\n",
    "Practice\n",
    "Unit converter: from pounds to grams\n",
    "\"\"\"\n",
    "# The convertion ratio is 453.59237 grams = 1 pound\n",
    "grams_per_pound = 453.59237\n",
    "# Input prompt\n",
    "weight_in_pounds = float(input(\"What is the weight in pounds: \"))\n",
    "# Math calculations: multiply\n",
    "weight_in_grams = grams_per_pound * weight_in_pounds\n",
    "# String operations: generate the output string\n",
    "information = \"The weight is equal to \" + str(weight_in_grams) + \" grams.\"\n",
    "# Display the output infomation\n",
    "print(information)"
   ]
  },
  {
   "cell_type": "markdown",
   "id": "0c9fd505-7b0c-4197-bbd9-5bbeb172708e",
   "metadata": {},
   "source": [
    "# If logic"
   ]
  },
  {
   "cell_type": "code",
   "execution_count": 5,
   "id": "8e751611-0447-4c95-8f3b-f027790b726f",
   "metadata": {},
   "outputs": [
    {
     "name": "stdin",
     "output_type": "stream",
     "text": [
      "What is the shape, input \"rectangle\" or \"triangle\":  triangle\n",
      "What is width of the triangle:  10\n",
      "What is height of the triangle:  20\n"
     ]
    },
    {
     "name": "stdout",
     "output_type": "stream",
     "text": [
      "The area of the triangle is 100.0\n"
     ]
    }
   ],
   "source": [
    "\"\"\"\n",
    "Demo\n",
    "Area calculator\n",
    "If is used to decide the shape\n",
    "\"\"\"\n",
    "# Input the shape\n",
    "shape = input(\"What is the shape, input \\\"rectangle\\\" or \\\"triangle\\\": \")\n",
    "# Input the dimentions\n",
    "width = float(input(\"What is width of the \" + shape + \": \"))\n",
    "height = float(input(\"What is height of the \" + shape + \": \"))\n",
    "# If logic for different calculation equation\n",
    "if shape == \"rectangle\":\n",
    "    area = width * height\n",
    "else:\n",
    "    area = width * height / 2\n",
    "# display result\n",
    "print(\"The area of the\",\n",
    "     shape,\n",
    "     \"is\",\n",
    "     area)"
   ]
  },
  {
   "cell_type": "code",
   "execution_count": 7,
   "id": "bed0aae6-77c5-441c-855c-3ea02db5ba19",
   "metadata": {},
   "outputs": [
    {
     "name": "stdin",
     "output_type": "stream",
     "text": [
      "Which unit are you currently using? Please input \"pound\" or \"gram\":  pound\n",
      "What is the weight in pounds:  10\n"
     ]
    },
    {
     "name": "stdout",
     "output_type": "stream",
     "text": [
      "10.0 pound s are equal to 4535.9237 grams\n"
     ]
    }
   ],
   "source": [
    "\"\"\"\n",
    "Practice\n",
    "two-way unit converter\n",
    "If is used to decide the direction\n",
    "\"\"\"\n",
    "# The convertion ratio is 453.59237 grams = 1 pound\n",
    "grams_per_pound = 453.59237\n",
    "# Input the original unit\n",
    "original_unit = input(\"Which unit are you currently using? Please input \\\"pound\\\" or \\\"gram\\\": \")\n",
    "# Input the weight value\n",
    "original_value = float(input(\"What is the weight in \" + original_unit + \"s: \"))\n",
    "# If logic for different calculation equation\n",
    "if original_unit == \"pound\": # if the unit is \"pound\"\n",
    "    # calculate the output value\n",
    "    target_value = original_value * grams_per_pound\n",
    "    # decide the target unit\n",
    "    target_unit = \"gram\"\n",
    "else: # if the unit is \"gram\"\n",
    "    # calculate the output value\n",
    "    target_value = original_value / grams_per_pound\n",
    "    # decide the target unit\n",
    "    target_unit = \"pound\"\n",
    "# display the result\n",
    "print(original_value,\n",
    "     original_unit,\n",
    "     \"s are equal to\",\n",
    "     target_value,\n",
    "     target_unit + \"s\")"
   ]
  },
  {
   "cell_type": "code",
   "execution_count": 8,
   "id": "7a761470-906b-464f-8fbe-717e0596a2b5",
   "metadata": {},
   "outputs": [
    {
     "name": "stdin",
     "output_type": "stream",
     "text": [
      "Which unit are you currently using? Please input \"pound\" or \"gram\":  dish washer\n",
      "What is the weight in dish washers:  3\n"
     ]
    },
    {
     "name": "stdout",
     "output_type": "stream",
     "text": [
      "dish washer is not a supported unit\n",
      "3.0 dish washer s are equal to 4535.9237 grams\n"
     ]
    }
   ],
   "source": [
    "\"\"\"\n",
    "Bonus point\n",
    "detect non-supported input\n",
    "\"\"\"\n",
    "# The convertion ratio is 453.59237 grams = 1 pound\n",
    "grams_per_pound = 453.59237\n",
    "# Input the original unit\n",
    "original_unit = input(\"Which unit are you currently using? Please input \\\"pound\\\" or \\\"gram\\\": \")\n",
    "# Input the weight value\n",
    "original_value = float(input(\"What is the weight in \" + original_unit + \"s: \"))\n",
    "# If logic for different calculation equation\n",
    "if original_unit == \"pound\": # if the unit is \"pound\"\n",
    "    # calculate the output value\n",
    "    target_value = original_value * grams_per_pound\n",
    "    # decide the target unit\n",
    "    target_unit = \"gram\"\n",
    "elif original_unit == \"gram\": # if the unit is \"gram\"\n",
    "    # calculate the output value\n",
    "    target_value = original_value / grams_per_pound\n",
    "    # decide the target unit\n",
    "    target_unit = \"pound\"\n",
    "else:\n",
    "    print(original_unit, \"is not a supported unit\")\n",
    "    exit()\n",
    "# display the result\n",
    "print(original_value,\n",
    "     original_unit,\n",
    "     \"s are equal to\",\n",
    "     target_value,\n",
    "     target_unit + \"s\")"
   ]
  },
  {
   "cell_type": "markdown",
   "id": "27e64384-7a2f-416c-b6ab-9911504db280",
   "metadata": {},
   "source": [
    "# List and Loop"
   ]
  },
  {
   "cell_type": "code",
   "execution_count": 2,
   "id": "cb4b9a6e-156a-4280-b6fb-4ad9356c1d96",
   "metadata": {},
   "outputs": [
    {
     "name": "stdin",
     "output_type": "stream",
     "text": [
      "What is the radius? type \"end\" to stop:  10\n",
      "What is the radius? type \"end\" to stop:  20\n",
      "What is the radius? type \"end\" to stop:  end\n"
     ]
    },
    {
     "name": "stdout",
     "output_type": "stream",
     "text": [
      "1 The area of circle with radius 10.0 is 314.15926\n",
      "2 The area of circle with radius 20.0 is 1256.63704\n"
     ]
    }
   ],
   "source": [
    "\"\"\"\n",
    "Demo\n",
    "Area calculator: area of the circle\n",
    "\"\"\"\n",
    "# The pi = 3.1415926\n",
    "pi = 3.1415926\n",
    "\n",
    "# data container\n",
    "radiuses = []\n",
    "# while loop used for unkonwn number of repeat\n",
    "while True: # infinite loop\n",
    "    # get input text\n",
    "    text_input = input(\"What is the radius? type \\\"end\\\" to stop: \")\n",
    "    # if logic to decide if ended\n",
    "    if text_input == \"end\":\n",
    "        break # jump out of the loop\n",
    "    # if not breaked add the value to list\n",
    "    radiuses.append(float(text_input))\n",
    "    \n",
    "# for loop used for konwn number of repeat\n",
    "for i in range(len(radiuses)):\n",
    "    # Math calculations: power and multiply\n",
    "    area_of_circle = radiuses[i] ** 2 * pi\n",
    "    # Display the output infomation\n",
    "    print(i+1,\n",
    "          \"The area of circle\",\n",
    "          \"with radius\",\n",
    "          radiuses[i],\n",
    "          \"is\",\n",
    "          area_of_circle)"
   ]
  },
  {
   "cell_type": "code",
   "execution_count": null,
   "id": "671621ec-83d0-4172-a481-88b6a3898a0e",
   "metadata": {},
   "outputs": [],
   "source": []
  }
 ],
 "metadata": {
  "kernelspec": {
   "display_name": "Python 3",
   "language": "python",
   "name": "python3"
  },
  "language_info": {
   "codemirror_mode": {
    "name": "ipython",
    "version": 3
   },
   "file_extension": ".py",
   "mimetype": "text/x-python",
   "name": "python",
   "nbconvert_exporter": "python",
   "pygments_lexer": "ipython3",
   "version": "3.7.10"
  }
 },
 "nbformat": 4,
 "nbformat_minor": 5
}
