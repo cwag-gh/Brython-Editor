{
 "cells": [
  {
   "cell_type": "markdown",
   "id": "0f527f99-e168-4fab-b4ae-95a1c1f5d679",
   "metadata": {},
   "source": [
    "# Output"
   ]
  },
  {
   "cell_type": "code",
   "execution_count": 1,
   "id": "06ba7291-307d-47c2-ba11-7e567cc42afe",
   "metadata": {},
   "outputs": [
    {
     "name": "stdout",
     "output_type": "stream",
     "text": [
      "Hello, World!\n"
     ]
    }
   ],
   "source": [
    "print(\"Hello, World!\")"
   ]
  },
  {
   "cell_type": "markdown",
   "id": "d4bbcf22-db2d-4c1d-9c17-7897b12750b3",
   "metadata": {},
   "source": [
    "- It is a ritual for beginning to study a programming language\n",
    "- `print()` is a *function*\n",
    "    - what's inside is its *parameter*\n",
    "    - what this function does is to display parameters in the *console*\n",
    "    - The mostly used function in programming, without \"one of\"\n",
    "- `\"Hello, World!\"` is a *string*\n",
    "    - String, means a string of letters, aka words.\n",
    "    - A string is a piece of data\n",
    "    - `\"\"` is used to indicate what ever inside are the content of the string"
   ]
  },
  {
   "cell_type": "markdown",
   "id": "d73f8dd2-8c87-44a2-b592-35fdb31a5961",
   "metadata": {},
   "source": [
    "# Variables"
   ]
  },
  {
   "cell_type": "code",
   "execution_count": 2,
   "id": "1620683e-4ed9-4418-be53-b69bf53c099a",
   "metadata": {},
   "outputs": [
    {
     "name": "stdout",
     "output_type": "stream",
     "text": [
      "Hello, World!\n",
      "Hello, World!\n"
     ]
    }
   ],
   "source": [
    "words = \"Hello, World!\"\n",
    "print(words)\n",
    "print(words)"
   ]
  },
  {
   "cell_type": "markdown",
   "id": "09ff9e7a-00dc-4c14-ad99-734a3703c571",
   "metadata": {},
   "source": [
    "- `words` is a string *variable*\n",
    "    - a variable is the container of a piece of data\n",
    "    - each variable have a *type*\n",
    "        - which can be checked by `type()` function\n",
    "- The value of the variable can be *set* by `=`\n",
    "    - this `=` operation is also called *assignment*\n",
    "- The first set operation of a variable creates the variable\n",
    "    - In other programming language, this initial set operation is called *defining a variable*\n",
    "- The *value* of a variable can be *get* by calling its name, such as in `print(words)`\n",
    "    - *get* operation can be used for multiple times\n",
    "        - in contrast with `print(\"Hello, World!\")`, where `\"Hello, World!\"` disappears after the `print()` operation"
   ]
  },
  {
   "cell_type": "code",
   "execution_count": 3,
   "id": "5d941c96-e1eb-41ae-8799-8eff0addc088",
   "metadata": {},
   "outputs": [
    {
     "name": "stdout",
     "output_type": "stream",
     "text": [
      "<class 'str'>\n"
     ]
    }
   ],
   "source": [
    "print(type(words))"
   ]
  },
  {
   "cell_type": "code",
   "execution_count": 4,
   "id": "02335fa0-5e92-4dbe-bef2-17d9e5609b10",
   "metadata": {},
   "outputs": [
    {
     "name": "stdout",
     "output_type": "stream",
     "text": [
      "10\n",
      "<class 'int'>\n",
      "3.1415926\n",
      "<class 'float'>\n",
      "6.5331852\n",
      "20.25\n"
     ]
    }
   ],
   "source": [
    "num_of_people = 10\n",
    "pi = 3.1415926\n",
    "print(num_of_people)\n",
    "print(type(num_of_people))\n",
    "print(pi)\n",
    "print(type(pi))\n",
    "print(2 * pi + 1 - (3 / 4))\n",
    "print(2 * num_of_people + 1 - (3 / 4))"
   ]
  },
  {
   "cell_type": "markdown",
   "id": "d56ae79e-a857-4bc3-b176-558c3e6b14e4",
   "metadata": {},
   "source": [
    "- Variables can also be numbers\n",
    "- `num_of_people` is an interger, aka whole number\n",
    "    - its type is *int*\n",
    "        - don't worry about the word *class* here, we are going to talk about that later\n",
    "- `pi` is a decimal number\n",
    "    - decimal number are called `float` in programming\n",
    "- `print()` operation can accept almost any kinds of variables, and display them in reasonable ways\n",
    "- math operations: ()+_*/ all works here\n",
    "    - `*` cannot be omitted \n",
    "    - operation order is the same as in math"
   ]
  },
  {
   "cell_type": "code",
   "execution_count": 5,
   "id": "54247903-9b38-4f79-a2a8-90affe2e9c88",
   "metadata": {},
   "outputs": [
    {
     "name": "stdout",
     "output_type": "stream",
     "text": [
      "Hello, World! (^_^)/\n"
     ]
    }
   ],
   "source": [
    "print(words + ' (^_^)/')"
   ]
  },
  {
   "cell_type": "markdown",
   "id": "1542f6ce-a558-4da7-a659-ca4321f466bf",
   "metadata": {},
   "source": [
    "- strings can be connected by `+` sign"
   ]
  },
  {
   "cell_type": "code",
   "execution_count": 6,
   "id": "3f16d7ff-7706-44d3-beaf-f2ef781d9957",
   "metadata": {},
   "outputs": [
    {
     "name": "stdout",
     "output_type": "stream",
     "text": [
      "3.1415926\n",
      "<class 'str'>\n"
     ]
    }
   ],
   "source": [
    "print(str(pi))\n",
    "print(type(str(pi)))"
   ]
  },
  {
   "cell_type": "markdown",
   "id": "ae8f8fad-62f3-4927-bc5d-d5c6345c46d1",
   "metadata": {},
   "source": [
    "* Types of variables can be converted by `typename(variable)`"
   ]
  },
  {
   "cell_type": "code",
   "execution_count": 7,
   "id": "977c988b-1fe3-4829-84a8-2675ee5a579f",
   "metadata": {},
   "outputs": [
    {
     "name": "stdout",
     "output_type": "stream",
     "text": [
      "pi = 3.1415926\n"
     ]
    }
   ],
   "source": [
    "print('pi = ' + str(pi))"
   ]
  },
  {
   "cell_type": "markdown",
   "id": "b1fa7c4d-5c5f-46b3-9336-56a2841ec598",
   "metadata": {},
   "source": [
    "- this is how we display words and numbers together\n",
    "    - first convert number number to string\n",
    "    - then connect the strings together"
   ]
  },
  {
   "cell_type": "markdown",
   "id": "9fa0b211-1dca-4271-86ce-363f2526cd32",
   "metadata": {},
   "source": [
    "# Inputs"
   ]
  },
  {
   "cell_type": "code",
   "execution_count": 8,
   "id": "da73826d-bd39-400b-8172-a2e4ada71955",
   "metadata": {},
   "outputs": [
    {
     "name": "stdin",
     "output_type": "stream",
     "text": [
      "what is the radius: 10\n"
     ]
    },
    {
     "name": "stdout",
     "output_type": "stream",
     "text": [
      "10\n",
      "<class 'str'>\n"
     ]
    }
   ],
   "source": [
    "radius = input('what is the radius:')\n",
    "print(radius)\n",
    "print(type(radius))"
   ]
  },
  {
   "cell_type": "markdown",
   "id": "5f323248-8bdb-4a94-b12c-c890ca37dd1b",
   "metadata": {},
   "source": [
    "- `input()` is a function\n",
    "    - this function has a *return value*\n",
    "    - `variable = function(parameter)` will *assign* the return value to the variable\n",
    "    - parameter is optional, but you better have one.\n",
    "        - code has two aspects\n",
    "            - for computers to run\n",
    "            - for humans to read\n",
    "                - if you don't tell the users what to input, users are going to be confused\n",
    "- *return value* of the `input()` function is always a string\n",
    "    - if you want to get a number, you can convert the type"
   ]
  },
  {
   "cell_type": "code",
   "execution_count": 9,
   "id": "0a51dad3-41a6-49bc-900b-6c69d0986c07",
   "metadata": {},
   "outputs": [
    {
     "name": "stdin",
     "output_type": "stream",
     "text": [
      "what is the radius: 10\n"
     ]
    },
    {
     "name": "stdout",
     "output_type": "stream",
     "text": [
      "10.0\n",
      "<class 'float'>\n"
     ]
    }
   ],
   "source": [
    "radius = float(input('what is the radius:'))\n",
    "print(radius)\n",
    "print(type(radius))"
   ]
  },
  {
   "cell_type": "code",
   "execution_count": null,
   "id": "13da9993-1ffc-4ee5-a465-493c219c6fad",
   "metadata": {},
   "outputs": [],
   "source": []
  }
 ],
 "metadata": {
  "kernelspec": {
   "display_name": "Python 3",
   "language": "python",
   "name": "python3"
  },
  "language_info": {
   "codemirror_mode": {
    "name": "ipython",
    "version": 3
   },
   "file_extension": ".py",
   "mimetype": "text/x-python",
   "name": "python",
   "nbconvert_exporter": "python",
   "pygments_lexer": "ipython3",
   "version": "3.7.10"
  }
 },
 "nbformat": 4,
 "nbformat_minor": 5
}
