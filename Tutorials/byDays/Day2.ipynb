{
 "cells": [
  {
   "cell_type": "markdown",
   "id": "a607d557-b9a0-4fcf-8e90-f25496cb3d04",
   "metadata": {},
   "source": [
    "# Lecture Notes"
   ]
  },
  {
   "cell_type": "markdown",
   "id": "62142ed2-2d1b-49aa-a742-3e9baea9f4dd",
   "metadata": {},
   "source": [
    "## Bool"
   ]
  },
  {
   "cell_type": "code",
   "execution_count": 14,
   "id": "d16b33f7-1222-4692-948b-93cc87e71504",
   "metadata": {},
   "outputs": [
    {
     "name": "stdout",
     "output_type": "stream",
     "text": [
      "<class 'bool'>\n"
     ]
    }
   ],
   "source": [
    "statement = True\n",
    "print(type(statement))"
   ]
  },
  {
   "cell_type": "markdown",
   "id": "a5d8c7c3-02b3-42eb-8529-7a422264df9e",
   "metadata": {},
   "source": [
    "- here introduce a new type of variable: *boolean variable* or `bool`\n",
    "    - in addition to `str`, `int`, `float`"
   ]
  },
  {
   "cell_type": "code",
   "execution_count": 15,
   "id": "e20fc484-e869-42c1-8a30-07906cce34ce",
   "metadata": {},
   "outputs": [
    {
     "name": "stdout",
     "output_type": "stream",
     "text": [
      "True\n",
      "True\n",
      "False\n"
     ]
    }
   ],
   "source": [
    "print(1 == 1)\n",
    "number = -3\n",
    "print(number >= -5)\n",
    "statement = 3 > 5\n",
    "print(statement)"
   ]
  },
  {
   "cell_type": "markdown",
   "id": "2ab7fad7-3e83-4b46-97eb-1bb68db02a23",
   "metadata": {},
   "source": [
    "- a true/false statement can *return* a Boolean value\n",
    "- number comarison is a kind of statement\n",
    "    - includes: `>`, `<`, `==`, `>=`, `<=`\n",
    "        - `==` because `=` means *assignment* in python and most of the programming language."
   ]
  },
  {
   "cell_type": "code",
   "execution_count": 16,
   "id": "7ccc41bc-b0c1-4558-9e50-0a4038b168a7",
   "metadata": {},
   "outputs": [
    {
     "name": "stdout",
     "output_type": "stream",
     "text": [
      "True\n",
      "False\n"
     ]
    }
   ],
   "source": [
    "fruit = 'apple'\n",
    "print(fruit == 'apple')\n",
    "print(fruit == 'banana')"
   ]
  },
  {
   "cell_type": "markdown",
   "id": "60de05c6-d1ef-4d5a-bd96-24cee1b3f63b",
   "metadata": {},
   "source": [
    "- also used to compare strings\n",
    "    - but only `==`"
   ]
  },
  {
   "cell_type": "markdown",
   "id": "82970f35-2bdc-486d-96cb-798655e511ef",
   "metadata": {},
   "source": [
    "## If"
   ]
  },
  {
   "cell_type": "code",
   "execution_count": 17,
   "id": "52d881bb-01b2-4ecd-824e-b40fff9c5407",
   "metadata": {},
   "outputs": [
    {
     "name": "stdin",
     "output_type": "stream",
     "text": [
      "input an integer 15\n"
     ]
    }
   ],
   "source": [
    "a = int(input('input an integer'))\n",
    "if a > 100:\n",
    "    print(a, 'is greater than 100')"
   ]
  },
  {
   "cell_type": "code",
   "execution_count": 18,
   "id": "b479cd2c-3c63-40e6-a773-223b35b95651",
   "metadata": {},
   "outputs": [
    {
     "name": "stdin",
     "output_type": "stream",
     "text": [
      "input an integer 15\n"
     ]
    },
    {
     "name": "stdout",
     "output_type": "stream",
     "text": [
      "15 is less than or equal to 100\n"
     ]
    }
   ],
   "source": [
    "a = int(input('input an integer'))\n",
    "if a > 100:\n",
    "    print(a, 'is greater than 100')\n",
    "else:\n",
    "    print(a, 'is less than or equal to 100')"
   ]
  },
  {
   "cell_type": "code",
   "execution_count": 19,
   "id": "5851f7b2-aa65-48d3-8a33-a0a36c78698b",
   "metadata": {},
   "outputs": [
    {
     "name": "stdin",
     "output_type": "stream",
     "text": [
      "input an integer 15\n"
     ]
    },
    {
     "name": "stdout",
     "output_type": "stream",
     "text": [
      "15 is less than to 100\n"
     ]
    }
   ],
   "source": [
    "a = int(input('input an integer'))\n",
    "if a > 100:\n",
    "    print(a, 'is greater than 100')\n",
    "elif a < 100:\n",
    "    print(a, 'is less than to 100')\n",
    "else:\n",
    "    print(a, 'is equal to 100')"
   ]
  },
  {
   "cell_type": "markdown",
   "id": "26e32c5c-b8f8-4efc-9680-51053861716e",
   "metadata": {},
   "source": [
    "- format\n",
    "    - keywords\n",
    "    - true false statement as condition\n",
    "    - `:`\n",
    "    - indention\n",
    "    - no empty lines"
   ]
  },
  {
   "cell_type": "markdown",
   "id": "fc0d44a6-0706-498c-b447-cf88f3456b4d",
   "metadata": {},
   "source": [
    "## For Loop"
   ]
  },
  {
   "cell_type": "code",
   "execution_count": 31,
   "id": "11a5d053-c203-48b6-8d85-be06283096c7",
   "metadata": {},
   "outputs": [
    {
     "name": "stdout",
     "output_type": "stream",
     "text": [
      "0\n",
      "1\n",
      "2\n",
      "3\n",
      "4\n",
      "5\n",
      "6\n",
      "7\n",
      "8\n",
      "9\n"
     ]
    }
   ],
   "source": [
    "for i in range(10):\n",
    "    print(i)"
   ]
  },
  {
   "cell_type": "markdown",
   "id": "b1eb1af6-0587-4e26-870a-aa43c15f9cc8",
   "metadata": {},
   "source": [
    "- format\n",
    "    - keywords\n",
    "    - number in side `range()` is the number of reapt\n",
    "    - `i` is the index and it starts from 0\n",
    "    - `:`\n",
    "    - indention\n",
    "    - no empty lines\n",
    "    "
   ]
  },
  {
   "cell_type": "markdown",
   "id": "a722667b-ad25-4ae7-93d2-82844b8a388f",
   "metadata": {},
   "source": [
    "---\n",
    "## Demo Project"
   ]
  },
  {
   "cell_type": "code",
   "execution_count": 1,
   "id": "179ca832-cfa4-4cc7-ab78-98e1566940b1",
   "metadata": {},
   "outputs": [
    {
     "name": "stdout",
     "output_type": "stream",
     "text": [
      "*----\n",
      "\n",
      "**---\n",
      "\n",
      "***--\n",
      "\n",
      "****-\n",
      "\n",
      "*****\n",
      "\n"
     ]
    }
   ],
   "source": [
    "size = 5\n",
    "for i in range(size):\n",
    "  for j in range(size):\n",
    "    if i >= j:\n",
    "      print('*', end='')\n",
    "    else:\n",
    "      print('-', end='')\n",
    "  print('\\n')"
   ]
  }
 ],
 "metadata": {
  "kernelspec": {
   "display_name": "Python 3",
   "language": "python",
   "name": "python3"
  },
  "language_info": {
   "codemirror_mode": {
    "name": "ipython",
    "version": 3
   },
   "file_extension": ".py",
   "mimetype": "text/x-python",
   "name": "python",
   "nbconvert_exporter": "python",
   "pygments_lexer": "ipython3",
   "version": "3.7.10"
  }
 },
 "nbformat": 4,
 "nbformat_minor": 5
}
