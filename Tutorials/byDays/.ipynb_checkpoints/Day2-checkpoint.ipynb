{
 "cells": [
  {
   "cell_type": "markdown",
   "id": "a607d557-b9a0-4fcf-8e90-f25496cb3d04",
   "metadata": {},
   "source": [
    "# Lecture Notes"
   ]
  },
  {
   "cell_type": "markdown",
   "id": "62142ed2-2d1b-49aa-a742-3e9baea9f4dd",
   "metadata": {},
   "source": [
    "## Bool"
   ]
  },
  {
   "cell_type": "code",
   "execution_count": 14,
   "id": "d16b33f7-1222-4692-948b-93cc87e71504",
   "metadata": {},
   "outputs": [
    {
     "name": "stdout",
     "output_type": "stream",
     "text": [
      "<class 'bool'>\n"
     ]
    }
   ],
   "source": [
    "statement = True\n",
    "print(type(statement))"
   ]
  },
  {
   "cell_type": "markdown",
   "id": "a5d8c7c3-02b3-42eb-8529-7a422264df9e",
   "metadata": {},
   "source": [
    "- here introduce a new type of variable: *boolean variable* or `bool`\n",
    "    - in addition to `str`, `int`, `float`"
   ]
  },
  {
   "cell_type": "code",
   "execution_count": 15,
   "id": "e20fc484-e869-42c1-8a30-07906cce34ce",
   "metadata": {},
   "outputs": [
    {
     "name": "stdout",
     "output_type": "stream",
     "text": [
      "True\n",
      "True\n",
      "False\n"
     ]
    }
   ],
   "source": [
    "print(1 == 1)\n",
    "number = -3\n",
    "print(number >= -5)\n",
    "statement = 3 > 5\n",
    "print(statement)"
   ]
  },
  {
   "cell_type": "markdown",
   "id": "2ab7fad7-3e83-4b46-97eb-1bb68db02a23",
   "metadata": {},
   "source": [
    "- a true/false statement can *return* a Boolean value\n",
    "- number comarison is a kind of statement\n",
    "    - includes: `>`, `<`, `==`, `>=`, `<=`\n",
    "        - `==` because `=` means *assignment* in python and most of the programming language."
   ]
  },
  {
   "cell_type": "code",
   "execution_count": 16,
   "id": "7ccc41bc-b0c1-4558-9e50-0a4038b168a7",
   "metadata": {},
   "outputs": [
    {
     "name": "stdout",
     "output_type": "stream",
     "text": [
      "True\n",
      "False\n"
     ]
    }
   ],
   "source": [
    "fruit = 'apple'\n",
    "print(fruit == 'apple')\n",
    "print(fruit == 'banana')"
   ]
  },
  {
   "cell_type": "markdown",
   "id": "60de05c6-d1ef-4d5a-bd96-24cee1b3f63b",
   "metadata": {},
   "source": [
    "- also used to compare strings\n",
    "    - but only `==`"
   ]
  },
  {
   "cell_type": "markdown",
   "id": "82970f35-2bdc-486d-96cb-798655e511ef",
   "metadata": {},
   "source": [
    "## If"
   ]
  },
  {
   "cell_type": "code",
   "execution_count": 17,
   "id": "52d881bb-01b2-4ecd-824e-b40fff9c5407",
   "metadata": {},
   "outputs": [
    {
     "name": "stdin",
     "output_type": "stream",
     "text": [
      "input an integer 15\n"
     ]
    }
   ],
   "source": [
    "a = int(input('input an integer'))\n",
    "if a > 100:\n",
    "    print(a, 'is greater than 100')"
   ]
  },
  {
   "cell_type": "code",
   "execution_count": 18,
   "id": "b479cd2c-3c63-40e6-a773-223b35b95651",
   "metadata": {},
   "outputs": [
    {
     "name": "stdin",
     "output_type": "stream",
     "text": [
      "input an integer 15\n"
     ]
    },
    {
     "name": "stdout",
     "output_type": "stream",
     "text": [
      "15 is less than or equal to 100\n"
     ]
    }
   ],
   "source": [
    "a = int(input('input an integer'))\n",
    "if a > 100:\n",
    "    print(a, 'is greater than 100')\n",
    "else:\n",
    "    print(a, 'is less than or equal to 100')"
   ]
  },
  {
   "cell_type": "code",
   "execution_count": 19,
   "id": "5851f7b2-aa65-48d3-8a33-a0a36c78698b",
   "metadata": {},
   "outputs": [
    {
     "name": "stdin",
     "output_type": "stream",
     "text": [
      "input an integer 15\n"
     ]
    },
    {
     "name": "stdout",
     "output_type": "stream",
     "text": [
      "15 is less than to 100\n"
     ]
    }
   ],
   "source": [
    "a = int(input('input an integer'))\n",
    "if a > 100:\n",
    "    print(a, 'is greater than 100')\n",
    "elif a < 100:\n",
    "    print(a, 'is less than to 100')\n",
    "else:\n",
    "    print(a, 'is equal to 100')"
   ]
  },
  {
   "cell_type": "markdown",
   "id": "26e32c5c-b8f8-4efc-9680-51053861716e",
   "metadata": {},
   "source": [
    "- format\n",
    "    - keywords\n",
    "    - true false statement as condition\n",
    "    - `:`\n",
    "    - indention\n",
    "    - no empty lines"
   ]
  },
  {
   "cell_type": "markdown",
   "id": "2908f960-82c9-4034-a3f9-fd35316eef74",
   "metadata": {},
   "source": [
    "## list (CRUD)"
   ]
  },
  {
   "cell_type": "markdown",
   "id": "c17dc368-48f5-4cd2-b2f4-f90bbbc76584",
   "metadata": {},
   "source": [
    "### **C**reate"
   ]
  },
  {
   "cell_type": "code",
   "execution_count": 20,
   "id": "e5596286-d8b0-4fcc-83e8-86c695c6dc30",
   "metadata": {},
   "outputs": [
    {
     "name": "stdout",
     "output_type": "stream",
     "text": [
      "[1, 2, 3]\n",
      "<class 'list'>\n"
     ]
    }
   ],
   "source": [
    "nums = [1, 2, 3]\n",
    "print(nums)\n",
    "print(type(nums))"
   ]
  },
  {
   "cell_type": "markdown",
   "id": "9def9cfb-8624-4369-8ea3-9edfdd5b485e",
   "metadata": {},
   "source": [
    "- create a list by `[]`\n",
    "- can be printed out directly"
   ]
  },
  {
   "cell_type": "code",
   "execution_count": 21,
   "id": "b51403dd-7264-46f9-aeff-28fe71ede9dc",
   "metadata": {},
   "outputs": [
    {
     "name": "stdout",
     "output_type": "stream",
     "text": [
      "[]\n",
      "[1]\n",
      "[1, 2]\n"
     ]
    }
   ],
   "source": [
    "nums = []\n",
    "print(nums)\n",
    "nums.append(1)\n",
    "print(nums)\n",
    "nums.append(2)\n",
    "print(nums)"
   ]
  },
  {
   "cell_type": "markdown",
   "id": "382a4ff9-2043-4abe-8109-a2287a8173a3",
   "metadata": {},
   "source": [
    "- add an item at the end by `list.append(item)`\n",
    "    - end means right when print"
   ]
  },
  {
   "cell_type": "code",
   "execution_count": 22,
   "id": "4a7bc134-3f72-48c4-92c7-823daa5d3159",
   "metadata": {},
   "outputs": [
    {
     "name": "stdout",
     "output_type": "stream",
     "text": [
      "[1, 2, 3, 100, 200, 300, 400]\n"
     ]
    }
   ],
   "source": [
    "first_part = [1, 2, 3]\n",
    "last_part = [100, 200, 300, 400]\n",
    "all_parts = first_part + last_part\n",
    "print(all_parts)"
   ]
  },
  {
   "cell_type": "markdown",
   "id": "3bcc84ef-480a-49eb-9e71-31f5eb57ae8b",
   "metadata": {},
   "source": [
    "- use `+` to connect the lists"
   ]
  },
  {
   "cell_type": "markdown",
   "id": "dea806e9-7695-4b2f-b132-f1361e443fcb",
   "metadata": {},
   "source": [
    "### **R**ead"
   ]
  },
  {
   "cell_type": "code",
   "execution_count": 23,
   "id": "08d4aa84-e5f0-4bd1-bc82-5abb7ad9a94a",
   "metadata": {},
   "outputs": [
    {
     "name": "stdout",
     "output_type": "stream",
     "text": [
      "10\n",
      "20\n",
      "30\n"
     ]
    }
   ],
   "source": [
    "nums = [10, 20, 30]\n",
    "print(nums[0])\n",
    "print(nums[1])\n",
    "print(nums[2])"
   ]
  },
  {
   "cell_type": "markdown",
   "id": "9c76c5b4-e8ce-4715-b51a-e004382cf3e1",
   "metadata": {},
   "source": [
    "- index starts at 0\n",
    "- the index of last index is *length* - 1"
   ]
  },
  {
   "cell_type": "code",
   "execution_count": 24,
   "id": "0ebbba89-72b6-4fc6-b2ca-c146df6d8354",
   "metadata": {},
   "outputs": [
    {
     "name": "stdout",
     "output_type": "stream",
     "text": [
      "30\n",
      "20\n",
      "10\n"
     ]
    }
   ],
   "source": [
    "print(nums[-1])\n",
    "print(nums[-2])\n",
    "print(nums[-3])"
   ]
  },
  {
   "cell_type": "markdown",
   "id": "89a32fde-7d9c-42bc-8541-af61eca8107c",
   "metadata": {},
   "source": [
    "- if use nagitive index\n",
    "    - `-1` is the last index"
   ]
  },
  {
   "cell_type": "code",
   "execution_count": 25,
   "id": "22090ee0-ef36-4831-8138-46f4e15eed92",
   "metadata": {},
   "outputs": [
    {
     "name": "stdout",
     "output_type": "stream",
     "text": [
      "11\n"
     ]
    }
   ],
   "source": [
    "print(nums[0] + 1)"
   ]
  },
  {
   "cell_type": "markdown",
   "id": "d1197dc9-39ae-43c9-8647-7983868b1c21",
   "metadata": {},
   "source": [
    "- the value of the list can be used for other operations"
   ]
  },
  {
   "cell_type": "code",
   "execution_count": 26,
   "id": "2a1f485d-3185-402a-b526-8557118bf8cc",
   "metadata": {},
   "outputs": [
    {
     "name": "stdout",
     "output_type": "stream",
     "text": [
      "<class 'int'>\n",
      "<class 'float'>\n",
      "<class 'str'>\n",
      "<class 'list'>\n",
      "0\n"
     ]
    }
   ],
   "source": [
    "misc = [1, 2.5, 'hi', [0]]\n",
    "print(type(misc[0]))\n",
    "print(type(misc[1]))\n",
    "print(type(misc[2]))\n",
    "print(type(misc[3]))\n",
    "print(misc[3][0])"
   ]
  },
  {
   "cell_type": "markdown",
   "id": "23e188dd-0729-4a62-a44f-3f940632a9d1",
   "metadata": {},
   "source": [
    "- the content of the list can be of any type\n",
    "    - even a list (nested list)\n",
    "- to read value in the inner list, you need 2 pairs of `[]`"
   ]
  },
  {
   "cell_type": "code",
   "execution_count": 27,
   "id": "379de46b-3385-45d6-b260-676583fa8f53",
   "metadata": {},
   "outputs": [
    {
     "data": {
      "text/plain": [
       "3"
      ]
     },
     "execution_count": 27,
     "metadata": {},
     "output_type": "execute_result"
    }
   ],
   "source": [
    "nums = [10, 20, 30]\n",
    "len(nums)"
   ]
  },
  {
   "cell_type": "markdown",
   "id": "fc153262-9031-4098-81ca-a13be7800209",
   "metadata": {},
   "source": [
    "- get the number of items in the list"
   ]
  },
  {
   "cell_type": "markdown",
   "id": "bdb0d71a-4ea6-4a85-82ab-197ecc0d9a8f",
   "metadata": {},
   "source": [
    "### **U**pdate"
   ]
  },
  {
   "cell_type": "code",
   "execution_count": 28,
   "id": "5cbc6711-47bc-4238-b181-ce93f3ad0ac1",
   "metadata": {},
   "outputs": [
    {
     "name": "stdout",
     "output_type": "stream",
     "text": [
      "[10, 1000, 30]\n"
     ]
    }
   ],
   "source": [
    "nums = [10, 20, 30]\n",
    "nums[1] = 1000\n",
    "print(nums)"
   ]
  },
  {
   "cell_type": "markdown",
   "id": "1fef1254-1dbc-4deb-8e7e-58ba06bcba10",
   "metadata": {},
   "source": [
    "### **D**elete"
   ]
  },
  {
   "cell_type": "code",
   "execution_count": 29,
   "id": "aceaf651-0954-4f59-8d7a-5a38e3176e9a",
   "metadata": {},
   "outputs": [
    {
     "name": "stdout",
     "output_type": "stream",
     "text": [
      "[10, 30]\n"
     ]
    }
   ],
   "source": [
    "nums = [10, 20, 30]\n",
    "nums.pop(1)\n",
    "print(nums)"
   ]
  },
  {
   "cell_type": "markdown",
   "id": "74996dc7-c34c-47e8-b1e5-c23d25887f5f",
   "metadata": {},
   "source": [
    "## Help"
   ]
  },
  {
   "cell_type": "code",
   "execution_count": 30,
   "id": "60db86b4-c84d-4b67-b098-cf2d81c37f0b",
   "metadata": {},
   "outputs": [
    {
     "name": "stdout",
     "output_type": "stream",
     "text": [
      "Help on list object:\n",
      "\n",
      "class list(object)\n",
      " |  list(iterable=(), /)\n",
      " |  \n",
      " |  Built-in mutable sequence.\n",
      " |  \n",
      " |  If no argument is given, the constructor creates a new empty list.\n",
      " |  The argument must be an iterable if specified.\n",
      " |  \n",
      " |  Methods defined here:\n",
      " |  \n",
      " |  __add__(self, value, /)\n",
      " |      Return self+value.\n",
      " |  \n",
      " |  __contains__(self, key, /)\n",
      " |      Return key in self.\n",
      " |  \n",
      " |  __delitem__(self, key, /)\n",
      " |      Delete self[key].\n",
      " |  \n",
      " |  __eq__(self, value, /)\n",
      " |      Return self==value.\n",
      " |  \n",
      " |  __ge__(self, value, /)\n",
      " |      Return self>=value.\n",
      " |  \n",
      " |  __getattribute__(self, name, /)\n",
      " |      Return getattr(self, name).\n",
      " |  \n",
      " |  __getitem__(...)\n",
      " |      x.__getitem__(y) <==> x[y]\n",
      " |  \n",
      " |  __gt__(self, value, /)\n",
      " |      Return self>value.\n",
      " |  \n",
      " |  __iadd__(self, value, /)\n",
      " |      Implement self+=value.\n",
      " |  \n",
      " |  __imul__(self, value, /)\n",
      " |      Implement self*=value.\n",
      " |  \n",
      " |  __init__(self, /, *args, **kwargs)\n",
      " |      Initialize self.  See help(type(self)) for accurate signature.\n",
      " |  \n",
      " |  __iter__(self, /)\n",
      " |      Implement iter(self).\n",
      " |  \n",
      " |  __le__(self, value, /)\n",
      " |      Return self<=value.\n",
      " |  \n",
      " |  __len__(self, /)\n",
      " |      Return len(self).\n",
      " |  \n",
      " |  __lt__(self, value, /)\n",
      " |      Return self<value.\n",
      " |  \n",
      " |  __mul__(self, value, /)\n",
      " |      Return self*value.\n",
      " |  \n",
      " |  __ne__(self, value, /)\n",
      " |      Return self!=value.\n",
      " |  \n",
      " |  __repr__(self, /)\n",
      " |      Return repr(self).\n",
      " |  \n",
      " |  __reversed__(self, /)\n",
      " |      Return a reverse iterator over the list.\n",
      " |  \n",
      " |  __rmul__(self, value, /)\n",
      " |      Return value*self.\n",
      " |  \n",
      " |  __setitem__(self, key, value, /)\n",
      " |      Set self[key] to value.\n",
      " |  \n",
      " |  __sizeof__(self, /)\n",
      " |      Return the size of the list in memory, in bytes.\n",
      " |  \n",
      " |  append(self, object, /)\n",
      " |      Append object to the end of the list.\n",
      " |  \n",
      " |  clear(self, /)\n",
      " |      Remove all items from list.\n",
      " |  \n",
      " |  copy(self, /)\n",
      " |      Return a shallow copy of the list.\n",
      " |  \n",
      " |  count(self, value, /)\n",
      " |      Return number of occurrences of value.\n",
      " |  \n",
      " |  extend(self, iterable, /)\n",
      " |      Extend list by appending elements from the iterable.\n",
      " |  \n",
      " |  index(self, value, start=0, stop=9223372036854775807, /)\n",
      " |      Return first index of value.\n",
      " |      \n",
      " |      Raises ValueError if the value is not present.\n",
      " |  \n",
      " |  insert(self, index, object, /)\n",
      " |      Insert object before index.\n",
      " |  \n",
      " |  pop(self, index=-1, /)\n",
      " |      Remove and return item at index (default last).\n",
      " |      \n",
      " |      Raises IndexError if list is empty or index is out of range.\n",
      " |  \n",
      " |  remove(self, value, /)\n",
      " |      Remove first occurrence of value.\n",
      " |      \n",
      " |      Raises ValueError if the value is not present.\n",
      " |  \n",
      " |  reverse(self, /)\n",
      " |      Reverse *IN PLACE*.\n",
      " |  \n",
      " |  sort(self, /, *, key=None, reverse=False)\n",
      " |      Stable sort *IN PLACE*.\n",
      " |  \n",
      " |  ----------------------------------------------------------------------\n",
      " |  Static methods defined here:\n",
      " |  \n",
      " |  __new__(*args, **kwargs) from builtins.type\n",
      " |      Create and return a new object.  See help(type) for accurate signature.\n",
      " |  \n",
      " |  ----------------------------------------------------------------------\n",
      " |  Data and other attributes defined here:\n",
      " |  \n",
      " |  __hash__ = None\n",
      "\n"
     ]
    }
   ],
   "source": [
    "nums = [10, 20, 30]\n",
    "help(nums)"
   ]
  },
  {
   "cell_type": "markdown",
   "id": "fc0d44a6-0706-498c-b447-cf88f3456b4d",
   "metadata": {},
   "source": [
    "## For Loop"
   ]
  },
  {
   "cell_type": "code",
   "execution_count": 31,
   "id": "11a5d053-c203-48b6-8d85-be06283096c7",
   "metadata": {},
   "outputs": [
    {
     "name": "stdout",
     "output_type": "stream",
     "text": [
      "0\n",
      "1\n",
      "2\n",
      "3\n",
      "4\n",
      "5\n",
      "6\n",
      "7\n",
      "8\n",
      "9\n"
     ]
    }
   ],
   "source": [
    "for i in range(10):\n",
    "    print(i)"
   ]
  },
  {
   "cell_type": "markdown",
   "id": "b1eb1af6-0587-4e26-870a-aa43c15f9cc8",
   "metadata": {},
   "source": [
    "- format\n",
    "    - keywords\n",
    "    - number in side `range()` is the number of reapt\n",
    "    - `i` is the index and it starts from 0\n",
    "    - `:`\n",
    "    - indention\n",
    "    - no empty lines\n",
    "    "
   ]
  },
  {
   "cell_type": "code",
   "execution_count": 32,
   "id": "1a8beb1c-3858-4b13-b176-7c28e5ce9378",
   "metadata": {},
   "outputs": [
    {
     "name": "stdout",
     "output_type": "stream",
     "text": [
      "10\n",
      "20\n",
      "30\n"
     ]
    }
   ],
   "source": [
    "# iterate through List\n",
    "nums = [10, 20, 30]\n",
    "for i in range(len(nums)):\n",
    "    print(nums[i])"
   ]
  },
  {
   "cell_type": "markdown",
   "id": "a722667b-ad25-4ae7-93d2-82844b8a388f",
   "metadata": {},
   "source": [
    "---\n",
    "## Demo Project"
   ]
  },
  {
   "cell_type": "code",
   "execution_count": 10,
   "id": "179ca832-cfa4-4cc7-ab78-98e1566940b1",
   "metadata": {},
   "outputs": [
    {
     "name": "stdin",
     "output_type": "stream",
     "text": [
      "How many values do you have:  3\n",
      "What is the radius:  5\n",
      "What is the radius:  15\n",
      "What is the radius:  20\n"
     ]
    },
    {
     "name": "stdout",
     "output_type": "stream",
     "text": [
      "1 The area of circle with radius 5.0 is 78.539815\n",
      "2 The area of circle with radius 15.0 is 706.858335\n",
      "3 The area of circle with radius 20.0 is 1256.63704\n"
     ]
    }
   ],
   "source": [
    "\"\"\"\n",
    "Demo\n",
    "Batch area calculator: area of the circle\n",
    "\"\"\"\n",
    "# The pi = 3.1415926\n",
    "pi = 3.1415926\n",
    "\n",
    "#%% data acquisition\n",
    "# define a list variable as a data container\n",
    "radiuses = []\n",
    "# get the number of data from user input and convert it to int variable\n",
    "num_of_inputs = int(input(\"How many values do you have: \"))\n",
    "# decide if the input is valid\n",
    "if num_of_inputs <= 0:\n",
    "    # show error information\n",
    "    print(\"invalid number of values\")\n",
    "    # exit the CLI app\n",
    "    exit()\n",
    "# for loop asking for input repeatly\n",
    "for i in range(num_of_inputs):\n",
    "    # append the values to the list\n",
    "    radiuses.append(float(input(\"What is the radius: \")))\n",
    "\n",
    "#%% computation and display\n",
    "# for iterate through the list\n",
    "for i in range(len(radiuses)):\n",
    "    # Math calculations: power and multiply\n",
    "    area_of_circle = radiuses[i] ** 2 * pi\n",
    "    # Display the output infomation\n",
    "    print(i+1,\n",
    "        \"The area of circle\",\n",
    "        \"with radius\",\n",
    "        radiuses[i],\n",
    "        \"is\",\n",
    "        area_of_circle)"
   ]
  },
  {
   "cell_type": "markdown",
   "id": "484a2b3f-8923-40d4-83eb-67e740046040",
   "metadata": {},
   "source": [
    "---\n",
    "# Practice Project Template"
   ]
  },
  {
   "cell_type": "code",
   "execution_count": null,
   "id": "149e1686-567e-4f2c-9f48-3efe2a84b3b0",
   "metadata": {},
   "outputs": [],
   "source": [
    "\"\"\"\n",
    "Practic\n",
    "Batch Unit converter\n",
    "\"\"\"\n",
    "# The convertion ratio is 453.59237 grams = 1 pound\n",
    "grams_per_pound = 453.59237\n",
    "\n",
    "#%% data acquisition\n",
    "# define a list variable as a data container\n",
    "\n",
    "# get the number of data from user input and convert it to int variable\n",
    "\n",
    "# decide if the input is valid\n",
    "\n",
    "    # show error information\n",
    "    \n",
    "    # exit the CLI app\n",
    "\n",
    "# for loop asking for input repeatly\n",
    "\n",
    "    # append the values to the list\n",
    "    \n",
    "\n",
    "#%% computation and display\n",
    "# for iterate through the list in BACKWARD direction.\n",
    "\n",
    "    # Math calculations: multiply\n",
    "    \n",
    "    # Display the output infomation"
   ]
  }
 ],
 "metadata": {
  "kernelspec": {
   "display_name": "Python 3",
   "language": "python",
   "name": "python3"
  },
  "language_info": {
   "codemirror_mode": {
    "name": "ipython",
    "version": 3
   },
   "file_extension": ".py",
   "mimetype": "text/x-python",
   "name": "python",
   "nbconvert_exporter": "python",
   "pygments_lexer": "ipython3",
   "version": "3.7.10"
  }
 },
 "nbformat": 4,
 "nbformat_minor": 5
}
