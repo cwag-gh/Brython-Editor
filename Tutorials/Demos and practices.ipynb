{
 "cells": [
  {
   "cell_type": "markdown",
   "id": "false-mississippi",
   "metadata": {},
   "source": [
    "# Outputs, Variables and Inputs"
   ]
  },
  {
   "cell_type": "code",
   "execution_count": 1,
   "id": "patient-collaboration",
   "metadata": {},
   "outputs": [
    {
     "name": "stdin",
     "output_type": "stream",
     "text": [
      "What is the radius:  10\n"
     ]
    },
    {
     "name": "stdout",
     "output_type": "stream",
     "text": [
      "The area of circle is 314.15926\n"
     ]
    }
   ],
   "source": [
    "\"\"\"\n",
    "Demo\n",
    "Area calculator: area of the circle\n",
    "\"\"\"\n",
    "# The pi = 3.1415926\n",
    "pi = 3.1415926\n",
    "# Input prompt\n",
    "radius = float(input(\"What is the radius: \"))\n",
    "# Math calculations: power and multiply\n",
    "area = radius ** 2 * pi\n",
    "# Display the result\n",
    "print(\"The area of circle is\", area)"
   ]
  },
  {
   "cell_type": "code",
   "execution_count": null,
   "id": "faaa5a04-a92f-42d7-ba61-c017e9d480aa",
   "metadata": {},
   "outputs": [],
   "source": [
    "\"\"\"\n",
    "Demo\n",
    "Area calculator: area of the circle\n",
    "\"\"\"\n",
    "# The pi = 3.1415926\n",
    "pi = 3.1415926\n",
    "# Input prompt\n",
    "\n",
    "# Math calculations: power and multiply\n",
    "\n",
    "# Display the result\n"
   ]
  },
  {
   "cell_type": "markdown",
   "id": "5d79663b-d710-4141-a4b1-f8afa001877f",
   "metadata": {},
   "source": [
    "- Syntax\n",
    "    - `()` need to be paired\n",
    "- coding styles\n",
    "    - variable name should have meaning\n",
    "    - space around `=` and math operants\n",
    "    - space after `,`"
   ]
  },
  {
   "cell_type": "code",
   "execution_count": 2,
   "id": "educational-track",
   "metadata": {},
   "outputs": [
    {
     "name": "stdin",
     "output_type": "stream",
     "text": [
      "What is the weight in pounds:  10\n"
     ]
    },
    {
     "name": "stdout",
     "output_type": "stream",
     "text": [
      "The weight is equal to 4535.9237 grams.\n"
     ]
    }
   ],
   "source": [
    "\"\"\"\n",
    "Practice\n",
    "Unit converter: from pounds to grams\n",
    "\"\"\"\n",
    "# The convertion ratio is 453.59237 grams = 1 pound\n",
    "grams_per_pound = 453.59237\n",
    "# Input prompt\n",
    "weight_in_pounds = float(input(\"What is the weight in pounds: \"))\n",
    "# Math calculations: multiply\n",
    "weight_in_grams = grams_per_pound * weight_in_pounds\n",
    "# Display the output infomation\n",
    "## String operations: generate the output string : bonus point\n",
    "information = \"The weight is equal to \" + str(weight_in_grams) + \" grams.\"\n",
    "## Print infomation\n",
    "print(information)"
   ]
  },
  {
   "cell_type": "markdown",
   "id": "812a40b0-96d3-46b4-ab7c-41607418befe",
   "metadata": {},
   "source": [
    "Template\n",
    "```python\n",
    "\"\"\"\n",
    "Practice\n",
    "Unit converter: from pounds to grams\n",
    "\"\"\"\n",
    "# The convertion ratio is 453.59237 grams = 1 pound\n",
    "grams_per_pound = 453.59237\n",
    "# Input prompt\n",
    "\n",
    "# Math calculations: multiply\n",
    "\n",
    "# Display the output infomation\n",
    "## String operations: generate the output string : bonus point\n",
    "\n",
    "## Print infomation\n",
    "\n",
    "```"
   ]
  },
  {
   "cell_type": "markdown",
   "id": "ultimate-opera",
   "metadata": {},
   "source": [
    "# Bool and If"
   ]
  },
  {
   "cell_type": "code",
   "execution_count": 3,
   "id": "corrected-behavior",
   "metadata": {},
   "outputs": [
    {
     "name": "stdin",
     "output_type": "stream",
     "text": [
      "What is the shape, input \"rectangle\" or \"triangle\":  triangle\n",
      "What is width of the triangle:  10\n",
      "What is height of the triangle:  20\n"
     ]
    },
    {
     "name": "stdout",
     "output_type": "stream",
     "text": [
      "The area of the triangle is 100.0\n"
     ]
    }
   ],
   "source": [
    "\"\"\"\n",
    "Demo\n",
    "Area calculator\n",
    "If is used to decide the shape\n",
    "\"\"\"\n",
    "# Input the shape\n",
    "shape = input(\"What is the shape, input \\\"rectangle\\\" or \\\"triangle\\\": \")\n",
    "# Input the dimentions\n",
    "width = float(input(\"What is width of the \" + shape + \": \"))\n",
    "height = float(input(\"What is height of the \" + shape + \": \"))\n",
    "# If logic for different calculation equation\n",
    "if shape == \"rectangle\":\n",
    "    area = width * height\n",
    "else:\n",
    "    area = width * height / 2\n",
    "# display result\n",
    "print(\"The area of the\",\n",
    "     shape,\n",
    "     \"is\",\n",
    "     area)"
   ]
  },
  {
   "cell_type": "code",
   "execution_count": 4,
   "id": "little-motion",
   "metadata": {
    "tags": []
   },
   "outputs": [
    {
     "name": "stdin",
     "output_type": "stream",
     "text": [
      "Which unit are you currently using? Please input \"pound\" or \"gram\":  pound\n",
      "What is the weight in pounds:  10\n"
     ]
    },
    {
     "name": "stdout",
     "output_type": "stream",
     "text": [
      "10.0 pound s are equal to 4535.9237 grams\n"
     ]
    }
   ],
   "source": [
    "\"\"\"\n",
    "Practice\n",
    "two-way unit converter\n",
    "If is used to decide the direction\n",
    "\"\"\"\n",
    "# The convertion ratio is 453.59237 grams = 1 pound\n",
    "grams_per_pound = 453.59237\n",
    "# Input the original unit\n",
    "original_unit = input(\"Which unit are you currently using? Please input \\\"pound\\\" or \\\"gram\\\": \")\n",
    "# Input the weight value\n",
    "original_value = float(input(\"What is the weight in \" + original_unit + \"s: \"))\n",
    "# If logic for different calculation equation\n",
    "if original_unit == \"pound\": # if the unit is \"pound\"\n",
    "    # calculate the output value\n",
    "    target_value = original_value * grams_per_pound\n",
    "    # decide the target unit\n",
    "    target_unit = \"gram\"\n",
    "else: # if the unit is \"gram\"\n",
    "    # calculate the output value\n",
    "    target_value = original_value / grams_per_pound\n",
    "    # decide the target unit\n",
    "    target_unit = \"pound\"\n",
    "# display the result\n",
    "print(original_value,\n",
    "     original_unit,\n",
    "     \"s are equal to\",\n",
    "     target_value,\n",
    "     target_unit + \"s\")"
   ]
  },
  {
   "cell_type": "code",
   "execution_count": 5,
   "id": "excessive-bracelet",
   "metadata": {},
   "outputs": [
    {
     "name": "stdin",
     "output_type": "stream",
     "text": [
      "Which unit are you currently using? Please input \"pound\" or \"gram\":  dish washer\n",
      "What is the weight in dish washers:  3\n"
     ]
    },
    {
     "name": "stdout",
     "output_type": "stream",
     "text": [
      "dish washer is not a supported unit\n",
      "3.0 dish washer s are equal to 4535.9237 grams\n"
     ]
    }
   ],
   "source": [
    "\"\"\"\n",
    "Bonus point\n",
    "detect non-supported input\n",
    "\"\"\"\n",
    "# The convertion ratio is 453.59237 grams = 1 pound\n",
    "grams_per_pound = 453.59237\n",
    "# Input the original unit\n",
    "original_unit = input(\"Which unit are you currently using? Please input \\\"pound\\\" or \\\"gram\\\": \")\n",
    "# Input the weight value\n",
    "original_value = float(input(\"What is the weight in \" + original_unit + \"s: \"))\n",
    "# If logic for different calculation equation\n",
    "if original_unit == \"pound\": # if the unit is \"pound\"\n",
    "    # calculate the output value\n",
    "    target_value = original_value * grams_per_pound\n",
    "    # decide the target unit\n",
    "    target_unit = \"gram\"\n",
    "elif original_unit == \"gram\": # if the unit is \"gram\"\n",
    "    # calculate the output value\n",
    "    target_value = original_value / grams_per_pound\n",
    "    # decide the target unit\n",
    "    target_unit = \"pound\"\n",
    "else:\n",
    "    print(original_unit, \"is not a supported unit\")\n",
    "    exit()\n",
    "# display the result\n",
    "print(original_value,\n",
    "     original_unit,\n",
    "     \"s are equal to\",\n",
    "     target_value,\n",
    "     target_unit + \"s\")"
   ]
  },
  {
   "cell_type": "markdown",
   "id": "fluid-canvas",
   "metadata": {},
   "source": [
    "# List and Loop"
   ]
  },
  {
   "cell_type": "code",
   "execution_count": 6,
   "id": "headed-performer",
   "metadata": {},
   "outputs": [
    {
     "name": "stdin",
     "output_type": "stream",
     "text": [
      "What is the radius? type \"end\" to stop:  10\n",
      "What is the radius? type \"end\" to stop:  20\n",
      "What is the radius? type \"end\" to stop:  30\n",
      "What is the radius? type \"end\" to stop:  end\n"
     ]
    },
    {
     "name": "stdout",
     "output_type": "stream",
     "text": [
      "1 The area of circle with radius 10.0 is 314.15926\n",
      "2 The area of circle with radius 20.0 is 1256.63704\n",
      "3 The area of circle with radius 30.0 is 2827.43334\n"
     ]
    }
   ],
   "source": [
    "\"\"\"\n",
    "Demo\n",
    "Batch area calculator: area of the circle\n",
    "\"\"\"\n",
    "# The pi = 3.1415926\n",
    "pi = 3.1415926\n",
    "\n",
    "# data container\n",
    "radiuses = []\n",
    "# while loop used for unkonwn number of repeat\n",
    "while True: # infinite loop\n",
    "    # get input text\n",
    "    text_input = input(\"What is the radius? type \\\"end\\\" to stop: \")\n",
    "    # if logic to decide if ended\n",
    "    if text_input == \"end\":\n",
    "        break # jump out of the loop\n",
    "    # if not breaked add the value to list\n",
    "    radiuses.append(float(text_input))\n",
    "    \n",
    "# for loop used for konwn number of repeat\n",
    "for i in range(len(radiuses)):\n",
    "    # Math calculations: power and multiply\n",
    "    area_of_circle = radiuses[i] ** 2 * pi\n",
    "    # Display the output infomation\n",
    "    print(i+1,\n",
    "          \"The area of circle\",\n",
    "          \"with radius\",\n",
    "          radiuses[i],\n",
    "          \"is\",\n",
    "          area_of_circle)"
   ]
  },
  {
   "cell_type": "code",
   "execution_count": 4,
   "id": "norwegian-howard",
   "metadata": {},
   "outputs": [
    {
     "name": "stdin",
     "output_type": "stream",
     "text": [
      "What is the weight in pounds:  10\n",
      "What is the weight in pounds:  20\n",
      "What is the weight in pounds:  30\n",
      "What is the weight in pounds:  end\n"
     ]
    },
    {
     "name": "stdout",
     "output_type": "stream",
     "text": [
      "1 10.0 pounds equal to 4535.9237 grams.\n",
      "2 20.0 pounds equal to 9071.8474 grams.\n",
      "3 30.0 pounds equal to 13607.7711 grams.\n"
     ]
    }
   ],
   "source": [
    "\"\"\"\n",
    "Practic\n",
    "Batch Unit converter\n",
    "\"\"\"\n",
    "# The convertion ratio is 453.59237 grams = 1 pound\n",
    "grams_per_pound = 453.59237\n",
    "\n",
    "# data container\n",
    "weight_in_pounds = []\n",
    "# while loop used for unkonwn number of repeat\n",
    "while True: # infinite loop\n",
    "    # get input text\n",
    "    text_input = input(\"What is the weight in pounds: \")\n",
    "    # if logic to decide if ended\n",
    "    if text_input == \"end\":\n",
    "        break # jump out of the loop\n",
    "    # if not breaked add the value to list\n",
    "    weight_in_pounds.append(float(text_input))\n",
    "    \n",
    "# for loop used for konwn number of repeat\n",
    "for i in range(len(weight_in_pounds)):\n",
    "    # Math calculations: power and multiply\n",
    "    weight_in_grams = weight_in_pounds[i] * grams_per_pound\n",
    "    # Display the output infomation\n",
    "    print(i+1,\n",
    "          weight_in_pounds[i],\n",
    "          \"pounds equal to\",\n",
    "          weight_in_grams,\n",
    "          \"grams.\")"
   ]
  },
  {
   "cell_type": "code",
   "execution_count": 7,
   "id": "final-accreditation",
   "metadata": {},
   "outputs": [
    {
     "name": "stdout",
     "output_type": "stream",
     "text": [
      "1 30.0 pounds is equal to 13607.7711 grams.\n",
      "2 20.0 pounds is equal to 9071.8474 grams.\n",
      "3 10.0 pounds is equal to 4535.9237 grams.\n"
     ]
    }
   ],
   "source": [
    "\"\"\"\n",
    "Bonus point\n",
    "Print the result in reversed order\n",
    "\"\"\"\n",
    "    \n",
    "# for loop used for konwn number of repeat\n",
    "for i in range(len(weight_in_pounds)):\n",
    "    j = len(weight_in_pounds) - i -1\n",
    "    # Math calculations: multiply\n",
    "    weight_in_grams = weight_in_pounds[j] * grams_per_pound\n",
    "    # Display the output infomation\n",
    "    print(i+1,\n",
    "          weight_in_pounds[j],\n",
    "          \"pounds is equal to\",\n",
    "          weight_in_grams,\n",
    "          \"grams.\")"
   ]
  },
  {
   "cell_type": "markdown",
   "id": "conceptual-compilation",
   "metadata": {},
   "source": [
    "# Diction and Function"
   ]
  },
  {
   "cell_type": "code",
   "execution_count": 1,
   "id": "artistic-environment",
   "metadata": {},
   "outputs": [],
   "source": [
    "\"\"\"\n",
    "Demo\n",
    "calulate_color_band\n",
    "\"\"\"\n",
    "def calulate_color_band(band1, band2, band3):\n",
    "    # data stored in the dictionary\n",
    "    code = {\n",
    "        \"black\": 0,\n",
    "        \"brown\": 1,\n",
    "        \"red\": 2,\n",
    "        \"orange\": 3,\n",
    "        \"yellow\": 4,\n",
    "        \"green\": 5,\n",
    "        \"blue\": 6,\n",
    "        \"violet\": 7,\n",
    "        \"gray\": 8,\n",
    "        \"white\": 9,\n",
    "    }\n",
    "    \n",
    "    # calculate the value of the color resistor\n",
    "    resistance = (code[band1] * 10 + code[band2]) * 10 ** code[band3]\n",
    "    # return the result\n",
    "    return resistance"
   ]
  },
  {
   "cell_type": "code",
   "execution_count": 2,
   "id": "falling-tongue",
   "metadata": {},
   "outputs": [
    {
     "name": "stdout",
     "output_type": "stream",
     "text": [
      "1000\n",
      "10000\n",
      "130\n"
     ]
    }
   ],
   "source": [
    "# user code\n",
    "print(calulate_color_band(\"brown\", \"black\", \"red\"))\n",
    "print(calulate_color_band(\"brown\", \"black\", \"orange\"))\n",
    "print(calulate_color_band(\"brown\", \"orange\", \"brown\"))"
   ]
  },
  {
   "cell_type": "code",
   "execution_count": 3,
   "id": "explicit-translator",
   "metadata": {},
   "outputs": [],
   "source": [
    "\"\"\"\n",
    "Practice\n",
    "volume unit converter\n",
    "\"\"\"\n",
    "def convert_valueume_unit(original_value, original_unit, target_unit):\n",
    "    # convertion ration to milliliter, stored in dict\n",
    "    ml_per_unit = {\n",
    "        \"minim\": 61.611519921875e-6,\n",
    "        \"dram\": 3.6966911953125,\n",
    "        \"teaspoon\": 4.92892159375,\n",
    "        \"tablespoon\": 14.78676478125,\n",
    "        \"ounce\": 29.5735295625,\n",
    "        \"shot\": 44.36029434375,\n",
    "        \"gill\": 118.29411825,\n",
    "        \"cup\": 236.5882365,\n",
    "        \"pint\": 473.176473,\n",
    "        \"quart\": 0.946352946e3,\n",
    "        \"pottle\": 1.892705892e3,\n",
    "        \"gallon\": 3.785411784e3,\n",
    "        \"liter\": 1e3,\n",
    "        \"milliliter\": 1.0,\n",
    "    }\n",
    "    \n",
    "    # covert the volume from original_unit to ml\n",
    "    vol_in_ml = original_value * ml_per_unit[original_unit]\n",
    "    # covert the volume from ml to target_unit\n",
    "    target_value = vol_in_ml / ml_per_unit[target_unit]\n",
    "    # return the result\n",
    "    return target_value"
   ]
  },
  {
   "cell_type": "code",
   "execution_count": 4,
   "id": "employed-particular",
   "metadata": {},
   "outputs": [
    {
     "name": "stdout",
     "output_type": "stream",
     "text": [
      "0.473176473\n",
      "16.0\n"
     ]
    }
   ],
   "source": [
    "# user code\n",
    "print(convert_valueume_unit(1, 'pint', 'liter'))\n",
    "print(convert_valueume_unit(2, 'cup', 'ounce'))"
   ]
  },
  {
   "cell_type": "code",
   "execution_count": 5,
   "id": "sonic-madagascar",
   "metadata": {},
   "outputs": [],
   "source": [
    "\"\"\"\n",
    "Bonus point\n",
    "call function in function\n",
    "\"\"\"\n",
    "def batch_convert_valueume_unit(original_values, original_unit, target_unit):\n",
    "    # result container\n",
    "    target_values = []\n",
    "    # for each original volume, call function to convert\n",
    "    for i in range(len(original_values)):\n",
    "        target_values.append(convert_valueume_unit(original_values[i],\n",
    "                                              original_unit,\n",
    "                                              target_unit))\n",
    "    # return the result\n",
    "    return target_values"
   ]
  },
  {
   "cell_type": "code",
   "execution_count": 6,
   "id": "external-bloom",
   "metadata": {},
   "outputs": [
    {
     "name": "stdout",
     "output_type": "stream",
     "text": [
      "[4.73176473, 9.46352946, 14.19529419, 2460.5176596]\n"
     ]
    }
   ],
   "source": [
    "# user code\n",
    "vols = [10, 20, 30, 5200]\n",
    "print(batch_convert_valueume_unit(vols, 'pint', 'liter'))"
   ]
  },
  {
   "cell_type": "markdown",
   "id": "selective-rendering",
   "metadata": {},
   "source": [
    "# Object and Class"
   ]
  },
  {
   "cell_type": "code",
   "execution_count": 13,
   "id": "about-improvement",
   "metadata": {},
   "outputs": [],
   "source": [
    "\"\"\"\n",
    "Demo\n",
    "Power Class\n",
    "calculate y = x^n\n",
    "\"\"\"\n",
    "class PowerCalculator:\n",
    "    history = []\n",
    "    \n",
    "    def __init__(self, n):\n",
    "        self.n = n\n",
    "        \n",
    "    def calculate(self, x):\n",
    "        y = 1\n",
    "        for i in range(self.n):\n",
    "            y *= x\n",
    "        self.history.append(str(x) + '^' + str(self.n) + '=' + str(y))\n",
    "        return y"
   ]
  },
  {
   "cell_type": "code",
   "execution_count": 14,
   "id": "solved-liberia",
   "metadata": {},
   "outputs": [
    {
     "name": "stdout",
     "output_type": "stream",
     "text": [
      "9\n",
      "99225\n",
      "27\n",
      "31255875\n",
      "['3^2=9', '315^2=99225', '3^3=27', '315^3=31255875']\n"
     ]
    }
   ],
   "source": [
    "# user code\n",
    "calculator = PowerCalculator(2)\n",
    "print(calculator.calculate(3))\n",
    "print(calculator.calculate(315))\n",
    "calculator.n = 3\n",
    "print(calculator.calculate(3))\n",
    "print(calculator.calculate(315))\n",
    "print(calculator.history)"
   ]
  },
  {
   "cell_type": "code",
   "execution_count": 15,
   "id": "executive-clearing",
   "metadata": {},
   "outputs": [],
   "source": [
    "\"\"\"\n",
    "Practice\n",
    "converter class\n",
    "print_history function is the bounus point\n",
    "\"\"\"\n",
    "class VolumeUnitConverter:\n",
    "    # convertion ration to milliliter, stored in dict\n",
    "    ml_per_unit = {\n",
    "        \"minim\": 61.611519921875e-6,\n",
    "        \"dram\": 3.6966911953125,\n",
    "        \"teaspoon\": 4.92892159375,\n",
    "        \"tablespoon\": 14.78676478125,\n",
    "        \"ounce\": 29.5735295625,\n",
    "        \"shot\": 44.36029434375,\n",
    "        \"gill\": 118.29411825,\n",
    "        \"cup\": 236.5882365,\n",
    "        \"pint\": 473.176473,\n",
    "        \"quart\": 0.946352946e3,\n",
    "        \"pottle\": 1.892705892e3,\n",
    "        \"gallon\": 3.785411784e3,\n",
    "        \"liter\": 1e3,\n",
    "        \"milliliter\": 1.0,\n",
    "    }\n",
    "    # record convertion history\n",
    "    history = []\n",
    "\n",
    "    # initialization function\n",
    "    def __init__(self, original_unit, target_unit):\n",
    "        # add attributes to the current object\n",
    "        self.original_unit = original_unit\n",
    "        self.target_unit = target_unit\n",
    "    \n",
    "    # convertion funcrtion\n",
    "    def convert(self, original_value):\n",
    "        # covert the volume from original_unit to ml\n",
    "        vol_in_ml = original_value * self.ml_per_unit[self.original_unit]\n",
    "        # covert the volume from ml to target_unit\n",
    "        target_value = vol_in_ml / self.ml_per_unit[self.target_unit]\n",
    "        # record history\n",
    "        self.history.append(str(original_value) + self.original_unit\n",
    "                    + 's = ' + str(target_value)\n",
    "                    + self.target_unit + 's')\n",
    "        # return the result\n",
    "        return target_value\n",
    "    \n",
    "    # print the history\n",
    "    def print_history(self):\n",
    "        print(\"Here is the convertion history\")\n",
    "        # add information \n",
    "        for i in range(len(self.history)):\n",
    "            print(i+1, ',', self.history[i])\n",
    "        # no return needed"
   ]
  },
  {
   "cell_type": "code",
   "execution_count": 17,
   "id": "peaceful-connection",
   "metadata": {},
   "outputs": [
    {
     "name": "stdout",
     "output_type": "stream",
     "text": [
      "1600.0\n",
      "3200.0\n",
      "8000.0\n",
      "47.3176473\n",
      "94.6352946\n",
      "236.5882365\n",
      "Here is the convertion history\n",
      "1 , 100pints = 1600.0ounces\n",
      "2 , 200pints = 3200.0ounces\n",
      "3 , 500pints = 8000.0ounces\n",
      "4 , 100pints = 47.3176473liters\n",
      "5 , 200pints = 94.6352946liters\n",
      "6 , 500pints = 236.5882365liters\n",
      "7 , 100pints = 1600.0ounces\n",
      "8 , 200pints = 3200.0ounces\n",
      "9 , 500pints = 8000.0ounces\n",
      "10 , 100pints = 47.3176473liters\n",
      "11 , 200pints = 94.6352946liters\n",
      "12 , 500pints = 236.5882365liters\n",
      "Help on VolumeUnitConverter in module __main__ object:\n",
      "\n",
      "class VolumeUnitConverter(builtins.object)\n",
      " |  VolumeUnitConverter(original_unit, target_unit)\n",
      " |  \n",
      " |  Methods defined here:\n",
      " |  \n",
      " |  __init__(self, original_unit, target_unit)\n",
      " |      Initialize self.  See help(type(self)) for accurate signature.\n",
      " |  \n",
      " |  convert(self, original_value)\n",
      " |      # convertion funcrtion\n",
      " |  \n",
      " |  print_history(self)\n",
      " |      # print the history\n",
      " |  \n",
      " |  ----------------------------------------------------------------------\n",
      " |  Data descriptors defined here:\n",
      " |  \n",
      " |  __dict__\n",
      " |      dictionary for instance variables (if defined)\n",
      " |  \n",
      " |  __weakref__\n",
      " |      list of weak references to the object (if defined)\n",
      " |  \n",
      " |  ----------------------------------------------------------------------\n",
      " |  Data and other attributes defined here:\n",
      " |  \n",
      " |  history = ['100pints = 1600.0ounces', '200pints = 3200.0ounces', '500p...\n",
      " |  \n",
      " |  ml_per_unit = {'cup': 236.5882365, 'dram': 3.6966911953125, 'gallon': ...\n",
      "\n"
     ]
    }
   ],
   "source": [
    "# user code\n",
    "converter = VolumeUnitConverter('pint', 'ounce')\n",
    "print(converter.convert(100))\n",
    "print(converter.convert(200))\n",
    "print(converter.convert(500))\n",
    "\n",
    "converter.target_unit = 'liter'\n",
    "print(converter.convert(100))\n",
    "print(converter.convert(200))\n",
    "print(converter.convert(500))\n",
    "\n",
    "converter.print_history()\n",
    "help(converter)"
   ]
  }
 ],
 "metadata": {
  "kernelspec": {
   "display_name": "Python 3",
   "language": "python",
   "name": "python3"
  },
  "language_info": {
   "codemirror_mode": {
    "name": "ipython",
    "version": 3
   },
   "file_extension": ".py",
   "mimetype": "text/x-python",
   "name": "python",
   "nbconvert_exporter": "python",
   "pygments_lexer": "ipython3",
   "version": "3.7.10"
  }
 },
 "nbformat": 4,
 "nbformat_minor": 5
}
