{
 "cells": [
  {
   "cell_type": "markdown",
   "id": "false-mississippi",
   "metadata": {},
   "source": [
    "# Outputs, Variables and Inputs"
   ]
  },
  {
   "cell_type": "code",
   "execution_count": 1,
   "id": "patient-collaboration",
   "metadata": {},
   "outputs": [
    {
     "name": "stdin",
     "output_type": "stream",
     "text": [
      "What is the radius:  10\n"
     ]
    },
    {
     "name": "stdout",
     "output_type": "stream",
     "text": [
      "The area of circle is 314.15926\n"
     ]
    }
   ],
   "source": [
    "\"\"\"\n",
    "Demo\n",
    "Area calculator: area of the circle\n",
    "\"\"\"\n",
    "# The pi = 3.1415926\n",
    "pi = 3.1415926\n",
    "# Input prompt\n",
    "radius = float(input(\"What is the radius: \"))\n",
    "# Math calculations: power and multiply\n",
    "area = radius ** 2 * pi\n",
    "# Display the result\n",
    "print(\"The area of circle is\", area)"
   ]
  },
  {
   "cell_type": "markdown",
   "id": "5d79663b-d710-4141-a4b1-f8afa001877f",
   "metadata": {},
   "source": [
    "- Syntax\n",
    "    - `()` need to be paired\n",
    "- coding styles\n",
    "    - variable name should have meaning\n",
    "    - space around `=` and math operants\n",
    "    - space after `,`"
   ]
  },
  {
   "cell_type": "code",
   "execution_count": null,
   "id": "faaa5a04-a92f-42d7-ba61-c017e9d480aa",
   "metadata": {},
   "outputs": [],
   "source": [
    "\"\"\"\n",
    "Demo template\n",
    "Area calculator: area of the circle\n",
    "\"\"\"\n",
    "# The pi = 3.1415926\n",
    "pi = 3.1415926\n",
    "# Input prompt\n",
    "\n",
    "# Math calculations: power and multiply\n",
    "\n",
    "# Display the result\n"
   ]
  },
  {
   "cell_type": "code",
   "execution_count": 2,
   "id": "educational-track",
   "metadata": {},
   "outputs": [
    {
     "name": "stdin",
     "output_type": "stream",
     "text": [
      "What is the weight in pounds:  10\n"
     ]
    },
    {
     "name": "stdout",
     "output_type": "stream",
     "text": [
      "The weight is equal to 4535.9237 grams.\n"
     ]
    }
   ],
   "source": [
    "\"\"\"\n",
    "Practice\n",
    "Unit converter: from pounds to grams\n",
    "\"\"\"\n",
    "# The convertion ratio is 453.59237 grams = 1 pound\n",
    "grams_per_pound = 453.59237\n",
    "# Input prompt, user should input the number of pounds in the CLI\n",
    "weight_in_pounds = float(input(\"What is the weight in pounds: \"))\n",
    "# Math calculations: multiply\n",
    "weight_in_grams = grams_per_pound * weight_in_pounds\n",
    "# Display the output infomation\n",
    "## String operations: generate the output string : bonus point\n",
    "information = \"The weight is equal to \" + str(weight_in_grams) + \" grams.\"\n",
    "## Print infomation\n",
    "print(information)"
   ]
  },
  {
   "cell_type": "markdown",
   "id": "4811eb19-d86c-4e55-9907-028c07132d58",
   "metadata": {},
   "source": [
    "Please finish the practice project by yourself.\n",
    "You can use the lecture notes and the demo project as reference.\n",
    "When you finish, the result should behave in the same way as show in the website (given separtely).\n",
    "\n",
    "If you still have time please try to do the following:\n",
    "- in the output part\n",
    "    - first construct a string variable that contains all the information\n",
    "        - including the text and the calculation result\n",
    "        - you will need to use `str()` function to convert the calculation resulte to string\n",
    "        - you will need to use `+` to connect short strings into a long one\n",
    "    - then use `print()` to display the long string\n",
    "\n",
    "Feel free to ask any questions."
   ]
  },
  {
   "cell_type": "code",
   "execution_count": 2,
   "id": "9e4d054b-d498-4587-9aea-ad2f09712ac6",
   "metadata": {},
   "outputs": [],
   "source": [
    "\"\"\"\n",
    "Practice template\n",
    "Unit converter: from pounds to grams\n",
    "\"\"\"\n",
    "# The convertion ratio is 453.59237 grams = 1 pound\n",
    "grams_per_pound = 453.59237\n",
    "# Input prompt, user should input the number of pounds in the CLI\n",
    "\n",
    "# Math calculations: multiply\n",
    "\n",
    "# Display the output infomation\n"
   ]
  },
  {
   "cell_type": "markdown",
   "id": "7b3cea56-15c7-41ca-928e-fd1fe5f13646",
   "metadata": {
    "tags": []
   },
   "source": [
    "## If, For and List"
   ]
  },
  {
   "cell_type": "code",
   "execution_count": null,
   "id": "cbdddeff-0aa1-44e8-a389-8a525d9444e0",
   "metadata": {
    "tags": []
   },
   "outputs": [],
   "source": [
    "\"\"\"\n",
    "Demo\n",
    "Batch area calculator: area of the circle\n",
    "\"\"\"\n",
    "# The pi = 3.1415926\n",
    "pi = 3.1415926\n",
    "\n",
    "#%% data acquisition\n",
    "# define a list variable as a data container\n",
    "radiuses = []\n",
    "# get the number of data from user input and convert it to int variable\n",
    "num_of_inputs = int(input(\"How many values do you have: \"))\n",
    "# decide if the input is valid\n",
    "if num_of_inputs <= 0:\n",
    "    # show error information\n",
    "    print(\"invalid number of values\")\n",
    "    # exit the CLI app\n",
    "    exit()\n",
    "# for loop asking for input repeatly\n",
    "for i in range(num_of_inputs):\n",
    "    # append the values to the list\n",
    "    radiuses.append(float(input(\"What is the radius: \")))\n",
    "\n",
    "#%% computation and display\n",
    "# for iterate through the list\n",
    "for i in range(len(radiuses)):\n",
    "    # Math calculations: power and multiply\n",
    "    area_of_circle = radiuses[i] ** 2 * pi\n",
    "    # Display the output infomation\n",
    "    print(i+1,\n",
    "        \"The area of circle\",\n",
    "        \"with radius\",\n",
    "        radiuses[i],\n",
    "        \"is\",\n",
    "        area_of_circle)"
   ]
  },
  {
   "cell_type": "code",
   "execution_count": 2,
   "id": "61ebef14-8f46-4fee-a626-732b65c865d5",
   "metadata": {},
   "outputs": [
    {
     "name": "stdin",
     "output_type": "stream",
     "text": [
      "How many values do you have:  3\n",
      "What is the weight in pounds:  15\n",
      "What is the weight in pounds:  16\n",
      "What is the weight in pounds:  17\n"
     ]
    },
    {
     "name": "stdout",
     "output_type": "stream",
     "text": [
      "3 17.0 pounds is equal to 7711.070290000001 grams.\n",
      "2 16.0 pounds is equal to 7257.47792 grams.\n",
      "1 15.0 pounds is equal to 6803.88555 grams.\n"
     ]
    }
   ],
   "source": [
    "\"\"\"\n",
    "Practic\n",
    "Batch Unit converter\n",
    "\"\"\"\n",
    "# The convertion ratio is 453.59237 grams = 1 pound\n",
    "grams_per_pound = 453.59237\n",
    "\n",
    "#%% data acquisition\n",
    "# define a list variable as a data container\n",
    "weight_in_pounds = []\n",
    "# get the number of data from user input and convert it to int variable\n",
    "num_of_inputs = int(input(\"How many values do you have: \"))\n",
    "# decide if the input is valid\n",
    "if num_of_inputs <= 0:\n",
    "    # show error information\n",
    "    print(\"invalid number of values\")\n",
    "    # exit the CLI app\n",
    "    exit()\n",
    "# for loop asking for input repeatly\n",
    "for i in range(num_of_inputs):\n",
    "    # append the values to the list\n",
    "    weight_in_pounds.append(float(input(\"What is the weight in pounds: \")))\n",
    "\n",
    "#%% computation and display\n",
    "# for iterate through the list in REVERSED order.\n",
    "for i in range(len(weight_in_pounds)):\n",
    "    j = len(weight_in_pounds) - i -1\n",
    "    # Math calculations: multiply\n",
    "    weight_in_grams = weight_in_pounds[j] * grams_per_pound\n",
    "    # Display the output infomation\n",
    "    print(j+1,\n",
    "          weight_in_pounds[j],\n",
    "          \"pounds is equal to\",\n",
    "          weight_in_grams,\n",
    "          \"grams.\")"
   ]
  },
  {
   "cell_type": "code",
   "execution_count": null,
   "id": "2d638ca9-4221-4ea2-8dc8-8be6dfdb0fbb",
   "metadata": {},
   "outputs": [],
   "source": [
    "\"\"\"\n",
    "Demo\n",
    "Batch area calculator: area of the circle\n",
    "\"\"\"\n",
    "# The pi = 3.1415926\n",
    "pi = 3.1415926\n",
    "\n",
    "#%% data acquisition\n",
    "# define a list variable as a data container\n",
    "\n",
    "# get the number of data from user input and convert it to int variable\n",
    "\n",
    "# decide if the input is valid\n",
    "\n",
    "    # show error information\n",
    "    \n",
    "    # exit the CLI app\n",
    "    \n",
    "# for loop asking for input repeatly\n",
    "\n",
    "    # append the values to the list\n",
    "    \n",
    "\n",
    "#%% computation and display\n",
    "# for iterate through the list\n",
    "\n",
    "    # Math calculations: power and multiply\n",
    "    \n",
    "    # Display the output infomation"
   ]
  },
  {
   "cell_type": "code",
   "execution_count": null,
   "id": "38867aac-361a-4e65-b46a-49d3fcb48a99",
   "metadata": {},
   "outputs": [],
   "source": [
    "\"\"\"\n",
    "Practic\n",
    "Batch Unit converter\n",
    "\"\"\"\n",
    "# The convertion ratio is 453.59237 grams = 1 pound\n",
    "grams_per_pound = 453.59237\n",
    "\n",
    "#%% data acquisition\n",
    "# define a list variable as a data container\n",
    "\n",
    "# get the number of data from user input and convert it to int variable\n",
    "\n",
    "# decide if the input is valid\n",
    "\n",
    "    # show error information\n",
    "    \n",
    "    # exit the CLI app\n",
    "\n",
    "# for loop asking for input repeatly\n",
    "\n",
    "    # append the values to the list\n",
    "    \n",
    "\n",
    "#%% computation and display\n",
    "# for iterate through the list in REVERSED order.\n",
    "\n",
    "    # Math calculations: multiply\n",
    "    \n",
    "    # Display the output infomation"
   ]
  },
  {
   "cell_type": "markdown",
   "id": "9ee81ab1-8db8-481b-b4c1-e5f5ec8a597b",
   "metadata": {},
   "source": [
    "Please finish the practice project by yourself.\n",
    "You can use the lecture notes and the demo project as reference.\n",
    "When you finish, the result should behave in the same way as show in the website (given separtely).\n",
    "\n",
    "The key point of this practice is to display the results in a REVERSED order.\n",
    "\n",
    "Feel free to ask any questions."
   ]
  },
  {
   "cell_type": "code",
   "execution_count": null,
   "id": "0373d756-e734-4010-9b71-f72576acf904",
   "metadata": {},
   "outputs": [],
   "source": []
  }
 ],
 "metadata": {
  "kernelspec": {
   "display_name": "Python 3",
   "language": "python",
   "name": "python3"
  },
  "language_info": {
   "codemirror_mode": {
    "name": "ipython",
    "version": 3
   },
   "file_extension": ".py",
   "mimetype": "text/x-python",
   "name": "python",
   "nbconvert_exporter": "python",
   "pygments_lexer": "ipython3",
   "version": "3.7.10"
  }
 },
 "nbformat": 4,
 "nbformat_minor": 5
}
