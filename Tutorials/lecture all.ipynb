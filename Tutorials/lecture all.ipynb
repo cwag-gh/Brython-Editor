{
 "cells": [
  {
   "cell_type": "markdown",
   "id": "surgical-denmark",
   "metadata": {},
   "source": [
    "## Output"
   ]
  },
  {
   "cell_type": "code",
   "execution_count": 1,
   "id": "permanent-israeli",
   "metadata": {},
   "outputs": [
    {
     "name": "stdout",
     "output_type": "stream",
     "text": [
      "Hello, World!\n"
     ]
    }
   ],
   "source": [
    "print(\"Hello, World!\")"
   ]
  },
  {
   "cell_type": "markdown",
   "id": "motivated-emerald",
   "metadata": {},
   "source": [
    "- It is a ritual for beginning to study a programming language\n",
    "- `print()` is a *function*\n",
    "    - what's inside is its *parameter*\n",
    "    - what this function does is to display parameters in the *console*\n",
    "    - The mostly used function in programming, without \"one of\"\n",
    "- `\"Hello, World!\"` is a *string*\n",
    "    - String, means a string of letters, aka words.\n",
    "    - A string is a piece of data\n",
    "    - `\"\"` is used to indicate what ever inside are the content of the string"
   ]
  },
  {
   "cell_type": "markdown",
   "id": "fcc455d2-5eac-4be9-8899-b34dfb8f4d1b",
   "metadata": {},
   "source": [
    "## Comments"
   ]
  },
  {
   "cell_type": "code",
   "execution_count": 2,
   "id": "d24862d7-6f38-494a-817a-0dd349ad5a72",
   "metadata": {},
   "outputs": [
    {
     "name": "stdout",
     "output_type": "stream",
     "text": [
      "Hello, World!\n"
     ]
    }
   ],
   "source": [
    "print(\"Hello, World!\") # display words"
   ]
  },
  {
   "cell_type": "markdown",
   "id": "f27d55e1-14c7-413f-8278-5b3ed380d102",
   "metadata": {},
   "source": [
    "- `#` is used for inline comment\n",
    "    - anything after the `#` sign is considered \"out of code\""
   ]
  },
  {
   "cell_type": "code",
   "execution_count": 3,
   "id": "722b6fdc-c77a-4ca3-9890-fe692ab5607b",
   "metadata": {},
   "outputs": [],
   "source": [
    "# print(\"Hello, World!\")"
   ]
  },
  {
   "cell_type": "markdown",
   "id": "9dc84f84-8c93-48dd-8322-b43af3984c9f",
   "metadata": {},
   "source": [
    "- can also be used to disable a line of code\n",
    "    - very useful for debugging"
   ]
  },
  {
   "cell_type": "code",
   "execution_count": 4,
   "id": "431c3501-eb0f-41db-99f5-fecbb636d4a4",
   "metadata": {},
   "outputs": [
    {
     "data": {
      "text/plain": [
       "'\\nparagraph\\n'"
      ]
     },
     "execution_count": 4,
     "metadata": {},
     "output_type": "execute_result"
    }
   ],
   "source": [
    "\"\"\"\n",
    "paragraph\n",
    "\"\"\""
   ]
  },
  {
   "cell_type": "markdown",
   "id": "7100cc71-8e0e-463c-84f7-91a30448d714",
   "metadata": {},
   "source": [
    "- multi-line comments\n",
    "    - line in between a pair of `\"\"\"` are considered \"out of code\"\n",
    "    - used for discription of the file, or part of the file"
   ]
  },
  {
   "cell_type": "markdown",
   "id": "champion-comment",
   "metadata": {},
   "source": [
    "## Variables"
   ]
  },
  {
   "cell_type": "code",
   "execution_count": 5,
   "id": "heated-collapse",
   "metadata": {},
   "outputs": [
    {
     "name": "stdout",
     "output_type": "stream",
     "text": [
      "Hello, World!\n",
      "Hello, World!\n"
     ]
    }
   ],
   "source": [
    "words = \"Hello, World!\"\n",
    "print(words)\n",
    "print(words)"
   ]
  },
  {
   "cell_type": "markdown",
   "id": "illegal-mechanics",
   "metadata": {},
   "source": [
    "- `words` is a string *variable*\n",
    "    - a variable is the container of a piece of data\n",
    "    - each variable have a *type*\n",
    "        - which can be checked by `type()` function\n",
    "- The value of the variable can be *set* by `=`\n",
    "    - this `=` operation is also called *assignment*\n",
    "- The first set operation of a variable creates the variable\n",
    "    - In other programming language, this initial set operation is called *defining a variable*\n",
    "- The *value* of a variable can be *get* by calling its name, such as in `print(words)`\n",
    "    - *get* operation can be used for multiple times\n",
    "        - in contrast with `print(\"Hello, World!\")`, where `\"Hello, World!\"` disappears after the `print()` operation"
   ]
  },
  {
   "cell_type": "code",
   "execution_count": 6,
   "id": "usual-prior",
   "metadata": {},
   "outputs": [
    {
     "name": "stdout",
     "output_type": "stream",
     "text": [
      "<class 'str'>\n"
     ]
    }
   ],
   "source": [
    "print(type(words))"
   ]
  },
  {
   "cell_type": "code",
   "execution_count": 7,
   "id": "going-elevation",
   "metadata": {},
   "outputs": [
    {
     "name": "stdout",
     "output_type": "stream",
     "text": [
      "10\n",
      "<class 'int'>\n",
      "3.1415926\n",
      "<class 'float'>\n",
      "6.5331852\n",
      "20.25\n"
     ]
    }
   ],
   "source": [
    "num_of_people = 10\n",
    "pi = 3.1415926\n",
    "print(num_of_people)\n",
    "print(type(num_of_people))\n",
    "print(pi)\n",
    "print(type(pi))\n",
    "print(2 * pi + 1 - (3 / 4))\n",
    "print(2 * num_of_people + 1 - (3 / 4))"
   ]
  },
  {
   "cell_type": "markdown",
   "id": "beneficial-camera",
   "metadata": {},
   "source": [
    "- Variables can also be numbers\n",
    "- `num_of_people` is an interger, aka whole number\n",
    "    - its type is *int*\n",
    "        - don't worry about the word *class* here, we are going to talk about that later\n",
    "- `pi` is a decimal number\n",
    "    - decimal number are called `float` in programming\n",
    "- `print()` operation can accept almost any kinds of variables, and display them in reasonable ways\n",
    "- math operations: ()+_*/ all works here\n",
    "    - `*` cannot be omitted \n",
    "    - operation order is the same as in math"
   ]
  },
  {
   "cell_type": "code",
   "execution_count": 8,
   "id": "wireless-yugoslavia",
   "metadata": {},
   "outputs": [
    {
     "name": "stdout",
     "output_type": "stream",
     "text": [
      "Hello, World! (^_^)/\n"
     ]
    }
   ],
   "source": [
    "print(words + ' (^_^)/')"
   ]
  },
  {
   "cell_type": "markdown",
   "id": "dense-locator",
   "metadata": {},
   "source": [
    "- strings can be connected by `+` sign"
   ]
  },
  {
   "cell_type": "code",
   "execution_count": 9,
   "id": "sharp-grill",
   "metadata": {},
   "outputs": [
    {
     "name": "stdout",
     "output_type": "stream",
     "text": [
      "3.1415926\n",
      "<class 'str'>\n"
     ]
    }
   ],
   "source": [
    "print(str(pi))\n",
    "print(type(str(pi)))"
   ]
  },
  {
   "cell_type": "markdown",
   "id": "productive-integral",
   "metadata": {},
   "source": [
    "* Types of variables can be converted by `typename(variable)`"
   ]
  },
  {
   "cell_type": "code",
   "execution_count": 10,
   "id": "straight-occurrence",
   "metadata": {},
   "outputs": [
    {
     "name": "stdout",
     "output_type": "stream",
     "text": [
      "pi = 3.1415926\n"
     ]
    }
   ],
   "source": [
    "print('pi = ' + str(pi))"
   ]
  },
  {
   "cell_type": "markdown",
   "id": "atomic-flight",
   "metadata": {},
   "source": [
    "- this is how we display words and numbers together\n",
    "    - first convert number number to string\n",
    "    - then connect the strings together"
   ]
  },
  {
   "cell_type": "code",
   "execution_count": 11,
   "id": "careful-sailing",
   "metadata": {},
   "outputs": [
    {
     "name": "stdout",
     "output_type": "stream",
     "text": [
      "pi = 3.1415926\n"
     ]
    }
   ],
   "source": [
    "print('pi =', pi)"
   ]
  },
  {
   "cell_type": "markdown",
   "id": "charged-story",
   "metadata": {},
   "source": [
    "- print() accept multiple parameters\n",
    "    - each parameter is printed saperatly but in one line\n",
    "    - the result is connected by ' '(space)"
   ]
  },
  {
   "cell_type": "markdown",
   "id": "unlikely-murder",
   "metadata": {},
   "source": [
    "## Inputs"
   ]
  },
  {
   "cell_type": "code",
   "execution_count": 12,
   "id": "tribal-nursery",
   "metadata": {},
   "outputs": [
    {
     "name": "stdin",
     "output_type": "stream",
     "text": [
      "what is the radius: 15\n"
     ]
    },
    {
     "name": "stdout",
     "output_type": "stream",
     "text": [
      "15\n",
      "<class 'str'>\n"
     ]
    }
   ],
   "source": [
    "radius = input('what is the radius:')\n",
    "print(radius)\n",
    "print(type(radius))"
   ]
  },
  {
   "cell_type": "markdown",
   "id": "thorough-daniel",
   "metadata": {},
   "source": [
    "- `input()` is a function\n",
    "    - this function has a *return value*\n",
    "    - `variable = function(parameter)` will *assign* the return value to the variable\n",
    "    - parameter is optional, but you better have one.\n",
    "        - code has two aspects\n",
    "            - for computers to run\n",
    "            - for humans to read\n",
    "                - if you don't tell the users what to input, users are going to be confused\n",
    "- *return value* of the `input()` function is always a string\n",
    "    - if you want to get a number, you can convert the type"
   ]
  },
  {
   "cell_type": "code",
   "execution_count": 13,
   "id": "dominant-depth",
   "metadata": {},
   "outputs": [
    {
     "name": "stdin",
     "output_type": "stream",
     "text": [
      "what is the radius: 15\n"
     ]
    },
    {
     "name": "stdout",
     "output_type": "stream",
     "text": [
      "15.0\n",
      "<class 'float'>\n"
     ]
    }
   ],
   "source": [
    "radius = float(input('what is the radius:'))\n",
    "print(radius)\n",
    "print(type(radius))"
   ]
  },
  {
   "cell_type": "markdown",
   "id": "chief-tribe",
   "metadata": {},
   "source": [
    "## Bool"
   ]
  },
  {
   "cell_type": "code",
   "execution_count": 14,
   "id": "sublime-aviation",
   "metadata": {},
   "outputs": [
    {
     "name": "stdout",
     "output_type": "stream",
     "text": [
      "<class 'bool'>\n"
     ]
    }
   ],
   "source": [
    "statement = True\n",
    "print(type(statement))"
   ]
  },
  {
   "cell_type": "markdown",
   "id": "perfect-batman",
   "metadata": {},
   "source": [
    "- here introduce a new type of variable: *boolean variable* or `bool`\n",
    "    - in addition to `str`, `int`, `float`"
   ]
  },
  {
   "cell_type": "code",
   "execution_count": 15,
   "id": "negative-alcohol",
   "metadata": {},
   "outputs": [
    {
     "name": "stdout",
     "output_type": "stream",
     "text": [
      "True\n",
      "True\n",
      "False\n"
     ]
    }
   ],
   "source": [
    "print(1 == 1)\n",
    "number = -3\n",
    "print(number >= -5)\n",
    "statement = 3 > 5\n",
    "print(statement)"
   ]
  },
  {
   "cell_type": "markdown",
   "id": "complex-stable",
   "metadata": {},
   "source": [
    "- a true/false statement can *return* a Boolean value\n",
    "- number comarison is a kind of statement\n",
    "    - includes: `>`, `<`, `==`, `>=`, `<=`\n",
    "        - `==` because `=` means *assignment* in python and most of the programming language."
   ]
  },
  {
   "cell_type": "code",
   "execution_count": 16,
   "id": "emotional-canberra",
   "metadata": {},
   "outputs": [
    {
     "name": "stdout",
     "output_type": "stream",
     "text": [
      "True\n",
      "False\n"
     ]
    }
   ],
   "source": [
    "fruit = 'apple'\n",
    "print(fruit == 'apple')\n",
    "print(fruit == 'banana')"
   ]
  },
  {
   "cell_type": "markdown",
   "id": "better-benchmark",
   "metadata": {},
   "source": [
    "- also used to compare strings\n",
    "    - but only `==`"
   ]
  },
  {
   "cell_type": "markdown",
   "id": "french-swing",
   "metadata": {},
   "source": [
    "## If"
   ]
  },
  {
   "cell_type": "code",
   "execution_count": 17,
   "id": "joint-rates",
   "metadata": {},
   "outputs": [
    {
     "name": "stdin",
     "output_type": "stream",
     "text": [
      "input an integer 15\n"
     ]
    }
   ],
   "source": [
    "a = int(input('input an integer'))\n",
    "if a > 100:\n",
    "    print(a, 'is greater than 100')"
   ]
  },
  {
   "cell_type": "code",
   "execution_count": 18,
   "id": "legislative-klein",
   "metadata": {},
   "outputs": [
    {
     "name": "stdin",
     "output_type": "stream",
     "text": [
      "input an integer 15\n"
     ]
    },
    {
     "name": "stdout",
     "output_type": "stream",
     "text": [
      "15 is less than or equal to 100\n"
     ]
    }
   ],
   "source": [
    "a = int(input('input an integer'))\n",
    "if a > 100:\n",
    "    print(a, 'is greater than 100')\n",
    "else:\n",
    "    print(a, 'is less than or equal to 100')"
   ]
  },
  {
   "cell_type": "code",
   "execution_count": 19,
   "id": "coordinated-circuit",
   "metadata": {},
   "outputs": [
    {
     "name": "stdin",
     "output_type": "stream",
     "text": [
      "input an integer 15\n"
     ]
    },
    {
     "name": "stdout",
     "output_type": "stream",
     "text": [
      "15 is less than to 100\n"
     ]
    }
   ],
   "source": [
    "a = int(input('input an integer'))\n",
    "if a > 100:\n",
    "    print(a, 'is greater than 100')\n",
    "elif a < 100:\n",
    "    print(a, 'is less than to 100')\n",
    "else:\n",
    "    print(a, 'is equal to 100')"
   ]
  },
  {
   "cell_type": "markdown",
   "id": "entitled-passion",
   "metadata": {},
   "source": [
    "- format\n",
    "    - keywords\n",
    "    - true false statement as condition\n",
    "    - `:`\n",
    "    - indention\n",
    "    - no empty lines"
   ]
  },
  {
   "cell_type": "markdown",
   "id": "absolute-cross",
   "metadata": {},
   "source": [
    "## list (CRUD)"
   ]
  },
  {
   "cell_type": "markdown",
   "id": "sudden-turtle",
   "metadata": {},
   "source": [
    "### **C**reate"
   ]
  },
  {
   "cell_type": "code",
   "execution_count": 20,
   "id": "dedicated-birthday",
   "metadata": {},
   "outputs": [
    {
     "name": "stdout",
     "output_type": "stream",
     "text": [
      "[1, 2, 3]\n",
      "<class 'list'>\n"
     ]
    }
   ],
   "source": [
    "nums = [1, 2, 3]\n",
    "print(nums)\n",
    "print(type(nums))"
   ]
  },
  {
   "cell_type": "markdown",
   "id": "absolute-store",
   "metadata": {},
   "source": [
    "- create a list by `[]`\n",
    "- can be printed out directly"
   ]
  },
  {
   "cell_type": "code",
   "execution_count": 21,
   "id": "stock-columbus",
   "metadata": {},
   "outputs": [
    {
     "name": "stdout",
     "output_type": "stream",
     "text": [
      "[]\n",
      "[1]\n",
      "[1, 2]\n"
     ]
    }
   ],
   "source": [
    "nums = []\n",
    "print(nums)\n",
    "nums.append(1)\n",
    "print(nums)\n",
    "nums.append(2)\n",
    "print(nums)"
   ]
  },
  {
   "cell_type": "markdown",
   "id": "marked-laugh",
   "metadata": {},
   "source": [
    "- add an item at the end by `list.append(item)`\n",
    "    - end means right when print"
   ]
  },
  {
   "cell_type": "code",
   "execution_count": 22,
   "id": "facial-salvation",
   "metadata": {},
   "outputs": [
    {
     "name": "stdout",
     "output_type": "stream",
     "text": [
      "[1, 2, 3, 100, 200, 300, 400]\n"
     ]
    }
   ],
   "source": [
    "first_part = [1, 2, 3]\n",
    "last_part = [100, 200, 300, 400]\n",
    "all_parts = first_part + last_part\n",
    "print(all_parts)"
   ]
  },
  {
   "cell_type": "markdown",
   "id": "eight-revelation",
   "metadata": {},
   "source": [
    "- use `+` to connect the lists"
   ]
  },
  {
   "cell_type": "markdown",
   "id": "artistic-premium",
   "metadata": {},
   "source": [
    "### **R**ead"
   ]
  },
  {
   "cell_type": "code",
   "execution_count": 23,
   "id": "sixth-booking",
   "metadata": {},
   "outputs": [
    {
     "name": "stdout",
     "output_type": "stream",
     "text": [
      "10\n",
      "20\n",
      "30\n"
     ]
    }
   ],
   "source": [
    "nums = [10, 20, 30]\n",
    "print(nums[0])\n",
    "print(nums[1])\n",
    "print(nums[2])"
   ]
  },
  {
   "cell_type": "markdown",
   "id": "77c3fdb6-9367-4685-bbfa-bc4f2fc4f7c5",
   "metadata": {},
   "source": [
    "- index starts at 0\n",
    "- the index of last index is *length* - 1"
   ]
  },
  {
   "cell_type": "code",
   "execution_count": 24,
   "id": "47d80fbd-cfe8-46b8-b7f9-d17abe4b4d19",
   "metadata": {},
   "outputs": [
    {
     "name": "stdout",
     "output_type": "stream",
     "text": [
      "30\n",
      "20\n",
      "10\n"
     ]
    }
   ],
   "source": [
    "print(nums[-1])\n",
    "print(nums[-2])\n",
    "print(nums[-3])"
   ]
  },
  {
   "cell_type": "markdown",
   "id": "e6f18749-e723-439b-8d70-3c29525420aa",
   "metadata": {},
   "source": [
    "- if use nagitive index\n",
    "    - `-1` is the last index"
   ]
  },
  {
   "cell_type": "code",
   "execution_count": 25,
   "id": "39b0afe1-2578-4d62-8ad0-cb18581d848a",
   "metadata": {},
   "outputs": [
    {
     "name": "stdout",
     "output_type": "stream",
     "text": [
      "11\n"
     ]
    }
   ],
   "source": [
    "print(nums[0] + 1)"
   ]
  },
  {
   "cell_type": "markdown",
   "id": "406f2dd4-0b22-4d19-85f7-560c58895e13",
   "metadata": {},
   "source": [
    "- the value of the list can be used for other operations"
   ]
  },
  {
   "cell_type": "code",
   "execution_count": 26,
   "id": "18d8cb0f-58a4-49cd-a3fc-5e22a22a4f2b",
   "metadata": {},
   "outputs": [
    {
     "name": "stdout",
     "output_type": "stream",
     "text": [
      "<class 'int'>\n",
      "<class 'float'>\n",
      "<class 'str'>\n",
      "<class 'list'>\n",
      "0\n"
     ]
    }
   ],
   "source": [
    "misc = [1, 2.5, 'hi', [0]]\n",
    "print(type(misc[0]))\n",
    "print(type(misc[1]))\n",
    "print(type(misc[2]))\n",
    "print(type(misc[3]))\n",
    "print(misc[3][0])"
   ]
  },
  {
   "cell_type": "markdown",
   "id": "f6a57d2b-11c6-48fa-b9d7-5e0a9962318b",
   "metadata": {},
   "source": [
    "- the content of the list can be of any type\n",
    "    - even a list (nested list)\n",
    "- to read value in the inner list, you need 2 pairs of `[]`"
   ]
  },
  {
   "cell_type": "code",
   "execution_count": 27,
   "id": "2e8ebe66-36e8-4fac-b23a-6c988963fd6c",
   "metadata": {},
   "outputs": [
    {
     "data": {
      "text/plain": [
       "3"
      ]
     },
     "execution_count": 27,
     "metadata": {},
     "output_type": "execute_result"
    }
   ],
   "source": [
    "nums = [10, 20, 30]\n",
    "len(nums)"
   ]
  },
  {
   "cell_type": "markdown",
   "id": "b8bd1ef0-c965-42b6-aea7-c8a6c5964713",
   "metadata": {},
   "source": [
    "- get the number of items in the list"
   ]
  },
  {
   "cell_type": "markdown",
   "id": "63a0bda1-8970-4727-9c1f-dde07ea7ae62",
   "metadata": {},
   "source": [
    "### **U**pdate"
   ]
  },
  {
   "cell_type": "code",
   "execution_count": 28,
   "id": "1924cd30-59d0-46f6-8ff3-ae120f929f34",
   "metadata": {},
   "outputs": [
    {
     "name": "stdout",
     "output_type": "stream",
     "text": [
      "[10, 1000, 30]\n"
     ]
    }
   ],
   "source": [
    "nums = [10, 20, 30]\n",
    "nums[1] = 1000\n",
    "print(nums)"
   ]
  },
  {
   "cell_type": "markdown",
   "id": "9ce675d6-c3c1-4cb0-b5eb-64c9c0fefe5f",
   "metadata": {},
   "source": [
    "### **D**elete"
   ]
  },
  {
   "cell_type": "code",
   "execution_count": 29,
   "id": "a2114905-376c-4293-a8df-06566c276460",
   "metadata": {},
   "outputs": [
    {
     "name": "stdout",
     "output_type": "stream",
     "text": [
      "[10, 30]\n"
     ]
    }
   ],
   "source": [
    "nums = [10, 20, 30]\n",
    "nums.pop(1)\n",
    "print(nums)"
   ]
  },
  {
   "cell_type": "markdown",
   "id": "4bcc6c2d-5120-42e9-88fc-c1c6a214b73b",
   "metadata": {},
   "source": [
    "## Help"
   ]
  },
  {
   "cell_type": "code",
   "execution_count": 30,
   "id": "8e076dec-7c3e-48e7-a8ad-af0433684f0b",
   "metadata": {},
   "outputs": [
    {
     "name": "stdout",
     "output_type": "stream",
     "text": [
      "Help on list object:\n",
      "\n",
      "class list(object)\n",
      " |  list(iterable=(), /)\n",
      " |  \n",
      " |  Built-in mutable sequence.\n",
      " |  \n",
      " |  If no argument is given, the constructor creates a new empty list.\n",
      " |  The argument must be an iterable if specified.\n",
      " |  \n",
      " |  Methods defined here:\n",
      " |  \n",
      " |  __add__(self, value, /)\n",
      " |      Return self+value.\n",
      " |  \n",
      " |  __contains__(self, key, /)\n",
      " |      Return key in self.\n",
      " |  \n",
      " |  __delitem__(self, key, /)\n",
      " |      Delete self[key].\n",
      " |  \n",
      " |  __eq__(self, value, /)\n",
      " |      Return self==value.\n",
      " |  \n",
      " |  __ge__(self, value, /)\n",
      " |      Return self>=value.\n",
      " |  \n",
      " |  __getattribute__(self, name, /)\n",
      " |      Return getattr(self, name).\n",
      " |  \n",
      " |  __getitem__(...)\n",
      " |      x.__getitem__(y) <==> x[y]\n",
      " |  \n",
      " |  __gt__(self, value, /)\n",
      " |      Return self>value.\n",
      " |  \n",
      " |  __iadd__(self, value, /)\n",
      " |      Implement self+=value.\n",
      " |  \n",
      " |  __imul__(self, value, /)\n",
      " |      Implement self*=value.\n",
      " |  \n",
      " |  __init__(self, /, *args, **kwargs)\n",
      " |      Initialize self.  See help(type(self)) for accurate signature.\n",
      " |  \n",
      " |  __iter__(self, /)\n",
      " |      Implement iter(self).\n",
      " |  \n",
      " |  __le__(self, value, /)\n",
      " |      Return self<=value.\n",
      " |  \n",
      " |  __len__(self, /)\n",
      " |      Return len(self).\n",
      " |  \n",
      " |  __lt__(self, value, /)\n",
      " |      Return self<value.\n",
      " |  \n",
      " |  __mul__(self, value, /)\n",
      " |      Return self*value.\n",
      " |  \n",
      " |  __ne__(self, value, /)\n",
      " |      Return self!=value.\n",
      " |  \n",
      " |  __repr__(self, /)\n",
      " |      Return repr(self).\n",
      " |  \n",
      " |  __reversed__(self, /)\n",
      " |      Return a reverse iterator over the list.\n",
      " |  \n",
      " |  __rmul__(self, value, /)\n",
      " |      Return value*self.\n",
      " |  \n",
      " |  __setitem__(self, key, value, /)\n",
      " |      Set self[key] to value.\n",
      " |  \n",
      " |  __sizeof__(self, /)\n",
      " |      Return the size of the list in memory, in bytes.\n",
      " |  \n",
      " |  append(self, object, /)\n",
      " |      Append object to the end of the list.\n",
      " |  \n",
      " |  clear(self, /)\n",
      " |      Remove all items from list.\n",
      " |  \n",
      " |  copy(self, /)\n",
      " |      Return a shallow copy of the list.\n",
      " |  \n",
      " |  count(self, value, /)\n",
      " |      Return number of occurrences of value.\n",
      " |  \n",
      " |  extend(self, iterable, /)\n",
      " |      Extend list by appending elements from the iterable.\n",
      " |  \n",
      " |  index(self, value, start=0, stop=9223372036854775807, /)\n",
      " |      Return first index of value.\n",
      " |      \n",
      " |      Raises ValueError if the value is not present.\n",
      " |  \n",
      " |  insert(self, index, object, /)\n",
      " |      Insert object before index.\n",
      " |  \n",
      " |  pop(self, index=-1, /)\n",
      " |      Remove and return item at index (default last).\n",
      " |      \n",
      " |      Raises IndexError if list is empty or index is out of range.\n",
      " |  \n",
      " |  remove(self, value, /)\n",
      " |      Remove first occurrence of value.\n",
      " |      \n",
      " |      Raises ValueError if the value is not present.\n",
      " |  \n",
      " |  reverse(self, /)\n",
      " |      Reverse *IN PLACE*.\n",
      " |  \n",
      " |  sort(self, /, *, key=None, reverse=False)\n",
      " |      Stable sort *IN PLACE*.\n",
      " |  \n",
      " |  ----------------------------------------------------------------------\n",
      " |  Static methods defined here:\n",
      " |  \n",
      " |  __new__(*args, **kwargs) from builtins.type\n",
      " |      Create and return a new object.  See help(type) for accurate signature.\n",
      " |  \n",
      " |  ----------------------------------------------------------------------\n",
      " |  Data and other attributes defined here:\n",
      " |  \n",
      " |  __hash__ = None\n",
      "\n"
     ]
    }
   ],
   "source": [
    "nums = [10, 20, 30]\n",
    "help(nums)"
   ]
  },
  {
   "cell_type": "markdown",
   "id": "ae5b41f8-8abc-430c-b68b-e51d9ae648fa",
   "metadata": {},
   "source": [
    "## For Loop"
   ]
  },
  {
   "cell_type": "code",
   "execution_count": 31,
   "id": "187a4ffc-dd7b-40fe-a7d4-1378079f2efb",
   "metadata": {},
   "outputs": [
    {
     "name": "stdout",
     "output_type": "stream",
     "text": [
      "0\n",
      "1\n",
      "2\n",
      "3\n",
      "4\n",
      "5\n",
      "6\n",
      "7\n",
      "8\n",
      "9\n"
     ]
    }
   ],
   "source": [
    "for i in range(10):\n",
    "    print(i)"
   ]
  },
  {
   "cell_type": "markdown",
   "id": "e85fdec2-353f-420d-8cd1-534b8b1c9bab",
   "metadata": {},
   "source": [
    "- format\n",
    "    - keywords\n",
    "    - number in side `range()` is the number of reapt\n",
    "    - `i` is the index and it starts from 0\n",
    "    - `:`\n",
    "    - indention\n",
    "    - no empty lines\n",
    "    "
   ]
  },
  {
   "cell_type": "code",
   "execution_count": 32,
   "id": "b2d9f2bf-938d-4e47-b7e2-6fb19804b5a2",
   "metadata": {},
   "outputs": [
    {
     "name": "stdout",
     "output_type": "stream",
     "text": [
      "10\n",
      "20\n",
      "30\n"
     ]
    }
   ],
   "source": [
    "# iterate through List\n",
    "nums = [10, 20, 30]\n",
    "for i in range(len(nums)):\n",
    "    print(nums[i])"
   ]
  },
  {
   "cell_type": "markdown",
   "id": "ef7e1b49-ed55-4d03-aaca-9c0fb08a1c45",
   "metadata": {},
   "source": [
    "## While Loop (Optional)"
   ]
  },
  {
   "cell_type": "code",
   "execution_count": 37,
   "id": "6c498046-ae1b-42cb-8963-a787b18c94c2",
   "metadata": {},
   "outputs": [
    {
     "name": "stdin",
     "output_type": "stream",
     "text": [
      "Please type in anything. Type \"end\" to stop:  sdger\n",
      "Please type in anything. Type \"end\" to stop:  ert\n",
      "Please type in anything. Type \"end\" to stop:  end\n"
     ]
    },
    {
     "name": "stdout",
     "output_type": "stream",
     "text": [
      "while loop breaked\n"
     ]
    }
   ],
   "source": [
    "while True:\n",
    "    user_input = input('Please type in anything. Type \\\"end\\\" to stop: ')\n",
    "    if user_input == 'end':\n",
    "        break\n",
    "print('while loop breaked')"
   ]
  },
  {
   "cell_type": "markdown",
   "id": "e8909c08-751f-403b-87a6-e7172e29f2fe",
   "metadata": {},
   "source": [
    "- format\n",
    "    - keywords\n",
    "    - `while True` is not going to stop untill `break`\n",
    "        - usually there is an `if` condition deciding when to `break`\n",
    "    - `:`\n",
    "    - indention\n",
    "    - no empty lines\n",
    "    "
   ]
  },
  {
   "cell_type": "code",
   "execution_count": 36,
   "id": "6b3ff771-8004-4cc4-9777-d5e22efdc89d",
   "metadata": {},
   "outputs": [
    {
     "name": "stdin",
     "output_type": "stream",
     "text": [
      "Please type in anything. Type \"end\" to stop:  asdfv\n",
      "Please type in anything. Type \"end\" to stop:  vrw\n",
      "Please type in anything. Type \"end\" to stop:  end\n"
     ]
    },
    {
     "name": "stdout",
     "output_type": "stream",
     "text": [
      "while loop breaked\n",
      "['asdfv', 'vrw']\n"
     ]
    }
   ],
   "source": [
    "# with data record\n",
    "data = []\n",
    "while True:\n",
    "    user_input = input('Please type in anything. Type \\\"end\\\" to stop: ')\n",
    "    if user_input == 'end':\n",
    "        break\n",
    "    else:\n",
    "        data.append(user_input)\n",
    "print('while loop breaked')\n",
    "print(data)"
   ]
  },
  {
   "cell_type": "code",
   "execution_count": 35,
   "id": "aa6d5555-49d2-40b3-997a-12717d417642",
   "metadata": {},
   "outputs": [
    {
     "name": "stdout",
     "output_type": "stream",
     "text": [
      "for loop\n",
      "0\n",
      "3\n",
      "6\n",
      "7\n",
      "9\n",
      "12\n",
      "14\n",
      "15\n",
      "18\n",
      "21\n",
      "24\n",
      "27\n",
      "28\n",
      "while loop\n",
      "0\n",
      "3\n",
      "6\n",
      "7\n",
      "9\n",
      "12\n",
      "14\n",
      "15\n",
      "18\n",
      "21\n"
     ]
    }
   ],
   "source": [
    "\"\"\"\n",
    "Mini project comparing for and while loop\n",
    "\"\"\"\n",
    "print('for loop')\n",
    "for i in range(30):\n",
    "    if i % 3 == 0 or i % 7 == 0:\n",
    "        print(i)\n",
    "        \n",
    "print('while loop')\n",
    "counter = 0\n",
    "i = 0\n",
    "while counter < 10:\n",
    "    if i % 3 == 0 or i % 7 == 0:\n",
    "        counter += 1\n",
    "        print(i)\n",
    "    i += 1"
   ]
  },
  {
   "cell_type": "code",
   "execution_count": null,
   "id": "c8dcfc95-3e5f-4bc5-80f7-7213a1804feb",
   "metadata": {},
   "outputs": [],
   "source": []
  }
 ],
 "metadata": {
  "kernelspec": {
   "display_name": "Python 3",
   "language": "python",
   "name": "python3"
  },
  "language_info": {
   "codemirror_mode": {
    "name": "ipython",
    "version": 3
   },
   "file_extension": ".py",
   "mimetype": "text/x-python",
   "name": "python",
   "nbconvert_exporter": "python",
   "pygments_lexer": "ipython3",
   "version": "3.7.10"
  }
 },
 "nbformat": 4,
 "nbformat_minor": 5
}
