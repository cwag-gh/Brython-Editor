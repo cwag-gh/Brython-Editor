{
 "cells": [
  {
   "cell_type": "markdown",
   "id": "surgical-denmark",
   "metadata": {},
   "source": [
    "# Output"
   ]
  },
  {
   "cell_type": "code",
   "execution_count": 1,
   "id": "permanent-israeli",
   "metadata": {},
   "outputs": [
    {
     "name": "stdout",
     "output_type": "stream",
     "text": [
      "Hello, World!\n"
     ]
    }
   ],
   "source": [
    "print(\"Hello, World!\")"
   ]
  },
  {
   "cell_type": "markdown",
   "id": "motivated-emerald",
   "metadata": {},
   "source": [
    "- It is a ritual for beginning to study a programming language\n",
    "- `print()` is a *function*\n",
    "    - what's inside is its *parameter*\n",
    "    - what this function does is to display parameters in the *console*\n",
    "    - The mostly used function in programming, without \"one of\"\n",
    "- `\"Hello, World!\"` is a *string*\n",
    "    - String, means a string of letters, aka words.\n",
    "    - A string is a piece of data\n",
    "    - `\"\"` is used to indicate what ever inside are the content of the string"
   ]
  },
  {
   "cell_type": "markdown",
   "id": "champion-comment",
   "metadata": {},
   "source": [
    "# Variables"
   ]
  },
  {
   "cell_type": "code",
   "execution_count": 2,
   "id": "heated-collapse",
   "metadata": {},
   "outputs": [
    {
     "name": "stdout",
     "output_type": "stream",
     "text": [
      "Hello, World!\n",
      "Hello, World!\n"
     ]
    }
   ],
   "source": [
    "words = \"Hello, World!\"\n",
    "print(words)\n",
    "print(words)"
   ]
  },
  {
   "cell_type": "markdown",
   "id": "illegal-mechanics",
   "metadata": {},
   "source": [
    "- `words` is a string *variable*\n",
    "    - a variable is the container of a piece of data\n",
    "    - each variable have a *type*\n",
    "        - which can be checked by `type()` function\n",
    "- The value of the variable can be *set* by `=`\n",
    "    - this `=` operation is also called *assignment*\n",
    "- The first set operation of a variable creates the variable\n",
    "    - In other programming language, this initial set operation is called *defining a variable*\n",
    "- The *value* of a variable can be *get* by calling its name, such as in `print(words)`\n",
    "    - *get* operation can be used for multiple times\n",
    "        - in contrast with `print(\"Hello, World!\")`, where `\"Hello, World!\"` disappears after the `print()` operation"
   ]
  },
  {
   "cell_type": "code",
   "execution_count": 3,
   "id": "usual-prior",
   "metadata": {},
   "outputs": [
    {
     "name": "stdout",
     "output_type": "stream",
     "text": [
      "<class 'str'>\n"
     ]
    }
   ],
   "source": [
    "print(type(words))"
   ]
  },
  {
   "cell_type": "code",
   "execution_count": 4,
   "id": "going-elevation",
   "metadata": {},
   "outputs": [
    {
     "name": "stdout",
     "output_type": "stream",
     "text": [
      "10\n",
      "<class 'int'>\n",
      "3.1415926\n",
      "<class 'float'>\n",
      "6.5331852\n",
      "20.25\n"
     ]
    }
   ],
   "source": [
    "num_of_people = 10\n",
    "pi = 3.1415926\n",
    "print(num_of_people)\n",
    "print(type(num_of_people))\n",
    "print(pi)\n",
    "print(type(pi))\n",
    "print(2 * pi + 1 - (3 / 4))\n",
    "print(2 * num_of_people + 1 - (3 / 4))"
   ]
  },
  {
   "cell_type": "markdown",
   "id": "beneficial-camera",
   "metadata": {},
   "source": [
    "- Variables can also be numbers\n",
    "- `num_of_people` is an interger, aka whole number\n",
    "    - its type is *int*\n",
    "        - don't worry about the word *class* here, we are going to talk about that later\n",
    "- `pi` is a decimal number\n",
    "    - decimal number are called `float` in programming\n",
    "- `print()` operation can accept almost any kinds of variables, and display them in reasonable ways\n",
    "- math operations: ()+_*/ all works here\n",
    "    - `*` cannot be omitted \n",
    "    - operation order is the same as in math"
   ]
  },
  {
   "cell_type": "code",
   "execution_count": 5,
   "id": "wireless-yugoslavia",
   "metadata": {},
   "outputs": [
    {
     "name": "stdout",
     "output_type": "stream",
     "text": [
      "Hello, World! (^_^)/\n"
     ]
    }
   ],
   "source": [
    "print(words + ' (^_^)/')"
   ]
  },
  {
   "cell_type": "markdown",
   "id": "dense-locator",
   "metadata": {},
   "source": [
    "- strings can be connected by `+` sign"
   ]
  },
  {
   "cell_type": "code",
   "execution_count": 6,
   "id": "sharp-grill",
   "metadata": {},
   "outputs": [
    {
     "name": "stdout",
     "output_type": "stream",
     "text": [
      "3.1415926\n",
      "<class 'str'>\n"
     ]
    }
   ],
   "source": [
    "print(str(pi))\n",
    "print(type(str(pi)))"
   ]
  },
  {
   "cell_type": "markdown",
   "id": "productive-integral",
   "metadata": {},
   "source": [
    "* Types of variables can be converted by `typename(variable)`"
   ]
  },
  {
   "cell_type": "code",
   "execution_count": 7,
   "id": "straight-occurrence",
   "metadata": {},
   "outputs": [
    {
     "name": "stdout",
     "output_type": "stream",
     "text": [
      "pi = 3.1415926\n"
     ]
    }
   ],
   "source": [
    "print('pi = ' + str(pi))"
   ]
  },
  {
   "cell_type": "markdown",
   "id": "atomic-flight",
   "metadata": {},
   "source": [
    "- this is how we display words and numbers together\n",
    "    - first convert number number to string\n",
    "    - then connect the strings together"
   ]
  },
  {
   "cell_type": "code",
   "execution_count": 11,
   "id": "careful-sailing",
   "metadata": {},
   "outputs": [
    {
     "name": "stdout",
     "output_type": "stream",
     "text": [
      "pi = 3.1415926\n"
     ]
    }
   ],
   "source": [
    "print('pi =', pi)"
   ]
  },
  {
   "cell_type": "markdown",
   "id": "charged-story",
   "metadata": {},
   "source": [
    "- print() accept multiple parameters\n",
    "    - each parameter is printed saperatly but in one line\n",
    "    - the result is connected by ' '(space)"
   ]
  },
  {
   "cell_type": "markdown",
   "id": "unlikely-murder",
   "metadata": {},
   "source": [
    "# Inputs"
   ]
  },
  {
   "cell_type": "code",
   "execution_count": 9,
   "id": "tribal-nursery",
   "metadata": {},
   "outputs": [
    {
     "name": "stdin",
     "output_type": "stream",
     "text": [
      "what is the radius: 10\n"
     ]
    },
    {
     "name": "stdout",
     "output_type": "stream",
     "text": [
      "10\n",
      "<class 'str'>\n"
     ]
    }
   ],
   "source": [
    "radius = input('what is the radius:')\n",
    "print(radius)\n",
    "print(type(radius))"
   ]
  },
  {
   "cell_type": "markdown",
   "id": "thorough-daniel",
   "metadata": {},
   "source": [
    "- `input()` is a function\n",
    "    - this function has a *return value*\n",
    "    - `variable = function(parameter)` will *assign* the return value to the variable\n",
    "    - parameter is optional, but you better have one.\n",
    "        - code has two aspects\n",
    "            - for computers to run\n",
    "            - for humans to read\n",
    "                - if you don't tell the users what to input, users are going to be confused\n",
    "- *return value* of the `input()` function is always a string\n",
    "    - if you want to get a number, you can convert the type"
   ]
  },
  {
   "cell_type": "code",
   "execution_count": 10,
   "id": "dominant-depth",
   "metadata": {},
   "outputs": [
    {
     "name": "stdin",
     "output_type": "stream",
     "text": [
      "what is the radius: 10\n"
     ]
    },
    {
     "name": "stdout",
     "output_type": "stream",
     "text": [
      "10.0\n",
      "<class 'float'>\n"
     ]
    }
   ],
   "source": [
    "radius = float(input('what is the radius:'))\n",
    "print(radius)\n",
    "print(type(radius))"
   ]
  },
  {
   "cell_type": "markdown",
   "id": "chief-tribe",
   "metadata": {},
   "source": [
    "# Bool"
   ]
  },
  {
   "cell_type": "code",
   "execution_count": 7,
   "id": "sublime-aviation",
   "metadata": {},
   "outputs": [
    {
     "name": "stdout",
     "output_type": "stream",
     "text": [
      "<class 'bool'>\n"
     ]
    }
   ],
   "source": [
    "statement = True\n",
    "print(type(statement))"
   ]
  },
  {
   "cell_type": "markdown",
   "id": "perfect-batman",
   "metadata": {},
   "source": [
    "- here introduce a new type of variable: *boolean variable* or `bool`\n",
    "    - in addition to `str`, `int`, `float`"
   ]
  },
  {
   "cell_type": "code",
   "execution_count": 8,
   "id": "negative-alcohol",
   "metadata": {},
   "outputs": [
    {
     "name": "stdout",
     "output_type": "stream",
     "text": [
      "True\n",
      "True\n",
      "False\n"
     ]
    }
   ],
   "source": [
    "print(1 == 1)\n",
    "number = -3\n",
    "print(number >= -5)\n",
    "statement = 3 > 5\n",
    "print(statement)"
   ]
  },
  {
   "cell_type": "markdown",
   "id": "complex-stable",
   "metadata": {},
   "source": [
    "- a true/false statement can *return* a Boolean value\n",
    "- number comarison is a kind of statement\n",
    "    - includes: `>`, `<`, `==`, `>=`, `<=`\n",
    "        - `==` because `=` means *assignment* in python and most of the programming language."
   ]
  },
  {
   "cell_type": "code",
   "execution_count": 9,
   "id": "emotional-canberra",
   "metadata": {},
   "outputs": [
    {
     "name": "stdout",
     "output_type": "stream",
     "text": [
      "True\n",
      "False\n"
     ]
    }
   ],
   "source": [
    "fruit = 'apple'\n",
    "print(fruit == 'apple')\n",
    "print(fruit == 'banana')"
   ]
  },
  {
   "cell_type": "markdown",
   "id": "better-benchmark",
   "metadata": {},
   "source": [
    "- also used to compare strings\n",
    "    - but only `==`"
   ]
  },
  {
   "cell_type": "markdown",
   "id": "french-swing",
   "metadata": {},
   "source": [
    "# If"
   ]
  },
  {
   "cell_type": "code",
   "execution_count": 10,
   "id": "joint-rates",
   "metadata": {},
   "outputs": [
    {
     "name": "stdin",
     "output_type": "stream",
     "text": [
      "input an integer 99\n"
     ]
    }
   ],
   "source": [
    "a = int(input('input an integer'))\n",
    "if a > 100:\n",
    "    print(a, 'is greater than 100')"
   ]
  },
  {
   "cell_type": "code",
   "execution_count": 11,
   "id": "legislative-klein",
   "metadata": {},
   "outputs": [
    {
     "name": "stdin",
     "output_type": "stream",
     "text": [
      "input an integer 99\n"
     ]
    },
    {
     "name": "stdout",
     "output_type": "stream",
     "text": [
      "99 is less than or equal to 100\n"
     ]
    }
   ],
   "source": [
    "a = int(input('input an integer'))\n",
    "if a > 100:\n",
    "    print(a, 'is greater than 100')\n",
    "else:\n",
    "    print(a, 'is less than or equal to 100')"
   ]
  },
  {
   "cell_type": "code",
   "execution_count": 12,
   "id": "coordinated-circuit",
   "metadata": {},
   "outputs": [
    {
     "name": "stdin",
     "output_type": "stream",
     "text": [
      "input an integer 99\n"
     ]
    },
    {
     "name": "stdout",
     "output_type": "stream",
     "text": [
      "99 is less than to 100\n"
     ]
    }
   ],
   "source": [
    "a = int(input('input an integer'))\n",
    "if a > 100:\n",
    "    print(a, 'is greater than 100')\n",
    "elif a < 100:\n",
    "    print(a, 'is less than to 100')\n",
    "else:\n",
    "    print(a, 'is equal to 100')"
   ]
  },
  {
   "cell_type": "markdown",
   "id": "entitled-passion",
   "metadata": {},
   "source": [
    "- format\n",
    "    - keywords\n",
    "    - true false statement as condition\n",
    "    - `:`\n",
    "    - indention\n",
    "    - no empty lines"
   ]
  },
  {
   "cell_type": "markdown",
   "id": "absolute-cross",
   "metadata": {},
   "source": [
    "# list (CRUD)"
   ]
  },
  {
   "cell_type": "markdown",
   "id": "sudden-turtle",
   "metadata": {},
   "source": [
    "## **C**reate"
   ]
  },
  {
   "cell_type": "code",
   "execution_count": 14,
   "id": "dedicated-birthday",
   "metadata": {},
   "outputs": [
    {
     "name": "stdout",
     "output_type": "stream",
     "text": [
      "[1, 2, 3]\n",
      "<class 'list'>\n"
     ]
    }
   ],
   "source": [
    "nums = [1, 2, 3]\n",
    "print(nums)\n",
    "print(type(nums))"
   ]
  },
  {
   "cell_type": "markdown",
   "id": "absolute-store",
   "metadata": {},
   "source": [
    "- create a list by `[]`\n",
    "- can be printed out directly"
   ]
  },
  {
   "cell_type": "code",
   "execution_count": 19,
   "id": "stock-columbus",
   "metadata": {},
   "outputs": [
    {
     "name": "stdout",
     "output_type": "stream",
     "text": [
      "[]\n",
      "[1]\n",
      "[1, 2]\n"
     ]
    }
   ],
   "source": [
    "nums = []\n",
    "print(nums)\n",
    "nums.append(1)\n",
    "print(nums)\n",
    "nums.append(2)\n",
    "print(nums)"
   ]
  },
  {
   "cell_type": "markdown",
   "id": "marked-laugh",
   "metadata": {},
   "source": [
    "- add an item at the end by `list.append(item)`\n",
    "    - end means right when print"
   ]
  },
  {
   "cell_type": "code",
   "execution_count": 20,
   "id": "facial-salvation",
   "metadata": {},
   "outputs": [
    {
     "name": "stdout",
     "output_type": "stream",
     "text": [
      "[1, 2, 3, 100, 200, 300, 400]\n"
     ]
    }
   ],
   "source": [
    "first_part = [1, 2, 3]\n",
    "last_part = [100, 200, 300, 400]\n",
    "all_parts = first_part + last_part\n",
    "print(all_parts)"
   ]
  },
  {
   "cell_type": "markdown",
   "id": "eight-revelation",
   "metadata": {},
   "source": [
    "- use `+` to connect the lists"
   ]
  },
  {
   "cell_type": "markdown",
   "id": "artistic-premium",
   "metadata": {},
   "source": [
    "## **R**ead"
   ]
  },
  {
   "cell_type": "code",
   "execution_count": 1,
   "id": "sixth-booking",
   "metadata": {},
   "outputs": [
    {
     "name": "stdout",
     "output_type": "stream",
     "text": [
      "10\n",
      "20\n",
      "30\n"
     ]
    }
   ],
   "source": [
    "nums = [10, 20, 30]\n",
    "print(nums[0])\n",
    "print(nums[1])\n",
    "print(nums[2])"
   ]
  },
  {
   "cell_type": "markdown",
   "id": "77c3fdb6-9367-4685-bbfa-bc4f2fc4f7c5",
   "metadata": {},
   "source": [
    "- index starts at 0\n",
    "- the index of last index is *length* - 1"
   ]
  },
  {
   "cell_type": "code",
   "execution_count": 2,
   "id": "47d80fbd-cfe8-46b8-b7f9-d17abe4b4d19",
   "metadata": {},
   "outputs": [
    {
     "name": "stdout",
     "output_type": "stream",
     "text": [
      "30\n",
      "20\n",
      "10\n"
     ]
    }
   ],
   "source": [
    "print(nums[-1])\n",
    "print(nums[-2])\n",
    "print(nums[-3])"
   ]
  },
  {
   "cell_type": "markdown",
   "id": "e6f18749-e723-439b-8d70-3c29525420aa",
   "metadata": {},
   "source": [
    "- if use nagitive index\n",
    "    - `-1` is the last index"
   ]
  },
  {
   "cell_type": "code",
   "execution_count": 4,
   "id": "39b0afe1-2578-4d62-8ad0-cb18581d848a",
   "metadata": {},
   "outputs": [
    {
     "name": "stdout",
     "output_type": "stream",
     "text": [
      "11\n"
     ]
    }
   ],
   "source": [
    "print(nums[0] + 1)"
   ]
  },
  {
   "cell_type": "markdown",
   "id": "406f2dd4-0b22-4d19-85f7-560c58895e13",
   "metadata": {},
   "source": [
    "- the value of the list can be used for other operations"
   ]
  },
  {
   "cell_type": "code",
   "execution_count": 9,
   "id": "18d8cb0f-58a4-49cd-a3fc-5e22a22a4f2b",
   "metadata": {},
   "outputs": [
    {
     "name": "stdout",
     "output_type": "stream",
     "text": [
      "<class 'int'>\n",
      "<class 'float'>\n",
      "<class 'str'>\n",
      "<class 'list'>\n"
     ]
    }
   ],
   "source": [
    "misc = [1, 2.5, 'hi', [0]]\n",
    "print(type(misc[0]))\n",
    "print(type(misc[1]))\n",
    "print(type(misc[2]))\n",
    "print(type(misc[3]))"
   ]
  },
  {
   "cell_type": "markdown",
   "id": "f6a57d2b-11c6-48fa-b9d7-5e0a9962318b",
   "metadata": {},
   "source": [
    "- the content of the list can be of any type\n",
    "    - even a list (nested list)"
   ]
  },
  {
   "cell_type": "code",
   "execution_count": null,
   "id": "9c06a8f2-c7ce-47d9-93cc-4c37ed7d2032",
   "metadata": {},
   "outputs": [],
   "source": []
  }
 ],
 "metadata": {
  "kernelspec": {
   "display_name": "Python 3",
   "language": "python",
   "name": "python3"
  },
  "language_info": {
   "codemirror_mode": {
    "name": "ipython",
    "version": 3
   },
   "file_extension": ".py",
   "mimetype": "text/x-python",
   "name": "python",
   "nbconvert_exporter": "python",
   "pygments_lexer": "ipython3",
   "version": "3.7.10"
  }
 },
 "nbformat": 4,
 "nbformat_minor": 5
}
