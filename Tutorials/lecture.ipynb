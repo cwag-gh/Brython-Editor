{
 "cells": [
  {
   "cell_type": "markdown",
   "id": "closed-indicator",
   "metadata": {},
   "source": [
    "# Output"
   ]
  },
  {
   "cell_type": "code",
   "execution_count": 1,
   "id": "prerequisite-settlement",
   "metadata": {},
   "outputs": [
    {
     "name": "stdout",
     "output_type": "stream",
     "text": [
      "Hello, World!\n"
     ]
    }
   ],
   "source": [
    "print(\"Hello, World!\")"
   ]
  },
  {
   "cell_type": "markdown",
   "id": "abroad-seeker",
   "metadata": {},
   "source": [
    "- It is a ritual for beginning to study a programming language\n",
    "- `print()` is a *function*\n",
    "    - what's inside is its *parameter*\n",
    "    - what this function does is to display parameters in the *console*\n",
    "    - The mostly used function in programming, without \"one of\"\n",
    "- `\"Hello, World!\"` is a *string*\n",
    "    - String, means a string of letters, aka words.\n",
    "    - A string is a piece of data\n",
    "    - `\"\"` is used to indicate what ever inside are the content of the string"
   ]
  },
  {
   "cell_type": "markdown",
   "id": "exposed-dubai",
   "metadata": {},
   "source": [
    "# Variables"
   ]
  },
  {
   "cell_type": "code",
   "execution_count": 2,
   "id": "dangerous-august",
   "metadata": {},
   "outputs": [
    {
     "name": "stdout",
     "output_type": "stream",
     "text": [
      "Hello, World!\n",
      "Hello, World!\n"
     ]
    }
   ],
   "source": [
    "words = \"Hello, World!\"\n",
    "print(words)\n",
    "print(words)"
   ]
  },
  {
   "cell_type": "markdown",
   "id": "outstanding-retrieval",
   "metadata": {},
   "source": [
    "- `words` is a string *variable*\n",
    "    - a variable is the container of a piece of data\n",
    "    - each variable have a *type*\n",
    "        - which can be checked by `type()` function\n",
    "- The value of the variable can be *set* by `=`\n",
    "    - this `=` operation is also called *assignment*\n",
    "- The first set operation of a variable creates the variable\n",
    "    - In other programming language, this initial set operation is called *defining a variable*\n",
    "- The *value* of a variable can be *get* by calling its name, such as in `print(words)`\n",
    "    - *get* operation can be used for multiple times\n",
    "        - in contrast with `print(\"Hello, World!\")`, where `\"Hello, World!\"` disappears after the `print()` operation"
   ]
  },
  {
   "cell_type": "code",
   "execution_count": 3,
   "id": "noble-master",
   "metadata": {},
   "outputs": [
    {
     "name": "stdout",
     "output_type": "stream",
     "text": [
      "<class 'str'>\n"
     ]
    }
   ],
   "source": [
    "print(type(words))"
   ]
  },
  {
   "cell_type": "code",
   "execution_count": 4,
   "id": "tender-butler",
   "metadata": {},
   "outputs": [
    {
     "name": "stdout",
     "output_type": "stream",
     "text": [
      "10\n",
      "<class 'int'>\n",
      "3.1415926\n",
      "<class 'float'>\n",
      "6.5331852\n",
      "20.25\n"
     ]
    }
   ],
   "source": [
    "num_of_people = 10\n",
    "pi = 3.1415926\n",
    "print(num_of_people)\n",
    "print(type(num_of_people))\n",
    "print(pi)\n",
    "print(type(pi))\n",
    "print(2 * pi + 1 - (3 / 4))\n",
    "print(2 * num_of_people + 1 - (3 / 4))"
   ]
  },
  {
   "cell_type": "markdown",
   "id": "italian-rental",
   "metadata": {},
   "source": [
    "- Variables can also be numbers\n",
    "- `num_of_people` is an interger, aka whole number\n",
    "    - its type is *int*\n",
    "        - don't worry about the word *class* here, we are going to talk about that later\n",
    "- `pi` is a decimal number\n",
    "    - decimal number are called `float` in programming\n",
    "- `print()` operation can accept almost any kinds of variables, and display them in reasonable ways\n",
    "- math operations: ()+_*/ all works here\n",
    "    - `*` cannot be omitted \n",
    "    - operation order is the same as in math"
   ]
  },
  {
   "cell_type": "code",
   "execution_count": 5,
   "id": "expanded-crown",
   "metadata": {},
   "outputs": [
    {
     "name": "stdout",
     "output_type": "stream",
     "text": [
      "Hello, World! (^_^)/\n"
     ]
    }
   ],
   "source": [
    "print(words + ' (^_^)/')"
   ]
  },
  {
   "cell_type": "markdown",
   "id": "existing-pencil",
   "metadata": {},
   "source": [
    "- strings can be connected by `+` sign"
   ]
  },
  {
   "cell_type": "code",
   "execution_count": 6,
   "id": "gothic-murray",
   "metadata": {},
   "outputs": [
    {
     "name": "stdout",
     "output_type": "stream",
     "text": [
      "3.1415926\n",
      "<class 'str'>\n"
     ]
    }
   ],
   "source": [
    "print(str(pi))\n",
    "print(type(str(pi)))"
   ]
  },
  {
   "cell_type": "markdown",
   "id": "adopted-tunnel",
   "metadata": {},
   "source": [
    "* Types of variables can be converted by `typename(variable)`"
   ]
  },
  {
   "cell_type": "code",
   "execution_count": 7,
   "id": "aboriginal-softball",
   "metadata": {},
   "outputs": [
    {
     "name": "stdout",
     "output_type": "stream",
     "text": [
      "pi = 3.1415926\n"
     ]
    }
   ],
   "source": [
    "print('pi = ' + str(pi))"
   ]
  },
  {
   "cell_type": "markdown",
   "id": "finished-aruba",
   "metadata": {},
   "source": [
    "- this is how we display words and numbers together\n",
    "    - first convert number number to string\n",
    "    - then connect the strings together"
   ]
  },
  {
   "cell_type": "code",
   "execution_count": 11,
   "id": "generous-fortune",
   "metadata": {},
   "outputs": [
    {
     "name": "stdout",
     "output_type": "stream",
     "text": [
      "pi = 3.1415926\n"
     ]
    }
   ],
   "source": [
    "print('pi =', pi)"
   ]
  },
  {
   "cell_type": "markdown",
   "id": "tired-charlotte",
   "metadata": {},
   "source": [
    "- print() accept multiple parameters\n",
    "    - each parameter is printed saperatly but in one line\n",
    "    - the result is connected by ' '(space)"
   ]
  },
  {
   "cell_type": "markdown",
   "id": "front-reality",
   "metadata": {},
   "source": [
    "# Inputs"
   ]
  },
  {
   "cell_type": "code",
   "execution_count": 9,
   "id": "offensive-chaos",
   "metadata": {},
   "outputs": [
    {
     "name": "stdin",
     "output_type": "stream",
     "text": [
      "what is the radius: 10\n"
     ]
    },
    {
     "name": "stdout",
     "output_type": "stream",
     "text": [
      "10\n",
      "<class 'str'>\n"
     ]
    }
   ],
   "source": [
    "radius = input('what is the radius:')\n",
    "print(radius)\n",
    "print(type(radius))"
   ]
  },
  {
   "cell_type": "markdown",
   "id": "valued-celtic",
   "metadata": {},
   "source": [
    "- `input()` is a function\n",
    "    - this function has a *return value*\n",
    "    - `variable = function(parameter)` will *assign* the return value to the variable\n",
    "    - parameter is optional, but you better have one.\n",
    "        - code has two aspects\n",
    "            - for computers to run\n",
    "            - for humans to read\n",
    "                - if you don't tell the users what to input, users are going to be confused\n",
    "- *return value* of the `input()` function is always a string\n",
    "    - if you want to get a number, you can convert the type"
   ]
  },
  {
   "cell_type": "code",
   "execution_count": 10,
   "id": "binary-pharmacy",
   "metadata": {},
   "outputs": [
    {
     "name": "stdin",
     "output_type": "stream",
     "text": [
      "what is the radius: 10\n"
     ]
    },
    {
     "name": "stdout",
     "output_type": "stream",
     "text": [
      "10.0\n",
      "<class 'float'>\n"
     ]
    }
   ],
   "source": [
    "radius = float(input('what is the radius:'))\n",
    "print(radius)\n",
    "print(type(radius))"
   ]
  },
  {
   "cell_type": "code",
   "execution_count": null,
   "id": "tamil-venezuela",
   "metadata": {},
   "outputs": [],
   "source": []
  }
 ],
 "metadata": {
  "kernelspec": {
   "display_name": "Python 3",
   "language": "python",
   "name": "python3"
  },
  "language_info": {
   "codemirror_mode": {
    "name": "ipython",
    "version": 3
   },
   "file_extension": ".py",
   "mimetype": "text/x-python",
   "name": "python",
   "nbconvert_exporter": "python",
   "pygments_lexer": "ipython3",
   "version": "3.7.10"
  }
 },
 "nbformat": 4,
 "nbformat_minor": 5
}
