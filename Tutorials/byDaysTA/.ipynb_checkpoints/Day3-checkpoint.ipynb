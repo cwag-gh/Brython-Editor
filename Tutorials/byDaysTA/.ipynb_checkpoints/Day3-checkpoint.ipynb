{
 "cells": [
  {
   "cell_type": "markdown",
   "id": "4b8fea70-ac28-41b0-8adb-c371070c4f8e",
   "metadata": {},
   "source": [
    "# Lecture Note"
   ]
  },
  {
   "cell_type": "markdown",
   "id": "9f9facc3-a2d3-4c03-bc70-004106dc8726",
   "metadata": {},
   "source": [
    "## list (CRUD)"
   ]
  },
  {
   "cell_type": "markdown",
   "id": "52f38040-3582-46dd-abe8-28d1335a405a",
   "metadata": {},
   "source": [
    "### **C**reate"
   ]
  },
  {
   "cell_type": "code",
   "execution_count": 1,
   "id": "b9e1915b-68d8-46f3-bb14-b3b3e09ee651",
   "metadata": {},
   "outputs": [
    {
     "name": "stdout",
     "output_type": "stream",
     "text": [
      "[1, 2, 3]\n",
      "<class 'list'>\n"
     ]
    }
   ],
   "source": [
    "nums = [1, 2, 3]\n",
    "print(nums)\n",
    "print(type(nums))"
   ]
  },
  {
   "cell_type": "markdown",
   "id": "78f982da-c1c0-4393-a3dc-4010ad36008e",
   "metadata": {},
   "source": [
    "- create a list by `[]`\n",
    "- can be printed out directly"
   ]
  },
  {
   "cell_type": "code",
   "execution_count": 2,
   "id": "6d281144-20a2-4283-9590-7c6df67689b5",
   "metadata": {},
   "outputs": [
    {
     "name": "stdout",
     "output_type": "stream",
     "text": [
      "[]\n",
      "[1]\n",
      "[1, 2]\n"
     ]
    }
   ],
   "source": [
    "nums = []\n",
    "print(nums)\n",
    "nums.append(1)\n",
    "print(nums)\n",
    "nums.append(2)\n",
    "print(nums)"
   ]
  },
  {
   "cell_type": "markdown",
   "id": "b98a33fa-638d-469a-acc6-ff41bc453526",
   "metadata": {},
   "source": [
    "- add an item at the end by `list.append(item)`\n",
    "    - end means right when print"
   ]
  },
  {
   "cell_type": "code",
   "execution_count": 3,
   "id": "3040453a-0af9-4128-9bb1-ee0da40427b8",
   "metadata": {},
   "outputs": [
    {
     "name": "stdout",
     "output_type": "stream",
     "text": [
      "[1, 2, 3, 100, 200, 300, 400]\n"
     ]
    }
   ],
   "source": [
    "first_part = [1, 2, 3]\n",
    "last_part = [100, 200, 300, 400]\n",
    "all_parts = first_part + last_part\n",
    "print(all_parts)"
   ]
  },
  {
   "cell_type": "markdown",
   "id": "afd892b8-3f6d-4504-8e8f-3bf061d7dc9c",
   "metadata": {},
   "source": [
    "- use `+` to connect the lists"
   ]
  },
  {
   "cell_type": "markdown",
   "id": "50a1c007-f6cd-4a0e-8695-d2035acaa057",
   "metadata": {},
   "source": [
    "### **R**ead"
   ]
  },
  {
   "cell_type": "code",
   "execution_count": 4,
   "id": "3a24963a-3608-4060-99e9-65960555eb88",
   "metadata": {},
   "outputs": [
    {
     "name": "stdout",
     "output_type": "stream",
     "text": [
      "10\n",
      "20\n",
      "30\n"
     ]
    }
   ],
   "source": [
    "nums = [10, 20, 30]\n",
    "print(nums[0])\n",
    "print(nums[1])\n",
    "print(nums[2])"
   ]
  },
  {
   "cell_type": "markdown",
   "id": "5df6bb7d-af2d-49a6-9210-010abd828718",
   "metadata": {},
   "source": [
    "- index starts at 0\n",
    "- the index of last index is *length* - 1"
   ]
  },
  {
   "cell_type": "code",
   "execution_count": 5,
   "id": "7f1dc976-4a21-4e61-8601-482f20aa000e",
   "metadata": {},
   "outputs": [
    {
     "name": "stdout",
     "output_type": "stream",
     "text": [
      "30\n",
      "20\n",
      "10\n"
     ]
    }
   ],
   "source": [
    "print(nums[-1])\n",
    "print(nums[-2])\n",
    "print(nums[-3])"
   ]
  },
  {
   "cell_type": "markdown",
   "id": "e700fd00-b211-4da7-a87e-424279c4deae",
   "metadata": {},
   "source": [
    "- if use nagitive index\n",
    "    - `-1` is the last index"
   ]
  },
  {
   "cell_type": "code",
   "execution_count": 6,
   "id": "b4739552-8506-497e-8503-d0c0d90355bf",
   "metadata": {},
   "outputs": [
    {
     "name": "stdout",
     "output_type": "stream",
     "text": [
      "11\n"
     ]
    }
   ],
   "source": [
    "print(nums[0] + 1)"
   ]
  },
  {
   "cell_type": "markdown",
   "id": "7a1db824-6fc1-44bf-b478-9af85df58ff1",
   "metadata": {},
   "source": [
    "- the value of the list can be used for other operations"
   ]
  },
  {
   "cell_type": "code",
   "execution_count": 7,
   "id": "e68d942b-f8e5-4ef4-bb11-1790c9e55b96",
   "metadata": {},
   "outputs": [
    {
     "name": "stdout",
     "output_type": "stream",
     "text": [
      "<class 'int'>\n",
      "<class 'float'>\n",
      "<class 'str'>\n",
      "<class 'list'>\n",
      "0\n"
     ]
    }
   ],
   "source": [
    "misc = [1, 2.5, 'hi', [0]]\n",
    "print(type(misc[0]))\n",
    "print(type(misc[1]))\n",
    "print(type(misc[2]))\n",
    "print(type(misc[3]))\n",
    "print(misc[3][0])"
   ]
  },
  {
   "cell_type": "markdown",
   "id": "e9fa987e-292a-4d5e-8b8d-918c77f7fa1a",
   "metadata": {},
   "source": [
    "- the content of the list can be of any type\n",
    "    - even a list (nested list)\n",
    "- to read value in the inner list, you need 2 pairs of `[]`"
   ]
  },
  {
   "cell_type": "code",
   "execution_count": 8,
   "id": "07d8ddc9-524e-484c-ad40-a9d918fdc787",
   "metadata": {},
   "outputs": [
    {
     "data": {
      "text/plain": [
       "3"
      ]
     },
     "execution_count": 8,
     "metadata": {},
     "output_type": "execute_result"
    }
   ],
   "source": [
    "nums = [10, 20, 30]\n",
    "len(nums)"
   ]
  },
  {
   "cell_type": "markdown",
   "id": "f565c474-9ed4-432c-9ff8-0b00ef612c8c",
   "metadata": {},
   "source": [
    "- get the number of items in the list"
   ]
  },
  {
   "cell_type": "markdown",
   "id": "6fff0b11-1a00-4e89-80d8-2ad84300c218",
   "metadata": {},
   "source": [
    "### **U**pdate"
   ]
  },
  {
   "cell_type": "code",
   "execution_count": 9,
   "id": "c503d32f-3182-4a6a-bd35-661490041d9f",
   "metadata": {},
   "outputs": [
    {
     "name": "stdout",
     "output_type": "stream",
     "text": [
      "[10, 1000, 30]\n"
     ]
    }
   ],
   "source": [
    "nums = [10, 20, 30]\n",
    "nums[1] = 1000\n",
    "print(nums)"
   ]
  },
  {
   "cell_type": "markdown",
   "id": "1b26448c-2980-497a-9a38-10294fcede8b",
   "metadata": {},
   "source": [
    "### **D**elete"
   ]
  },
  {
   "cell_type": "code",
   "execution_count": 10,
   "id": "4ae6575f-b7e3-4f02-a983-ec64d2f23b56",
   "metadata": {},
   "outputs": [
    {
     "name": "stdout",
     "output_type": "stream",
     "text": [
      "[10, 30]\n"
     ]
    }
   ],
   "source": [
    "nums = [10, 20, 30]\n",
    "nums.pop(1)\n",
    "print(nums)"
   ]
  },
  {
   "cell_type": "markdown",
   "id": "262e47fe-5aef-4158-a0b0-3a6029b09683",
   "metadata": {},
   "source": [
    "## Help"
   ]
  },
  {
   "cell_type": "code",
   "execution_count": 11,
   "id": "6d6a4c09-c648-49b5-8b01-2b5cd0a8398c",
   "metadata": {},
   "outputs": [
    {
     "name": "stdout",
     "output_type": "stream",
     "text": [
      "Help on list object:\n",
      "\n",
      "class list(object)\n",
      " |  list(iterable=(), /)\n",
      " |  \n",
      " |  Built-in mutable sequence.\n",
      " |  \n",
      " |  If no argument is given, the constructor creates a new empty list.\n",
      " |  The argument must be an iterable if specified.\n",
      " |  \n",
      " |  Methods defined here:\n",
      " |  \n",
      " |  __add__(self, value, /)\n",
      " |      Return self+value.\n",
      " |  \n",
      " |  __contains__(self, key, /)\n",
      " |      Return key in self.\n",
      " |  \n",
      " |  __delitem__(self, key, /)\n",
      " |      Delete self[key].\n",
      " |  \n",
      " |  __eq__(self, value, /)\n",
      " |      Return self==value.\n",
      " |  \n",
      " |  __ge__(self, value, /)\n",
      " |      Return self>=value.\n",
      " |  \n",
      " |  __getattribute__(self, name, /)\n",
      " |      Return getattr(self, name).\n",
      " |  \n",
      " |  __getitem__(...)\n",
      " |      x.__getitem__(y) <==> x[y]\n",
      " |  \n",
      " |  __gt__(self, value, /)\n",
      " |      Return self>value.\n",
      " |  \n",
      " |  __iadd__(self, value, /)\n",
      " |      Implement self+=value.\n",
      " |  \n",
      " |  __imul__(self, value, /)\n",
      " |      Implement self*=value.\n",
      " |  \n",
      " |  __init__(self, /, *args, **kwargs)\n",
      " |      Initialize self.  See help(type(self)) for accurate signature.\n",
      " |  \n",
      " |  __iter__(self, /)\n",
      " |      Implement iter(self).\n",
      " |  \n",
      " |  __le__(self, value, /)\n",
      " |      Return self<=value.\n",
      " |  \n",
      " |  __len__(self, /)\n",
      " |      Return len(self).\n",
      " |  \n",
      " |  __lt__(self, value, /)\n",
      " |      Return self<value.\n",
      " |  \n",
      " |  __mul__(self, value, /)\n",
      " |      Return self*value.\n",
      " |  \n",
      " |  __ne__(self, value, /)\n",
      " |      Return self!=value.\n",
      " |  \n",
      " |  __repr__(self, /)\n",
      " |      Return repr(self).\n",
      " |  \n",
      " |  __reversed__(self, /)\n",
      " |      Return a reverse iterator over the list.\n",
      " |  \n",
      " |  __rmul__(self, value, /)\n",
      " |      Return value*self.\n",
      " |  \n",
      " |  __setitem__(self, key, value, /)\n",
      " |      Set self[key] to value.\n",
      " |  \n",
      " |  __sizeof__(self, /)\n",
      " |      Return the size of the list in memory, in bytes.\n",
      " |  \n",
      " |  append(self, object, /)\n",
      " |      Append object to the end of the list.\n",
      " |  \n",
      " |  clear(self, /)\n",
      " |      Remove all items from list.\n",
      " |  \n",
      " |  copy(self, /)\n",
      " |      Return a shallow copy of the list.\n",
      " |  \n",
      " |  count(self, value, /)\n",
      " |      Return number of occurrences of value.\n",
      " |  \n",
      " |  extend(self, iterable, /)\n",
      " |      Extend list by appending elements from the iterable.\n",
      " |  \n",
      " |  index(self, value, start=0, stop=9223372036854775807, /)\n",
      " |      Return first index of value.\n",
      " |      \n",
      " |      Raises ValueError if the value is not present.\n",
      " |  \n",
      " |  insert(self, index, object, /)\n",
      " |      Insert object before index.\n",
      " |  \n",
      " |  pop(self, index=-1, /)\n",
      " |      Remove and return item at index (default last).\n",
      " |      \n",
      " |      Raises IndexError if list is empty or index is out of range.\n",
      " |  \n",
      " |  remove(self, value, /)\n",
      " |      Remove first occurrence of value.\n",
      " |      \n",
      " |      Raises ValueError if the value is not present.\n",
      " |  \n",
      " |  reverse(self, /)\n",
      " |      Reverse *IN PLACE*.\n",
      " |  \n",
      " |  sort(self, /, *, key=None, reverse=False)\n",
      " |      Stable sort *IN PLACE*.\n",
      " |  \n",
      " |  ----------------------------------------------------------------------\n",
      " |  Static methods defined here:\n",
      " |  \n",
      " |  __new__(*args, **kwargs) from builtins.type\n",
      " |      Create and return a new object.  See help(type) for accurate signature.\n",
      " |  \n",
      " |  ----------------------------------------------------------------------\n",
      " |  Data and other attributes defined here:\n",
      " |  \n",
      " |  __hash__ = None\n",
      "\n"
     ]
    }
   ],
   "source": [
    "nums = [10, 20, 30]\n",
    "help(nums)"
   ]
  },
  {
   "cell_type": "markdown",
   "id": "1f135164-c461-4161-8f53-6688fb361832",
   "metadata": {},
   "source": [
    "---\n",
    "# Demo Project Part 1"
   ]
  },
  {
   "cell_type": "code",
   "execution_count": 12,
   "id": "bbba36b1-f387-49f7-9089-25bcbd4b92c6",
   "metadata": {},
   "outputs": [],
   "source": [
    "\"\"\"\n",
    "Demo part 1\n",
    "Batch area calculator: area of the circle\n",
    "\"\"\"\n",
    "# The pi = 3.1415926\n",
    "pi = 3.1415926\n",
    "# radius data stored in a list\n",
    "radiuses = [13, 15, 27, 3.5]\n",
    "\n",
    "#%% computation and display\n",
    "# for iterate through the list\n",
    "\n",
    "    # Math calculations: power and multiply\n",
    "    \n",
    "    # Display the output infomation"
   ]
  },
  {
   "cell_type": "code",
   "execution_count": 13,
   "id": "6b29adcb-0a83-418a-9457-42c52f48f300",
   "metadata": {},
   "outputs": [
    {
     "name": "stdout",
     "output_type": "stream",
     "text": [
      "1 The area of circle with radius 13 is 530.9291494\n",
      "2 The area of circle with radius 15 is 706.858335\n",
      "3 The area of circle with radius 27 is 2290.2210054\n",
      "4 The area of circle with radius 3.5 is 38.48450935\n"
     ]
    }
   ],
   "source": [
    "\"\"\"\n",
    "Demo part 1\n",
    "Batch area calculator: area of the circle\n",
    "\"\"\"\n",
    "# The pi = 3.1415926\n",
    "pi = 3.1415926\n",
    "# radius data stored in a list\n",
    "radiuses = [13, 15, 27, 3.5]\n",
    "\n",
    "#%% computation and display\n",
    "# for iterate through the list\n",
    "for i in range(len(radiuses)):\n",
    "    # Math calculations: power and multiply\n",
    "    area_of_circle = radiuses[i] ** 2 * pi\n",
    "    # Display the output infomation\n",
    "    print(i+1,\n",
    "        \"The area of circle\",\n",
    "        \"with radius\",\n",
    "        radiuses[i],\n",
    "        \"is\",\n",
    "        area_of_circle)"
   ]
  },
  {
   "cell_type": "markdown",
   "id": "6e1a11d3-80f1-4ad2-8145-18cefae0b1bb",
   "metadata": {},
   "source": [
    "---\n",
    "# Lecture Notes"
   ]
  },
  {
   "cell_type": "markdown",
   "id": "bf038386-9984-43a5-bc08-cc289fb8c2f3",
   "metadata": {},
   "source": [
    "## `and` and `or`"
   ]
  },
  {
   "cell_type": "code",
   "execution_count": 14,
   "id": "b321f7ca-e957-4a13-a1fb-861bfb85bd2f",
   "metadata": {},
   "outputs": [
    {
     "name": "stdout",
     "output_type": "stream",
     "text": [
      "True\n",
      "False\n",
      "False\n",
      "False\n"
     ]
    }
   ],
   "source": [
    "print(True and True)\n",
    "print(False and True)\n",
    "print(True and False)\n",
    "print(False and False)"
   ]
  },
  {
   "cell_type": "markdown",
   "id": "4911cfa9-c531-4943-998a-d4db280a0aa6",
   "metadata": {
    "tags": []
   },
   "source": [
    "- result is `True` only when both inputs are `True`"
   ]
  },
  {
   "cell_type": "code",
   "execution_count": 15,
   "id": "5fa8cd7e-aef4-455b-89d3-fa215f68f50b",
   "metadata": {},
   "outputs": [
    {
     "name": "stdout",
     "output_type": "stream",
     "text": [
      "True\n",
      "True\n",
      "True\n",
      "False\n"
     ]
    }
   ],
   "source": [
    "print(True or True)\n",
    "print(False or True)\n",
    "print(True or False)\n",
    "print(False or False)"
   ]
  },
  {
   "cell_type": "markdown",
   "id": "3ea497b1-1d89-4bf3-95c3-08374f3aa6a2",
   "metadata": {},
   "source": [
    "- result is `False` only when both inputs are `False`"
   ]
  },
  {
   "cell_type": "markdown",
   "id": "79c457b1-619e-4cd9-b0d1-bf8b5f66a218",
   "metadata": {},
   "source": [
    "---\n",
    "# Demo Project Part 2"
   ]
  },
  {
   "cell_type": "code",
   "execution_count": 16,
   "id": "bd3b1c77-7033-423d-b653-034928959bff",
   "metadata": {},
   "outputs": [],
   "source": [
    "\"\"\"\n",
    "Demo part 2\n",
    "Count the number of data within the range [0, 100]\n",
    "\"\"\"\n",
    "# radius data stored in a list\n",
    "data = [33, 119, -100, 91, 25, 19, 86, -55, 80, 59, 44, 50, 57, 60, 142, -145, 119, 39, 173, -68, -12, -7, -15, -89, -26, 103, 177, -82, 0, -40, 50, -36, 5, 29, 271, -121, 131, 35, -159, 220, -60, -22, -64, 2, 80, 136, 29, -1, 103, 76, 59, 73, 32, 45, -29, -115, -7, 10, 100, 155, -49, -6, 192, -71, -35, -39, 54, 179, 69, 25, -36, 79, 38, 137, 65, 34, -69, -179, 10, 141, 98, -4, -49, -5, -291, -75, -93, 62, 113, -10, -70, 79, -111, 115, 233, 19, 121, -46, -25, 29]\n",
    "\n",
    "# define counter\n",
    "\n",
    "# for iterate through the list\n",
    "\n",
    "    # decide if the datum satisfy the condition\n",
    "    \n",
    "        # add 1 to counter\n",
    "        \n",
    "# show result\n"
   ]
  },
  {
   "cell_type": "code",
   "execution_count": 17,
   "id": "54de0aa8-fdac-47f7-8027-d0f36a97d6b6",
   "metadata": {},
   "outputs": [
    {
     "name": "stdout",
     "output_type": "stream",
     "text": [
      "Number of data within the range [0, 100]: 40\n"
     ]
    }
   ],
   "source": [
    "\"\"\"\n",
    "Demo part 2\n",
    "Count the number of data within the range [0, 100]\n",
    "\"\"\"\n",
    "# radius data stored in a list\n",
    "data = [33, 119, -100, 91, 25, 19, 86, -55, 80, 59, 44, 50, 57, 60, 142, -145, 119, 39, 173, -68, -12, -7, -15, -89, -26, 103, 177, -82, 0, -40, 50, -36, 5, 29, 271, -121, 131, 35, -159, 220, -60, -22, -64, 2, 80, 136, 29, -1, 103, 76, 59, 73, 32, 45, -29, -115, -7, 10, 100, 155, -49, -6, 192, -71, -35, -39, 54, 179, 69, 25, -36, 79, 38, 137, 65, 34, -69, -179, 10, 141, 98, -4, -49, -5, -291, -75, -93, 62, 113, -10, -70, 79, -111, 115, 233, 19, 121, -46, -25, 29]\n",
    "\n",
    "# define counter\n",
    "counter = 0\n",
    "# for iterate through the list\n",
    "for i in range(len(data)):\n",
    "    # decide if the datum satisfy the condition\n",
    "    if data[i] >= 0 and data[i] <= 100:\n",
    "        # add 1 to counter\n",
    "        counter += 1\n",
    "# show result\n",
    "print(\"Number of data within the range [0, 100]:\", counter)"
   ]
  },
  {
   "cell_type": "code",
   "execution_count": 18,
   "id": "da0920c4-d0c8-4075-ad25-87d8f6bf429b",
   "metadata": {},
   "outputs": [
    {
     "name": "stdout",
     "output_type": "stream",
     "text": [
      "Number of data that are strictly less than 50 or strictly greater than 100: 80\n"
     ]
    }
   ],
   "source": [
    "\"\"\"\n",
    "Change the condition to count\n",
    "Count the number of data that are strictly less than 50 or strictly greater than 100\n",
    "\"\"\"\n",
    "# radius data stored in a list\n",
    "data = [33, 119, -100, 91, 25, 19, 86, -55, 80, 59, 44, 50, 57, 60, 142, -145, 119, 39, 173, -68, -12, -7, -15, -89, -26, 103, 177, -82, 0, -40, 50, -36, 5, 29, 271, -121, 131, 35, -159, 220, -60, -22, -64, 2, 80, 136, 29, -1, 103, 76, 59, 73, 32, 45, -29, -115, -7, 10, 100, 155, -49, -6, 192, -71, -35, -39, 54, 179, 69, 25, -36, 79, 38, 137, 65, 34, -69, -179, 10, 141, 98, -4, -49, -5, -291, -75, -93, 62, 113, -10, -70, 79, -111, 115, 233, 19, 121, -46, -25, 29]\n",
    "\n",
    "# define counter\n",
    "counter = 0\n",
    "# for iterate through the list\n",
    "for i in range(len(data)):\n",
    "    if data[i] < 50 or data[i] > 100: # this is the only line that is changed\n",
    "        # add 1 to counter\n",
    "        counter += 1\n",
    "# show result\n",
    "print(\"Number of data that are strictly less than 50 or strictly greater than 100:\", counter)"
   ]
  },
  {
   "cell_type": "markdown",
   "id": "2e2538aa-d131-4484-b811-5b449a58564e",
   "metadata": {},
   "source": [
    "---\n",
    "# Lecture Notes"
   ]
  },
  {
   "cell_type": "markdown",
   "id": "923952f8-413b-4eed-9300-0ee5991b4615",
   "metadata": {},
   "source": [
    "## While Loop"
   ]
  },
  {
   "cell_type": "code",
   "execution_count": 19,
   "id": "1b8ab91b-288f-425e-8d20-90a19ca10dc8",
   "metadata": {},
   "outputs": [
    {
     "name": "stdout",
     "output_type": "stream",
     "text": [
      "2\n",
      "3\n",
      "4\n",
      "5\n",
      "6\n",
      "102\n"
     ]
    }
   ],
   "source": [
    "\"\"\"\n",
    "(If time is limited skip this part)\n",
    "what is the smallest multiple of 17 that is strictly greater than 100\n",
    "\"\"\"\n",
    "multiplier = 1\n",
    "while multiplier * 17 < 100:\n",
    "    multiplier += 1\n",
    "    print(multiplier)\n",
    "print(multiplier * 17)"
   ]
  },
  {
   "cell_type": "code",
   "execution_count": 20,
   "id": "659149c9-6e9c-4438-878e-7c11b37f9165",
   "metadata": {},
   "outputs": [
    {
     "name": "stdin",
     "output_type": "stream",
     "text": [
      "Please type in anything. Type \"end\" to stop:  verfg\n",
      "Please type in anything. Type \"end\" to stop:  dsrt\n",
      "Please type in anything. Type \"end\" to stop:  btyr\n",
      "Please type in anything. Type \"end\" to stop:  end\n"
     ]
    },
    {
     "name": "stdout",
     "output_type": "stream",
     "text": [
      "while loop breaked\n"
     ]
    }
   ],
   "source": [
    "while True:\n",
    "    user_input = input('Please type in anything. Type \\\"end\\\" to stop: ')\n",
    "    if user_input == 'end':\n",
    "        break\n",
    "print('while loop breaked')"
   ]
  },
  {
   "cell_type": "markdown",
   "id": "f0b49a79-9793-4ab0-a612-96feeaa82d1f",
   "metadata": {},
   "source": [
    "- format\n",
    "    - keywords\n",
    "    - `while True` is not going to stop untill `break`\n",
    "        - usually there is an `if` condition deciding when to `break`\n",
    "    - `:`\n",
    "    - indention\n",
    "    - no empty lines\n",
    "    "
   ]
  },
  {
   "cell_type": "code",
   "execution_count": 21,
   "id": "057a7d97-f8ee-4aaa-ab38-fb2c90e658e2",
   "metadata": {},
   "outputs": [
    {
     "name": "stdin",
     "output_type": "stream",
     "text": [
      "Please type in anything. Type \"end\" to stop:  rwe\n",
      "Please type in anything. Type \"end\" to stop:  qwrrfg\n",
      "Please type in anything. Type \"end\" to stop:  end\n"
     ]
    },
    {
     "name": "stdout",
     "output_type": "stream",
     "text": [
      "while loop breaked\n",
      "['rwe', 'qwrrfg']\n"
     ]
    }
   ],
   "source": [
    "# with data record\n",
    "data = []\n",
    "while True:\n",
    "    user_input = input('Please type in anything. Type \\\"end\\\" to stop: ')\n",
    "    if user_input == 'end':\n",
    "        break\n",
    "    else:\n",
    "        data.append(user_input)\n",
    "print('while loop breaked')\n",
    "print(data)"
   ]
  },
  {
   "cell_type": "code",
   "execution_count": 22,
   "id": "7c0ed920-cb6d-49a2-95b5-bce217db7549",
   "metadata": {},
   "outputs": [
    {
     "name": "stdout",
     "output_type": "stream",
     "text": [
      "for loop\n",
      "0\n",
      "3\n",
      "6\n",
      "7\n",
      "9\n",
      "12\n",
      "14\n",
      "15\n",
      "18\n",
      "21\n",
      "24\n",
      "27\n",
      "28\n",
      "while loop\n",
      "0\n",
      "3\n",
      "6\n",
      "7\n",
      "9\n",
      "12\n",
      "14\n",
      "15\n",
      "18\n",
      "21\n"
     ]
    }
   ],
   "source": [
    "\"\"\"\n",
    "(Optional)\n",
    "Mini project comparing for and while loop\n",
    "\"\"\"\n",
    "print('for loop')\n",
    "for i in range(30):\n",
    "    if i % 3 == 0 or i % 7 == 0:\n",
    "        print(i)\n",
    "        \n",
    "print('while loop')\n",
    "counter = 0\n",
    "i = 0\n",
    "while counter < 10:\n",
    "    if i % 3 == 0 or i % 7 == 0:\n",
    "        counter += 1\n",
    "        print(i)\n",
    "    i += 1"
   ]
  },
  {
   "cell_type": "markdown",
   "id": "48aed00d-ee47-437d-8112-43503011c3b3",
   "metadata": {},
   "source": [
    "---\n",
    "# Demo Project part 3"
   ]
  },
  {
   "cell_type": "code",
   "execution_count": null,
   "id": "6f5cbfac-d8b6-44f2-96f4-c5584926daef",
   "metadata": {},
   "outputs": [],
   "source": [
    "\"\"\"\n",
    "Demo\n",
    "Batch area calculator: area of the circle\n",
    "\"\"\"\n",
    "# The pi = 3.1415926\n",
    "pi = 3.1415926\n",
    "\n",
    "#%% data acquisition\n",
    "# data container\n",
    "\n",
    "# while loop used for unkonwn number of repeat\n",
    "\n",
    "    # get input text\n",
    "    \n",
    "    # if logic to decide if ended\n",
    "    \n",
    "        # jump out of the loop\n",
    "        \n",
    "    # if not breaked add the value to list\n",
    "    \n",
    "    \n",
    "#%% computation and display\n",
    "# for iterate through the list\n",
    "for i in range(len(radiuses)):\n",
    "    # Math calculations: power and multiply\n",
    "    area_of_circle = radiuses[i] ** 2 * pi\n",
    "    # Display the output infomation\n",
    "    print(i+1,\n",
    "        \"The area of circle\",\n",
    "        \"with radius\",\n",
    "        radiuses[i],\n",
    "        \"is\",\n",
    "        area_of_circle)"
   ]
  },
  {
   "cell_type": "code",
   "execution_count": 24,
   "id": "a4ce003e-fb8d-4e4c-af55-ec01898a12e0",
   "metadata": {},
   "outputs": [
    {
     "name": "stdin",
     "output_type": "stream",
     "text": [
      "What is the radius? type \"end\" to stop:  13\n",
      "What is the radius? type \"end\" to stop:  15\n",
      "What is the radius? type \"end\" to stop:  14\n",
      "What is the radius? type \"end\" to stop:  end\n"
     ]
    },
    {
     "name": "stdout",
     "output_type": "stream",
     "text": [
      "1 The area of circle with radius 13.0 is 530.9291494\n",
      "2 The area of circle with radius 15.0 is 706.858335\n",
      "3 The area of circle with radius 14.0 is 615.7521496\n"
     ]
    }
   ],
   "source": [
    "\"\"\"\n",
    "Demo\n",
    "Batch area calculator: area of the circle\n",
    "\"\"\"\n",
    "# The pi = 3.1415926\n",
    "pi = 3.1415926\n",
    "\n",
    "#%% data acquisition\n",
    "# data container\n",
    "radiuses = []\n",
    "# while loop used for unkonwn number of repeat\n",
    "while True: # infinite loop\n",
    "    # get input text\n",
    "    text_input = input(\"What is the radius? type \\\"end\\\" to stop: \")\n",
    "    # if logic to decide if ended\n",
    "    if text_input == \"end\":\n",
    "        # jump out of the loop\n",
    "        break\n",
    "    # if not breaked add the value to list\n",
    "    radiuses.append(float(text_input))\n",
    "    \n",
    "#%% computation and display\n",
    "# for iterate through the list\n",
    "for i in range(len(radiuses)):\n",
    "    # Math calculations: power and multiply\n",
    "    area_of_circle = radiuses[i] ** 2 * pi\n",
    "    # Display the output infomation\n",
    "    print(i+1,\n",
    "        \"The area of circle\",\n",
    "        \"with radius\",\n",
    "        radiuses[i],\n",
    "        \"is\",\n",
    "        area_of_circle)"
   ]
  },
  {
   "cell_type": "markdown",
   "id": "7bba0e8d-80d8-40c5-ab7e-153f8c76ef61",
   "metadata": {},
   "source": [
    "---\n",
    "# Practice Project"
   ]
  },
  {
   "cell_type": "code",
   "execution_count": null,
   "id": "2e0fb712-0f22-4080-a8a9-2e0ed0ee68f3",
   "metadata": {},
   "outputs": [],
   "source": [
    "\"\"\"\n",
    "Practic\n",
    "Batch Unit converter\n",
    "\"\"\"\n",
    "# The convertion ratio is 453.59237 grams = 1 pound\n",
    "grams_per_pound = 453.59237\n",
    "\n",
    "#%% data acquisition\n",
    "# data container\n",
    "\n",
    "# while loop used for unkonwn number of repeat\n",
    "\n",
    "    # get input text\n",
    "    \n",
    "    # if logic to decide if ended\n",
    "    \n",
    "        # jump out of the loop\n",
    "        \n",
    "    # if not breaked add the value to list\n",
    "    \n",
    "    \n",
    "#%% computation and display\n",
    "# for iterate through the list in REVERSED order.\n",
    "\n",
    "    # Math calculations: multiply\n",
    "    \n",
    "    # Display the output infomation\n",
    "    "
   ]
  },
  {
   "cell_type": "code",
   "execution_count": 25,
   "id": "300cbe30-a584-402f-bf06-532a83dbb234",
   "metadata": {},
   "outputs": [
    {
     "name": "stdin",
     "output_type": "stream",
     "text": [
      "What is the weight in pounds:  15\n",
      "What is the weight in pounds:  16\n",
      "What is the weight in pounds:  7\n",
      "What is the weight in pounds:  end\n"
     ]
    },
    {
     "name": "stdout",
     "output_type": "stream",
     "text": [
      "3 7.0 pounds is equal to 3175.1465900000003 grams.\n",
      "2 16.0 pounds is equal to 7257.47792 grams.\n",
      "1 15.0 pounds is equal to 6803.88555 grams.\n"
     ]
    }
   ],
   "source": [
    "\"\"\"\n",
    "Practic\n",
    "Batch Unit converter\n",
    "\"\"\"\n",
    "# The convertion ratio is 453.59237 grams = 1 pound\n",
    "grams_per_pound = 453.59237\n",
    "\n",
    "#%% data acquisition\n",
    "# data container\n",
    "weight_in_pounds = []\n",
    "# while loop used for unkonwn number of repeat\n",
    "while True: # infinite loop\n",
    "    # get input text\n",
    "    text_input = input(\"What is the weight in pounds: \")\n",
    "    # if logic to decide if ended\n",
    "    if text_input == \"end\":\n",
    "        # jump out of the loop\n",
    "        break \n",
    "    # if not breaked add the value to list\n",
    "    weight_in_pounds.append(float(text_input))\n",
    "    \n",
    "#%% computation and display\n",
    "# for iterate through the list in REVERSED order.\n",
    "for i in range(len(weight_in_pounds)):\n",
    "    j = len(weight_in_pounds) - i -1\n",
    "    # Math calculations: multiply\n",
    "    weight_in_grams = weight_in_pounds[j] * grams_per_pound\n",
    "    # Display the output infomation\n",
    "    print(j+1,\n",
    "          weight_in_pounds[j],\n",
    "          \"pounds is equal to\",\n",
    "          weight_in_grams,\n",
    "          \"grams.\")"
   ]
  },
  {
   "cell_type": "code",
   "execution_count": null,
   "id": "87508688-e82c-4e02-9386-78827cec00ae",
   "metadata": {},
   "outputs": [],
   "source": []
  }
 ],
 "metadata": {
  "kernelspec": {
   "display_name": "Python 3",
   "language": "python",
   "name": "python3"
  },
  "language_info": {
   "codemirror_mode": {
    "name": "ipython",
    "version": 3
   },
   "file_extension": ".py",
   "mimetype": "text/x-python",
   "name": "python",
   "nbconvert_exporter": "python",
   "pygments_lexer": "ipython3",
   "version": "3.7.10"
  }
 },
 "nbformat": 4,
 "nbformat_minor": 5
}
