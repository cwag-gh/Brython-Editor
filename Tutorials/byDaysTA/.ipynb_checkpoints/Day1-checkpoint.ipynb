{
 "cells": [
  {
   "cell_type": "markdown",
   "id": "b1b4194d-dabb-4e67-a8c8-47f13d3a04c3",
   "metadata": {},
   "source": [
    "# Lecture Notes"
   ]
  },
  {
   "cell_type": "markdown",
   "id": "3595b8dc-74d4-4982-9b30-347527b14cd0",
   "metadata": {},
   "source": [
    "## Output"
   ]
  },
  {
   "cell_type": "code",
   "execution_count": 1,
   "id": "fe613c3c-9b32-47f0-bfdb-f7e7ce398029",
   "metadata": {},
   "outputs": [
    {
     "name": "stdout",
     "output_type": "stream",
     "text": [
      "Hello, World!\n"
     ]
    }
   ],
   "source": [
    "print(\"Hello, World!\")"
   ]
  },
  {
   "cell_type": "markdown",
   "id": "56d965ca-8895-408d-87e9-9efdedb9bf3c",
   "metadata": {},
   "source": [
    "- It is a ritual for beginning to study a programming language\n",
    "- `print()` is a *function*\n",
    "    - what's inside is its *parameter*\n",
    "    - what this function does is to display parameters in the *console*\n",
    "    - The mostly used function in programming, without \"one of\"\n",
    "- `\"Hello, World!\"` is a *string*\n",
    "    - String, means a string of letters, aka words.\n",
    "    - A string is a piece of data\n",
    "    - `\"\"` is used to indicate what ever inside are the content of the string"
   ]
  },
  {
   "cell_type": "markdown",
   "id": "df4b0da3-5732-4562-8079-57b7b23e58be",
   "metadata": {},
   "source": [
    "## Comments"
   ]
  },
  {
   "cell_type": "code",
   "execution_count": 2,
   "id": "b0793c96-8204-4b0e-addf-0c26e8f1982f",
   "metadata": {},
   "outputs": [
    {
     "name": "stdout",
     "output_type": "stream",
     "text": [
      "Hello, World!\n"
     ]
    }
   ],
   "source": [
    "print(\"Hello, World!\") # display words"
   ]
  },
  {
   "cell_type": "markdown",
   "id": "3f3319f5-c67d-4513-b59f-0b9fc4801fbb",
   "metadata": {},
   "source": [
    "- `#` is used for inline comment\n",
    "    - anything after the `#` sign is considered \"out of code\""
   ]
  },
  {
   "cell_type": "code",
   "execution_count": 3,
   "id": "17d5e6a1-d6b7-4f02-8393-1240eab94810",
   "metadata": {},
   "outputs": [],
   "source": [
    "# print(\"Hello, World!\")"
   ]
  },
  {
   "cell_type": "markdown",
   "id": "4e866c17-1cb5-408f-b8ad-382c8f78d4e4",
   "metadata": {},
   "source": [
    "- can also be used to disable a line of code\n",
    "    - very useful for debugging"
   ]
  },
  {
   "cell_type": "code",
   "execution_count": 4,
   "id": "0d7329e3-988d-4b7c-8dcd-3a206b320b55",
   "metadata": {},
   "outputs": [
    {
     "data": {
      "text/plain": [
       "'\\nparagraph\\n'"
      ]
     },
     "execution_count": 4,
     "metadata": {},
     "output_type": "execute_result"
    }
   ],
   "source": [
    "\"\"\"\n",
    "paragraph\n",
    "\"\"\""
   ]
  },
  {
   "cell_type": "markdown",
   "id": "438fffaa-172b-4e5e-81c9-e6ecb4858314",
   "metadata": {},
   "source": [
    "- multi-line comments\n",
    "    - line in between a pair of `\"\"\"` are considered \"out of code\"\n",
    "    - used for discription of the file, or part of the file"
   ]
  },
  {
   "cell_type": "markdown",
   "id": "5f2533c6-9daf-48c5-9871-6be40bd835ab",
   "metadata": {},
   "source": [
    "## Variables"
   ]
  },
  {
   "cell_type": "code",
   "execution_count": 5,
   "id": "e3923e0b-94ce-4da9-9202-df27ae22c33d",
   "metadata": {},
   "outputs": [
    {
     "name": "stdout",
     "output_type": "stream",
     "text": [
      "Hello, World!\n",
      "Hello, World!\n"
     ]
    }
   ],
   "source": [
    "words = \"Hello, World!\"\n",
    "print(words)\n",
    "print(words)"
   ]
  },
  {
   "cell_type": "markdown",
   "id": "cc5fa83b-0a6d-41db-a147-f85022e04d04",
   "metadata": {},
   "source": [
    "- `words` is a string *variable*\n",
    "    - a variable is the container of a piece of data\n",
    "    - each variable have a *type*\n",
    "        - which can be checked by `type()` function\n",
    "- The value of the variable can be *set* by `=`\n",
    "    - this `=` operation is also called *assignment*\n",
    "- The first set operation of a variable creates the variable\n",
    "    - In other programming language, this initial set operation is called *defining a variable*\n",
    "- The *value* of a variable can be *get* by calling its name, such as in `print(words)`\n",
    "    - *get* operation can be used for multiple times\n",
    "        - in contrast with `print(\"Hello, World!\")`, where `\"Hello, World!\"` disappears after the `print()` operation"
   ]
  },
  {
   "cell_type": "code",
   "execution_count": 6,
   "id": "da1799ea-e6ce-4464-893c-e6078bf321a6",
   "metadata": {},
   "outputs": [
    {
     "name": "stdout",
     "output_type": "stream",
     "text": [
      "<class 'str'>\n"
     ]
    }
   ],
   "source": [
    "print(type(words))"
   ]
  },
  {
   "cell_type": "code",
   "execution_count": 7,
   "id": "1a4003d8-01f3-4d65-959c-cb3a680252e1",
   "metadata": {},
   "outputs": [
    {
     "name": "stdout",
     "output_type": "stream",
     "text": [
      "10\n",
      "<class 'int'>\n",
      "3.1415926\n",
      "<class 'float'>\n",
      "6.5331852\n",
      "20.25\n"
     ]
    }
   ],
   "source": [
    "num_of_people = 10\n",
    "pi = 3.1415926\n",
    "print(num_of_people)\n",
    "print(type(num_of_people))\n",
    "print(pi)\n",
    "print(type(pi))\n",
    "print(2 * pi + 1 - (3 / 4))\n",
    "print(2 * num_of_people + 1 - (3 / 4))"
   ]
  },
  {
   "cell_type": "markdown",
   "id": "c41e0fa9-29a3-4628-b8d1-eefa0f8fb6cf",
   "metadata": {},
   "source": [
    "- Variables can also be numbers\n",
    "- `num_of_people` is an interger, aka whole number\n",
    "    - its type is *int*\n",
    "        - don't worry about the word *class* here, we are going to talk about that later\n",
    "- `pi` is a decimal number\n",
    "    - decimal number are called `float` in programming\n",
    "- `print()` operation can accept almost any kinds of variables, and display them in reasonable ways\n",
    "- math operations: ()+_*/ all works here\n",
    "    - `*` cannot be omitted \n",
    "    - operation order is the same as in math"
   ]
  },
  {
   "cell_type": "code",
   "execution_count": 8,
   "id": "e4934bc7-b65c-44fa-9da5-5265435ca3c5",
   "metadata": {},
   "outputs": [
    {
     "name": "stdout",
     "output_type": "stream",
     "text": [
      "Hello, World! (^_^)/\n"
     ]
    }
   ],
   "source": [
    "print(words + ' (^_^)/')"
   ]
  },
  {
   "cell_type": "markdown",
   "id": "f8975c97-315a-459c-9697-e3cc5d9bf315",
   "metadata": {},
   "source": [
    "- strings can be connected by `+` sign"
   ]
  },
  {
   "cell_type": "code",
   "execution_count": 9,
   "id": "058ae04a-0817-42a7-bd44-3090fdc70e74",
   "metadata": {},
   "outputs": [
    {
     "name": "stdout",
     "output_type": "stream",
     "text": [
      "3.1415926\n",
      "<class 'str'>\n"
     ]
    }
   ],
   "source": [
    "print(str(pi))\n",
    "print(type(str(pi)))"
   ]
  },
  {
   "cell_type": "markdown",
   "id": "3317d5cf-def7-482f-aa76-d2f6827ec188",
   "metadata": {},
   "source": [
    "* Types of variables can be converted by `typename(variable)`"
   ]
  },
  {
   "cell_type": "code",
   "execution_count": 10,
   "id": "efa563d7-4a75-4d06-8d43-12bc990e4ca8",
   "metadata": {},
   "outputs": [
    {
     "name": "stdout",
     "output_type": "stream",
     "text": [
      "pi = 3.1415926\n"
     ]
    }
   ],
   "source": [
    "print('pi = ' + str(pi))"
   ]
  },
  {
   "cell_type": "markdown",
   "id": "3d9a9829-4120-4800-bccc-b1ab65555310",
   "metadata": {},
   "source": [
    "- this is how we display words and numbers together\n",
    "    - first convert number number to string\n",
    "    - then connect the strings together"
   ]
  },
  {
   "cell_type": "code",
   "execution_count": 11,
   "id": "ac8f6e92-4535-472e-b31d-a96d3059ae4d",
   "metadata": {},
   "outputs": [
    {
     "name": "stdout",
     "output_type": "stream",
     "text": [
      "pi = 3.1415926\n"
     ]
    }
   ],
   "source": [
    "print('pi =', pi)"
   ]
  },
  {
   "cell_type": "markdown",
   "id": "11bcc552-9a60-4c7e-b64f-d5a7b75ea5d2",
   "metadata": {},
   "source": [
    "- print() accept multiple parameters\n",
    "    - each parameter is printed saperatly but in one line\n",
    "    - the result is connected by ' '(space)"
   ]
  },
  {
   "cell_type": "markdown",
   "id": "1be32128-1141-4152-8264-d7c9c83c7283",
   "metadata": {},
   "source": [
    "## Inputs"
   ]
  },
  {
   "cell_type": "code",
   "execution_count": 12,
   "id": "cd1eafbb-3abc-4346-af87-48b4d3f9a4a9",
   "metadata": {},
   "outputs": [
    {
     "name": "stdin",
     "output_type": "stream",
     "text": [
      "what is the radius: 10\n"
     ]
    },
    {
     "name": "stdout",
     "output_type": "stream",
     "text": [
      "10\n",
      "<class 'str'>\n"
     ]
    }
   ],
   "source": [
    "radius = input('what is the radius:')\n",
    "print(radius)\n",
    "print(type(radius))"
   ]
  },
  {
   "cell_type": "markdown",
   "id": "f735f3d1-85da-4be0-932f-691cdf6d5c6c",
   "metadata": {},
   "source": [
    "- `input()` is a function\n",
    "    - this function has a *return value*\n",
    "    - `variable = function(parameter)` will *assign* the return value to the variable\n",
    "    - parameter is optional, but you better have one.\n",
    "        - code has two aspects\n",
    "            - for computers to run\n",
    "            - for humans to read\n",
    "                - if you don't tell the users what to input, users are going to be confused\n",
    "- *return value* of the `input()` function is always a string\n",
    "    - if you want to get a number, you can convert the type"
   ]
  },
  {
   "cell_type": "code",
   "execution_count": 13,
   "id": "5e974708-8cfe-415e-bd50-446034031ad3",
   "metadata": {},
   "outputs": [
    {
     "name": "stdin",
     "output_type": "stream",
     "text": [
      "what is the radius: 10\n"
     ]
    },
    {
     "name": "stdout",
     "output_type": "stream",
     "text": [
      "10.0\n",
      "<class 'float'>\n"
     ]
    }
   ],
   "source": [
    "radius = float(input('what is the radius:'))\n",
    "print(radius)\n",
    "print(type(radius))"
   ]
  },
  {
   "cell_type": "markdown",
   "id": "2a47fe11-8496-43a4-a116-fb9401a199a3",
   "metadata": {},
   "source": [
    "---\n",
    "# Demo Project"
   ]
  },
  {
   "cell_type": "code",
   "execution_count": 14,
   "id": "f3049d38-7930-4403-9355-78eb8c0d84d1",
   "metadata": {},
   "outputs": [
    {
     "name": "stdin",
     "output_type": "stream",
     "text": [
      "What is the radius:  10\n"
     ]
    },
    {
     "name": "stdout",
     "output_type": "stream",
     "text": [
      "The area of circle is 314.15926\n"
     ]
    }
   ],
   "source": [
    "\"\"\"\n",
    "Demo\n",
    "Area calculator: area of the circle\n",
    "\"\"\"\n",
    "# The pi = 3.1415926\n",
    "pi = 3.1415926\n",
    "# Input prompt\n",
    "radius = float(input(\"What is the radius: \"))\n",
    "# Math calculations: power and multiply\n",
    "area = radius ** 2 * pi\n",
    "# Display the result\n",
    "print(\"The area of circle is\", area)"
   ]
  },
  {
   "cell_type": "markdown",
   "id": "8ecf1978-d3a9-4512-92b1-8ff37131e838",
   "metadata": {},
   "source": [
    "---\n",
    "# Practice Project Template"
   ]
  },
  {
   "cell_type": "code",
   "execution_count": 15,
   "id": "dd0f5317-2178-4026-b0dd-e33c1155f0a8",
   "metadata": {},
   "outputs": [],
   "source": [
    "\"\"\"\n",
    "Practice template\n",
    "Unit converter: from pounds to grams\n",
    "\"\"\"\n",
    "# The convertion ratio is 453.59237 grams = 1 pound\n",
    "grams_per_pound = 453.59237\n",
    "# Input prompt, user should input the number of pounds in the CLI\n",
    "\n",
    "# Math calculations: multiply\n",
    "\n",
    "# Display the output infomation\n"
   ]
  }
 ],
 "metadata": {
  "kernelspec": {
   "display_name": "Python 3",
   "language": "python",
   "name": "python3"
  },
  "language_info": {
   "codemirror_mode": {
    "name": "ipython",
    "version": 3
   },
   "file_extension": ".py",
   "mimetype": "text/x-python",
   "name": "python",
   "nbconvert_exporter": "python",
   "pygments_lexer": "ipython3",
   "version": "3.7.10"
  }
 },
 "nbformat": 4,
 "nbformat_minor": 5
}
