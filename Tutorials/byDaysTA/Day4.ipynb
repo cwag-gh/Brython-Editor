{
 "cells": [
  {
   "cell_type": "markdown",
   "id": "4d69c334-8682-4f18-b7c5-fa77f45bb9e9",
   "metadata": {},
   "source": [
    "# Lecture Note of function"
   ]
  },
  {
   "cell_type": "markdown",
   "id": "22db5607-0572-4f02-a66a-c9fccfb37101",
   "metadata": {},
   "source": [
    "## function\n",
    "- function is process that has a name\n",
    "    - we can repeat the process by calling that name\n",
    "- function can (but not required to) have\n",
    "    - input:\n",
    "    - output:"
   ]
  },
  {
   "cell_type": "code",
   "execution_count": 1,
   "id": "4450704c-4114-4f94-83bc-5626253d4a32",
   "metadata": {},
   "outputs": [
    {
     "data": {
      "text/plain": [
       "function"
      ]
     },
     "execution_count": 1,
     "metadata": {},
     "output_type": "execute_result"
    }
   ],
   "source": [
    "# defining a typical function\n",
    "def double(num):\n",
    "    ans = num + num\n",
    "    return ans\n",
    "\n",
    "type(double)"
   ]
  },
  {
   "cell_type": "markdown",
   "id": "2f8e9424-13bf-46f6-b6c4-06798d02981b",
   "metadata": {},
   "source": [
    "- keywords `def`, `return`\n",
    "- function name\n",
    "- `()`, with parameter names inside\n",
    "- calculations should rely on nothing but the parameters\n",
    "- `return` followed by a variable/value that is the reuslt of the function"
   ]
  },
  {
   "cell_type": "code",
   "execution_count": 2,
   "id": "7cf64bbb-e610-4072-864a-f65d5e7a4ea3",
   "metadata": {
    "tags": []
   },
   "outputs": [
    {
     "name": "stdout",
     "output_type": "stream",
     "text": [
      "20\n",
      "30\n"
     ]
    }
   ],
   "source": [
    "# calling a function\n",
    "doubled_number = double(10)\n",
    "print(doubled_number)\n",
    "print(double(15))"
   ]
  },
  {
   "cell_type": "markdown",
   "id": "c635079a-3e47-46ad-927d-d293f4dca224",
   "metadata": {},
   "source": [
    "- a function can be called for many times\n",
    "- returned value can be used in\n",
    "    - assignment\n",
    "    - computation"
   ]
  },
  {
   "cell_type": "code",
   "execution_count": 3,
   "id": "1d4a7771-cf98-411a-8fd7-4da8a57ad432",
   "metadata": {},
   "outputs": [
    {
     "name": "stdout",
     "output_type": "stream",
     "text": [
      "Hello, World!\n",
      "None\n"
     ]
    }
   ],
   "source": [
    "# functions that does not have `return`\n",
    "attempt = print('Hello, World!')\n",
    "print(attempt)"
   ]
  },
  {
   "cell_type": "code",
   "execution_count": 4,
   "id": "8ac23258-a6d5-4b71-9bf1-c4609b7c90ae",
   "metadata": {},
   "outputs": [
    {
     "name": "stdout",
     "output_type": "stream",
     "text": [
      "Hello, World!\n"
     ]
    }
   ],
   "source": [
    "# functions that does not have parameters\n",
    "def say_hi():\n",
    "    print('Hello, World!')\n",
    "\n",
    "say_hi()"
   ]
  },
  {
   "cell_type": "markdown",
   "id": "f195817a-7cd2-4f16-8570-58004e3fae13",
   "metadata": {},
   "source": [
    "---\n",
    "# Projects of function"
   ]
  },
  {
   "cell_type": "code",
   "execution_count": 5,
   "id": "44660344-5a18-48ae-95d4-f0cbd020e649",
   "metadata": {},
   "outputs": [
    {
     "name": "stdout",
     "output_type": "stream",
     "text": [
      "Help on function average in module __main__:\n",
      "\n",
      "average(data)\n",
      "    Calculate the average of data\n",
      "\n",
      "3.0\n",
      "30.0\n",
      "300.0\n"
     ]
    }
   ],
   "source": [
    "\"\"\"\n",
    "Demo\n",
    "Calculate the average\n",
    "\"\"\"\n",
    "\n",
    "# define a function called 'average'\n",
    "def average(data):\n",
    "    # add description\n",
    "    \"\"\"\n",
    "    Calculate the average of data\n",
    "    \"\"\"\n",
    "    # define a variable that hold the summation\n",
    "    summation = 0\n",
    "    # for loop iterate through the data list\n",
    "    for i in range(len(data)):\n",
    "        # add each datum to the summation\n",
    "        summation = summation + data[i]\n",
    "    # calculate the average by sum/N\n",
    "    answer = summation / len(data)\n",
    "    # return the calculated answer\n",
    "    return answer\n",
    "    \n",
    "# User code, DO NOT CHANGE\n",
    "help(average)\n",
    "print(average([1, 2, 3, 4, 5]))\n",
    "print(average([10, 20, 30, 40, 50]))\n",
    "print(average([100, 200, 300, 400, 500]))"
   ]
  },
  {
   "cell_type": "code",
   "execution_count": null,
   "id": "de08fa41-7b0e-471b-8848-f92affd49ea0",
   "metadata": {},
   "outputs": [],
   "source": [
    "\"\"\"\n",
    "Demo\n",
    "Calculate the average\n",
    "\"\"\"\n",
    "\n",
    "# define a function called 'average'\n",
    "\n",
    "    # add description\n",
    "    \"\"\"\n",
    "    \n",
    "    \"\"\"\n",
    "    # define a variable that hold the summation\n",
    "    \n",
    "    # for loop iterate through the data list\n",
    "    \n",
    "        # add each datum to the summation\n",
    "        \n",
    "    # calculate the average by sum/N\n",
    "    \n",
    "    # return the calculated answer\n",
    "    \n",
    "    \n",
    "# User code, DO NOT CHANGE\n",
    "print(average([1, 2, 3, 4, 5]))\n",
    "print(average([10, 20, 30, 40, 50]))\n",
    "print(average([100, 200, 300, 400, 500]))"
   ]
  },
  {
   "cell_type": "code",
   "execution_count": 7,
   "id": "05184aa7-3e59-4932-9ee8-ca0781672ae1",
   "metadata": {},
   "outputs": [
    {
     "name": "stdout",
     "output_type": "stream",
     "text": [
      "Help on function power in module __main__:\n",
      "\n",
      "power(base, exponent)\n",
      "    Calculate power\n",
      "\n",
      "8\n",
      "1000\n"
     ]
    }
   ],
   "source": [
    "\"\"\"\n",
    "Practice\n",
    "You are not allowed to use `**` here.\n",
    "Instead practice using `for` loop to calculate the power\n",
    "\"\"\"\n",
    "\n",
    "# define a function called 'power'\n",
    "def power(base, exponent):\n",
    "    # add description\n",
    "    \"\"\"\n",
    "    Calculate power\n",
    "    \"\"\"\n",
    "    # define a variable that hold the answer, which is the power\n",
    "    answer = 1\n",
    "    # repeat `exponent` times\n",
    "    for i in range(exponent):\n",
    "        # multiply the answer by base \n",
    "        answer = answer * base\n",
    "    # return the answer\n",
    "    return answer\n",
    "\n",
    "# User code, DO NOT CHANGE\n",
    "help(power)\n",
    "print(power(2, 3))\n",
    "print(power(10, 3))"
   ]
  },
  {
   "cell_type": "code",
   "execution_count": 8,
   "id": "78df02ef-c56d-4f7a-9cc8-998f654b039b",
   "metadata": {},
   "outputs": [
    {
     "name": "stdout",
     "output_type": "stream",
     "text": [
      "Help on function power in module __main__:\n",
      "\n",
      "power(base, exponent)\n",
      "\n",
      "None\n",
      "None\n"
     ]
    }
   ],
   "source": [
    "\"\"\"\n",
    "Practice\n",
    "You are not allowed to use `**` here.\n",
    "Instead practice using `for` loop to calculate the power\n",
    "\"\"\"\n",
    "\n",
    "# define a function called 'power'\n",
    "def power(base, exponent):\n",
    "    # add description\n",
    "    \"\"\"\n",
    "    \n",
    "    \"\"\"\n",
    "    # define a variable that hold the answer, which is the power\n",
    "    \n",
    "    # repeat `exponent` times\n",
    "    \n",
    "        # multiply the answer by base \n",
    "        \n",
    "    # return the answer\n",
    "    \n",
    "\n",
    "# User code, DO NOT CHANGE\n",
    "help(power)\n",
    "print(power(2, 3))\n",
    "print(power(10, 3))"
   ]
  },
  {
   "cell_type": "markdown",
   "id": "e6a066d5-8c05-4f63-80c4-6f9ce2883d2e",
   "metadata": {},
   "source": [
    "# Lecture Note of Dict"
   ]
  },
  {
   "cell_type": "code",
   "execution_count": 9,
   "id": "fe4ea2d0-9d8a-4a73-b101-b154ddf2e5f3",
   "metadata": {},
   "outputs": [
    {
     "name": "stdout",
     "output_type": "stream",
     "text": [
      "{'beef': 10.99, 'ham': 9.99, 'chicken': 8.99}\n",
      "{'beef': 10.99, 'ham': 9.99, 'chicken': 8.99, 'veggie': 7.99}\n"
     ]
    }
   ],
   "source": [
    "# Create\n",
    "# define\n",
    "menu = {}\n",
    "menu = {'beef': 10.99,\n",
    "        'ham': 9.99,\n",
    "       'chicken': 8.99,}\n",
    "print(menu)\n",
    "# add\n",
    "menu['veggie'] = 7.99\n",
    "print(menu)"
   ]
  },
  {
   "cell_type": "markdown",
   "id": "1957ce60-3ecf-48a9-b148-0dce15eef6b2",
   "metadata": {},
   "source": [
    "- `{}`\n",
    "- key and value\n",
    "- `,`"
   ]
  },
  {
   "cell_type": "code",
   "execution_count": 10,
   "id": "8095a1b3-d19a-4777-9164-ec87a619ba20",
   "metadata": {},
   "outputs": [
    {
     "name": "stdout",
     "output_type": "stream",
     "text": [
      "10.99\n",
      "9.3415\n"
     ]
    }
   ],
   "source": [
    "# Read\n",
    "print(menu['beef'])\n",
    "print(menu['beef'] * (1 - 0.15))"
   ]
  },
  {
   "cell_type": "code",
   "execution_count": 11,
   "id": "04cf01be-988d-4584-ac0c-8755f9373398",
   "metadata": {},
   "outputs": [
    {
     "name": "stdout",
     "output_type": "stream",
     "text": [
      "{'beef': 10.99, 'ham': 9.99, 'chicken': 8.49, 'veggie': 7.99}\n"
     ]
    }
   ],
   "source": [
    "# Read\n",
    "menu['chicken'] = 8.49\n",
    "print(menu)"
   ]
  },
  {
   "cell_type": "code",
   "execution_count": 12,
   "id": "bfc5db1c-47c5-48f6-801a-3f17c447d016",
   "metadata": {},
   "outputs": [
    {
     "name": "stdout",
     "output_type": "stream",
     "text": [
      "{'beef': 10.99, 'chicken': 8.49, 'veggie': 7.99}\n"
     ]
    }
   ],
   "source": [
    "# Delete\n",
    "menu.pop('ham')\n",
    "print(menu)"
   ]
  },
  {
   "cell_type": "code",
   "execution_count": 13,
   "id": "3c0e2f0e-5598-438f-8bb7-0a20ca47ee99",
   "metadata": {},
   "outputs": [
    {
     "name": "stdout",
     "output_type": "stream",
     "text": [
      "{1: 'hi', 1.5: [1, 10, 100], 'hi': {}}\n"
     ]
    }
   ],
   "source": [
    "misc = {}\n",
    "misc[1] = 'hi'\n",
    "misc[1.5] = [1, 10, 100]\n",
    "misc['hi'] = {}\n",
    "print(misc)"
   ]
  },
  {
   "cell_type": "markdown",
   "id": "c57c5cd4-9388-4457-aa69-ba22af65b8aa",
   "metadata": {},
   "source": [
    "- what can be used as key\n",
    "    - str, int, float\n",
    "- what cannot be used as key\n",
    "    - list, dict\n",
    "- what can be used as value\n",
    "    - whatever"
   ]
  },
  {
   "cell_type": "markdown",
   "id": "6156b397-8651-4e07-bc17-a95b7eb0569a",
   "metadata": {},
   "source": [
    "# Demo Project of dict + function"
   ]
  },
  {
   "cell_type": "code",
   "execution_count": 14,
   "id": "b31e2559-b728-4012-8dbc-a537e8d0753a",
   "metadata": {},
   "outputs": [
    {
     "name": "stdout",
     "output_type": "stream",
     "text": [
      "Help on function calculate_area in module __main__:\n",
      "\n",
      "calculate_area(length, shape)\n",
      "    Calculate the are of a geometry\n",
      "    supported shape include: 'square', 'triangle', 'pentagon', 'circle'\n",
      "    for 'square', 'triangle', 'pentagon', parameter `length` is the edge length\n",
      "    for 'circle', length is the radius length\n",
      "\n",
      "28.2743343\n",
      "15.48\n",
      "100\n",
      "1.732\n"
     ]
    }
   ],
   "source": [
    "\"\"\"\n",
    "Demo Project\n",
    "area calculator\n",
    "\"\"\"\n",
    "\n",
    "# define a function called 'calculate_area'\n",
    "def calculate_area(length, shape):\n",
    "    # add description\n",
    "    \"\"\"\n",
    "    Calculate the are of a geometry\n",
    "    supported shape include: 'square', 'triangle', 'pentagon', 'circle'\n",
    "    for 'square', 'triangle', 'pentagon', parameter `length` is the edge length\n",
    "    for 'circle', length is the radius length\n",
    "    \"\"\"\n",
    "    # convertion ration to milliliter, stored in dict\n",
    "    ratio = {\n",
    "        'square': 1,\n",
    "        'triangle': 0.433,\n",
    "        'pentagon': 1.72,\n",
    "        'circle': 3.1415927,\n",
    "    }\n",
    "    # calculate the area\n",
    "    area = length ** 2 * ratio[shape]\n",
    "    return area\n",
    "\n",
    "# User code, DO NOT CHANGE\n",
    "help(calculate_area)\n",
    "print(calculate_area(3, 'circle'))\n",
    "print(calculate_area(3, 'pentagon'))\n",
    "print(calculate_area(10, 'square'))\n",
    "print(calculate_area(2, 'triangle'))"
   ]
  },
  {
   "cell_type": "code",
   "execution_count": null,
   "id": "50fc7ba5-5214-4256-8a36-7a5124749981",
   "metadata": {},
   "outputs": [],
   "source": [
    "\"\"\"\n",
    "Demo Project\n",
    "area calculator\n",
    "\n",
    "ratio = {\n",
    "    'square': 1,\n",
    "    'triangle': 0.433,\n",
    "    'pentagon': 1.72,\n",
    "    'circle': 3.1415927,\n",
    "}\n",
    "\"\"\"\n",
    "\n",
    "\n",
    "# define a function called 'calculate_area'\n",
    "\n",
    "\n",
    "    # add description\n",
    "    \"\"\"\n",
    "    \n",
    "    \"\"\"\n",
    "    # convertion ration to milliliter, stored in dict\n",
    "    \n",
    "    # calculate the area\n",
    "    \n",
    "    # return\n",
    "\n",
    "# User code, DO NOT CHANGE\n",
    "help(calculate_area)\n",
    "print(calculate_area(3, 'circle'))\n",
    "print(calculate_area(3, 'pentagon'))\n",
    "print(calculate_area(10, 'square'))\n",
    "print(calculate_area(2, 'triangle'))"
   ]
  },
  {
   "cell_type": "code",
   "execution_count": null,
   "id": "56688469-45f9-48f6-aa9e-2f85da2b63f8",
   "metadata": {},
   "outputs": [],
   "source": []
  }
 ],
 "metadata": {
  "kernelspec": {
   "display_name": "Python 3",
   "language": "python",
   "name": "python3"
  },
  "language_info": {
   "codemirror_mode": {
    "name": "ipython",
    "version": 3
   },
   "file_extension": ".py",
   "mimetype": "text/x-python",
   "name": "python",
   "nbconvert_exporter": "python",
   "pygments_lexer": "ipython3",
   "version": "3.7.10"
  }
 },
 "nbformat": 4,
 "nbformat_minor": 5
}
