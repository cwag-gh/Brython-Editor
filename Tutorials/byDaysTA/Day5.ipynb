{
 "cells": [
  {
   "cell_type": "markdown",
   "id": "6156b397-8651-4e07-bc17-a95b7eb0569a",
   "metadata": {},
   "source": [
    "# Demo Project of dict + function"
   ]
  },
  {
   "cell_type": "code",
   "execution_count": 16,
   "id": "b31e2559-b728-4012-8dbc-a537e8d0753a",
   "metadata": {},
   "outputs": [
    {
     "name": "stdout",
     "output_type": "stream",
     "text": [
      "Help on function calculate_area in module __main__:\n",
      "\n",
      "calculate_area(length, shape)\n",
      "    Calculate the are of a geometry\n",
      "    supported shape include: 'square', 'triangle', 'pentagon', 'circle'\n",
      "    for 'square', 'triangle', 'pentagon', parameter `length` is the edge length\n",
      "    for 'circle', length is the radius length\n",
      "\n",
      "28.2743343\n",
      "15.48\n",
      "100\n",
      "1.732\n"
     ]
    }
   ],
   "source": [
    "\"\"\"\n",
    "Demo Project\n",
    "area calculator\n",
    "\"\"\"\n",
    "\n",
    "# define a function called 'calculate_area'\n",
    "def calculate_area(length, shape):\n",
    "    # add description\n",
    "    \"\"\"\n",
    "    Calculate the are of a geometry\n",
    "    supported shape include: 'square', 'triangle', 'pentagon', 'circle'\n",
    "    for 'square', 'triangle', 'pentagon', parameter `length` is the edge length\n",
    "    for 'circle', length is the radius length\n",
    "    \"\"\"\n",
    "    # convertion ration to milliliter, stored in dict\n",
    "    ratio = {\n",
    "        'square': 1,\n",
    "        'triangle': 0.433,\n",
    "        'pentagon': 1.72,\n",
    "        'circle': 3.1415927,\n",
    "    }\n",
    "    # calculate the area\n",
    "    area = length ** 2 * ratio[shape]\n",
    "    return area\n",
    "\n",
    "# User code, DO NOT CHANGE\n",
    "help(calculate_area)\n",
    "print(calculate_area(3, 'circle'))\n",
    "print(calculate_area(3, 'pentagon'))\n",
    "print(calculate_area(10, 'square'))\n",
    "print(calculate_area(2, 'triangle'))"
   ]
  },
  {
   "cell_type": "code",
   "execution_count": null,
   "id": "50fc7ba5-5214-4256-8a36-7a5124749981",
   "metadata": {},
   "outputs": [],
   "source": [
    "\"\"\"\n",
    "Demo Project\n",
    "area calculator\n",
    "\n",
    "ratio = {\n",
    "    'square': 1,\n",
    "    'triangle': 0.433,\n",
    "    'pentagon': 1.72,\n",
    "    'circle': 3.1415927,\n",
    "}\n",
    "\"\"\"\n",
    "\n",
    "\n",
    "# define a function called 'calculate_area'\n",
    "\n",
    "\n",
    "    # add description\n",
    "    \"\"\"\n",
    "    \n",
    "    \"\"\"\n",
    "    # convertion ration to milliliter, stored in dict\n",
    "    \n",
    "    # calculate the area\n",
    "    \n",
    "    # return\n",
    "\n",
    "# User code, DO NOT CHANGE\n",
    "help(calculate_area)\n",
    "print(calculate_area(3, 'circle'))\n",
    "print(calculate_area(3, 'pentagon'))\n",
    "print(calculate_area(10, 'square'))\n",
    "print(calculate_area(2, 'triangle'))"
   ]
  },
  {
   "cell_type": "markdown",
   "id": "40cbd1fb-cec8-4908-8861-9ee03980bc8c",
   "metadata": {},
   "source": [
    "# Lecture: Module"
   ]
  },
  {
   "cell_type": "code",
   "execution_count": 17,
   "id": "d158c159-85eb-4e07-9fb0-d94e2c683fb1",
   "metadata": {},
   "outputs": [],
   "source": [
    "import math"
   ]
  },
  {
   "cell_type": "code",
   "execution_count": null,
   "id": "1bb9eef7-2c19-4b2d-ba6c-e25182da10aa",
   "metadata": {},
   "outputs": [],
   "source": [
    "help(math)"
   ]
  },
  {
   "cell_type": "code",
   "execution_count": 21,
   "id": "899d44e2-4e2a-4735-8be7-184a1b2eec67",
   "metadata": {},
   "outputs": [
    {
     "data": {
      "text/plain": [
       "3"
      ]
     },
     "execution_count": 21,
     "metadata": {},
     "output_type": "execute_result"
    }
   ],
   "source": [
    "math.gcd(18, 39) # greastest common divider"
   ]
  },
  {
   "cell_type": "code",
   "execution_count": 22,
   "id": "65968009-5469-4ab1-911e-c499e051a5d2",
   "metadata": {},
   "outputs": [
    {
     "data": {
      "text/plain": [
       "2.0"
      ]
     },
     "execution_count": 22,
     "metadata": {},
     "output_type": "execute_result"
    }
   ],
   "source": [
    "math.sqrt(4)"
   ]
  },
  {
   "cell_type": "code",
   "execution_count": 23,
   "id": "76ad1032-f9ea-4449-ac09-b65639552dc7",
   "metadata": {},
   "outputs": [
    {
     "data": {
      "text/plain": [
       "5.0"
      ]
     },
     "execution_count": 23,
     "metadata": {},
     "output_type": "execute_result"
    }
   ],
   "source": [
    "math.sqrt(25)"
   ]
  },
  {
   "cell_type": "code",
   "execution_count": 24,
   "id": "6e9297ac-b527-49f4-b550-9bfbeb411f03",
   "metadata": {},
   "outputs": [
    {
     "data": {
      "text/plain": [
       "4.0"
      ]
     },
     "execution_count": 24,
     "metadata": {},
     "output_type": "execute_result"
    }
   ],
   "source": [
    "import math as ma\n",
    "ma.sqrt(16)"
   ]
  },
  {
   "cell_type": "code",
   "execution_count": 25,
   "id": "21ea3c75-f898-478c-82f0-c5067163b76e",
   "metadata": {},
   "outputs": [
    {
     "data": {
      "text/plain": [
       "10.0"
      ]
     },
     "execution_count": 25,
     "metadata": {},
     "output_type": "execute_result"
    }
   ],
   "source": [
    "from math import sqrt\n",
    "sqrt(100)"
   ]
  },
  {
   "cell_type": "markdown",
   "id": "895e8758-4b96-4f14-a7e8-fc9663c1ff50",
   "metadata": {},
   "source": [
    "# GUI Prectice\n",
    "\n",
    "html code\n",
    "```html\n",
    "shape: \n",
    "<select id=\"shape\">\n",
    "    <option value=\"triangle\">triangle</option>\n",
    "    <option value=\"square\">square</option>\n",
    "    <option value=\"pentagon\">pentagon</option>\n",
    "    <option value=\"circle\">circle</option>\n",
    "</select><br>\n",
    "length of edge or radius: <input id=\"length\" value=\"10\"><br>\n",
    "<button id=\"calculate\">calculate area</button><br>\n",
    "area: <text id=\"area\"></text>\n",
    "```\n",
    "\n",
    "python code\n",
    "```python\n",
    "from browser import document\n",
    "\n",
    "def calculate_area(event): \n",
    "    ratio = {\n",
    "        'square': 1,\n",
    "        'triangle': 0.433,\n",
    "        'pentagon': 1.72,\n",
    "        'circle': 3.1415927,\n",
    "    }\n",
    "\n",
    "    shape = document[\"shape\"].value\n",
    "    length = float(document[\"length\"].value)\n",
    "    document[\"area\"].textContent = length ** 2 * ratio[shape]\n",
    "    \n",
    "document[\"calculate\"].bind(\"click\", calculate_area)\n",
    "```"
   ]
  },
  {
   "cell_type": "code",
   "execution_count": null,
   "id": "92242370-da82-4297-995a-a36e0acdd492",
   "metadata": {},
   "outputs": [],
   "source": []
  }
 ],
 "metadata": {
  "kernelspec": {
   "display_name": "Python 3",
   "language": "python",
   "name": "python3"
  },
  "language_info": {
   "codemirror_mode": {
    "name": "ipython",
    "version": 3
   },
   "file_extension": ".py",
   "mimetype": "text/x-python",
   "name": "python",
   "nbconvert_exporter": "python",
   "pygments_lexer": "ipython3",
   "version": "3.7.10"
  }
 },
 "nbformat": 4,
 "nbformat_minor": 5
}
