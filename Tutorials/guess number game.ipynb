{
 "cells": [
  {
   "cell_type": "code",
   "execution_count": 1,
   "id": "backed-superior",
   "metadata": {},
   "outputs": [],
   "source": [
    "from random import shuffle\n",
    "class GuessNumber:\n",
    "    history = []\n",
    "    \n",
    "    def __init__(self):\n",
    "        self.answer = []\n",
    "        for i in range(10):\n",
    "            self.answer.append(i)\n",
    "        shuffle(self.answer)\n",
    "        del self.answer[4:]\n",
    "        print(self.answer) # cheating, for developer\n",
    "    \n",
    "    def compare_a(self, guess):\n",
    "        \"\"\"\n",
    "        guess: str\n",
    "        return: int: number of correct numbers in correct position\n",
    "        \"\"\"\n",
    "        counter = 0\n",
    "        for i in range(4):\n",
    "            if self.answer[i] == int(guess[i]):\n",
    "                counter += 1\n",
    "        return counter\n",
    "    \n",
    "    def compare_b(self, guess):\n",
    "        \"\"\"\n",
    "        guess: str\n",
    "        return: int: number of correct numbers in wrong position\n",
    "        \"\"\"\n",
    "        counter = 0\n",
    "        for i in range(4):\n",
    "            if int(guess[i]) in self.answer and self.answer[i] != int(guess[i]):\n",
    "                counter += 1\n",
    "        return counter\n",
    "    \n",
    "    def compare(self, guess):\n",
    "        \"\"\"\n",
    "        guess: str\n",
    "        \"\"\"\n",
    "        info = str(self.compare_a(guess)) + \"A\" + str(self.compare_b(guess)) + \"B\"\n",
    "        self.history.append([guess, info])\n",
    "        return info\n",
    "    \n",
    "    def history_str(self):\n",
    "        \"\"\"\n",
    "        return: str: history nicer format\n",
    "        \"\"\"\n",
    "        info = \"history:\\n\"\n",
    "        for i in range(len(self.history)):\n",
    "            info += str(i+1) + \": \" + self.history[i][0] + \", \" + self.history[i][1] + '\\n'\n",
    "        return info"
   ]
  },
  {
   "cell_type": "code",
   "execution_count": 2,
   "id": "eleven-causing",
   "metadata": {},
   "outputs": [
    {
     "name": "stdout",
     "output_type": "stream",
     "text": [
      "Guess Number Game\n",
      "[4, 3, 6, 9]\n",
      "Round 1\n"
     ]
    },
    {
     "name": "stdin",
     "output_type": "stream",
     "text": [
      "please input a 4 digits number without repeat:  1234\n"
     ]
    },
    {
     "name": "stdout",
     "output_type": "stream",
     "text": [
      "0A2B\n",
      "Round 2\n"
     ]
    },
    {
     "name": "stdin",
     "output_type": "stream",
     "text": [
      "please input a 4 digits number without repeat:  5678\n"
     ]
    },
    {
     "name": "stdout",
     "output_type": "stream",
     "text": [
      "0A1B\n",
      "Round 3\n"
     ]
    },
    {
     "name": "stdin",
     "output_type": "stream",
     "text": [
      "please input a 4 digits number without repeat:  4369\n"
     ]
    },
    {
     "name": "stdout",
     "output_type": "stream",
     "text": [
      "You Win! o(*￣▽￣*)o\n",
      "history:\n",
      "1: 1234, 0A2B\n",
      "2: 5678, 0A1B\n",
      "\n"
     ]
    }
   ],
   "source": [
    "print(\"Guess Number Game\")\n",
    "game = GuessNumber()\n",
    "win = False\n",
    "for i in range(10):\n",
    "    print(\"Round\", i+1)\n",
    "    guess = input('please input a 4 digits number without repeat: ')\n",
    "    if game.compare_a(guess) == 4:\n",
    "        print('You Win! o(*￣▽￣*)o')\n",
    "        win = True\n",
    "        break\n",
    "    else:\n",
    "        print(game.compare(guess))\n",
    "if not win:\n",
    "    print('You Lose。 ╮(╯▽╰)╭, the answer is: ' + str(game.answer))\n",
    "print(game.history_str())"
   ]
  },
  {
   "cell_type": "code",
   "execution_count": null,
   "id": "raising-performer",
   "metadata": {},
   "outputs": [],
   "source": []
  }
 ],
 "metadata": {
  "kernelspec": {
   "display_name": "Python 3",
   "language": "python",
   "name": "python3"
  },
  "language_info": {
   "codemirror_mode": {
    "name": "ipython",
    "version": 3
   },
   "file_extension": ".py",
   "mimetype": "text/x-python",
   "name": "python",
   "nbconvert_exporter": "python",
   "pygments_lexer": "ipython3",
   "version": "3.7.4"
  }
 },
 "nbformat": 4,
 "nbformat_minor": 5
}
